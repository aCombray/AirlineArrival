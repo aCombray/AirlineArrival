{
 "cells": [
  {
   "cell_type": "markdown",
   "metadata": {},
   "source": [
    "We choose to work on the Airline On-Time Arrivals. This is a typical binary classification problem. Let delay $>= 15$ min be positive 1 and delay $<15$ min be negative 0. We have a lot of classic models to choose from, like Logistic Regression, SVM, Linear SVM, decision tree, KNN, Gaussian Naive Bayes, Perceptron, and Random Forest. "
   ]
  },
  {
   "cell_type": "markdown",
   "metadata": {},
   "source": [
    "There are several difficulties for this project. First, there are over one hundred fields one can download. We make some simple choices here. We use UniqueCarrier to identify the airline, Origin to represent the origin airport, Dest to represent the destination airport. The choices are mainly based on the completeness of the data. We don't consider cancelled or diverted for simplicity. Secondly, there are millions of data for over three decades. We choose to focus on the year 2016. Using part of the data for training and the other part for testing, we can build a model. This model is expected to give prediction to flight delay in 2017. We expect that the model is only useful for a short period since the air traffic, technology, and administration all evolve quickly. "
   ]
  },
  {
   "cell_type": "code",
   "execution_count": 1,
   "metadata": {
    "collapsed": true
   },
   "outputs": [],
   "source": [
    "import pandas as pd\n",
    "import numpy as np\n",
    "import random as rnd\n",
    "import glob\n",
    "\n",
    "import seaborn as sns\n",
    "import matplotlib.pyplot as plt\n",
    "%matplotlib inline\n",
    "\n",
    "from sklearn.model_selection import train_test_split\n",
    "from sklearn.decomposition import PCA\n",
    "from sklearn.linear_model import LogisticRegression\n",
    "from sklearn.svm import SVC, LinearSVC\n",
    "from sklearn.tree import DecisionTreeClassifier\n",
    "from sklearn.ensemble import RandomForestClassifier\n",
    "from sklearn.neighbors import KNeighborsClassifier\n",
    "from sklearn.naive_bayes import GaussianNB\n",
    "from sklearn.linear_model import Perceptron\n",
    "from sklearn.metrics import classification_report\n",
    "from sklearn.metrics import accuracy_score"
   ]
  },
  {
   "cell_type": "markdown",
   "metadata": {},
   "source": [
    "The first step is to import 2016 data from a local folder. We have already choosen the fields when we download data from the website."
   ]
  },
  {
   "cell_type": "code",
   "execution_count": 2,
   "metadata": {
    "collapsed": false
   },
   "outputs": [],
   "source": [
    "path ='/Users/zhuyuecheng/Dropbox/MachineLearning/Jupynbs/Airline On-Time Arrivals' \n",
    "allFiles = glob.glob(path + \"/*.csv\")\n",
    "df = pd.DataFrame()\n",
    "list_ = []\n",
    "for file_ in allFiles:\n",
    "    dfs = pd.read_csv(file_,index_col='FL_DATE', parse_dates = ['FL_DATE'])\n",
    "    list_.append(dfs)\n",
    "df = pd.concat(list_)"
   ]
  },
  {
   "cell_type": "code",
   "execution_count": 3,
   "metadata": {
    "collapsed": false
   },
   "outputs": [
    {
     "data": {
      "text/html": [
       "<div>\n",
       "<table border=\"1\" class=\"dataframe\">\n",
       "  <thead>\n",
       "    <tr style=\"text-align: right;\">\n",
       "      <th></th>\n",
       "      <th>YEAR</th>\n",
       "      <th>QUARTER</th>\n",
       "      <th>MONTH</th>\n",
       "      <th>DAY_OF_MONTH</th>\n",
       "      <th>DAY_OF_WEEK</th>\n",
       "      <th>UNIQUE_CARRIER</th>\n",
       "      <th>ORIGIN</th>\n",
       "      <th>DEST</th>\n",
       "      <th>DEP_DELAY</th>\n",
       "      <th>DEP_DEL15</th>\n",
       "      <th>DEP_TIME_BLK</th>\n",
       "      <th>ARR_DELAY</th>\n",
       "      <th>ARR_DEL15</th>\n",
       "      <th>ARR_TIME_BLK</th>\n",
       "      <th>CRS_ELAPSED_TIME</th>\n",
       "      <th>FLIGHTS</th>\n",
       "      <th>DISTANCE_GROUP</th>\n",
       "      <th>Unnamed: 18</th>\n",
       "    </tr>\n",
       "    <tr>\n",
       "      <th>FL_DATE</th>\n",
       "      <th></th>\n",
       "      <th></th>\n",
       "      <th></th>\n",
       "      <th></th>\n",
       "      <th></th>\n",
       "      <th></th>\n",
       "      <th></th>\n",
       "      <th></th>\n",
       "      <th></th>\n",
       "      <th></th>\n",
       "      <th></th>\n",
       "      <th></th>\n",
       "      <th></th>\n",
       "      <th></th>\n",
       "      <th></th>\n",
       "      <th></th>\n",
       "      <th></th>\n",
       "      <th></th>\n",
       "    </tr>\n",
       "  </thead>\n",
       "  <tbody>\n",
       "    <tr>\n",
       "      <th>2016-01-06</th>\n",
       "      <td>2016</td>\n",
       "      <td>1</td>\n",
       "      <td>1</td>\n",
       "      <td>6</td>\n",
       "      <td>3</td>\n",
       "      <td>AA</td>\n",
       "      <td>DFW</td>\n",
       "      <td>DTW</td>\n",
       "      <td>-3.0</td>\n",
       "      <td>0.0</td>\n",
       "      <td>1100-1159</td>\n",
       "      <td>-6.0</td>\n",
       "      <td>0.0</td>\n",
       "      <td>1400-1459</td>\n",
       "      <td>158.0</td>\n",
       "      <td>1.0</td>\n",
       "      <td>4</td>\n",
       "      <td>NaN</td>\n",
       "    </tr>\n",
       "    <tr>\n",
       "      <th>2016-01-07</th>\n",
       "      <td>2016</td>\n",
       "      <td>1</td>\n",
       "      <td>1</td>\n",
       "      <td>7</td>\n",
       "      <td>4</td>\n",
       "      <td>AA</td>\n",
       "      <td>DFW</td>\n",
       "      <td>DTW</td>\n",
       "      <td>-4.0</td>\n",
       "      <td>0.0</td>\n",
       "      <td>1100-1159</td>\n",
       "      <td>-12.0</td>\n",
       "      <td>0.0</td>\n",
       "      <td>1400-1459</td>\n",
       "      <td>158.0</td>\n",
       "      <td>1.0</td>\n",
       "      <td>4</td>\n",
       "      <td>NaN</td>\n",
       "    </tr>\n",
       "    <tr>\n",
       "      <th>2016-01-08</th>\n",
       "      <td>2016</td>\n",
       "      <td>1</td>\n",
       "      <td>1</td>\n",
       "      <td>8</td>\n",
       "      <td>5</td>\n",
       "      <td>AA</td>\n",
       "      <td>DFW</td>\n",
       "      <td>DTW</td>\n",
       "      <td>-5.0</td>\n",
       "      <td>0.0</td>\n",
       "      <td>1100-1159</td>\n",
       "      <td>7.0</td>\n",
       "      <td>0.0</td>\n",
       "      <td>1400-1459</td>\n",
       "      <td>158.0</td>\n",
       "      <td>1.0</td>\n",
       "      <td>4</td>\n",
       "      <td>NaN</td>\n",
       "    </tr>\n",
       "    <tr>\n",
       "      <th>2016-01-09</th>\n",
       "      <td>2016</td>\n",
       "      <td>1</td>\n",
       "      <td>1</td>\n",
       "      <td>9</td>\n",
       "      <td>6</td>\n",
       "      <td>AA</td>\n",
       "      <td>DFW</td>\n",
       "      <td>DTW</td>\n",
       "      <td>2.0</td>\n",
       "      <td>0.0</td>\n",
       "      <td>1100-1159</td>\n",
       "      <td>-5.0</td>\n",
       "      <td>0.0</td>\n",
       "      <td>1400-1459</td>\n",
       "      <td>158.0</td>\n",
       "      <td>1.0</td>\n",
       "      <td>4</td>\n",
       "      <td>NaN</td>\n",
       "    </tr>\n",
       "    <tr>\n",
       "      <th>2016-01-10</th>\n",
       "      <td>2016</td>\n",
       "      <td>1</td>\n",
       "      <td>1</td>\n",
       "      <td>10</td>\n",
       "      <td>7</td>\n",
       "      <td>AA</td>\n",
       "      <td>DFW</td>\n",
       "      <td>DTW</td>\n",
       "      <td>100.0</td>\n",
       "      <td>1.0</td>\n",
       "      <td>1100-1159</td>\n",
       "      <td>113.0</td>\n",
       "      <td>1.0</td>\n",
       "      <td>1400-1459</td>\n",
       "      <td>158.0</td>\n",
       "      <td>1.0</td>\n",
       "      <td>4</td>\n",
       "      <td>NaN</td>\n",
       "    </tr>\n",
       "  </tbody>\n",
       "</table>\n",
       "</div>"
      ],
      "text/plain": [
       "            YEAR  QUARTER  MONTH  DAY_OF_MONTH  DAY_OF_WEEK UNIQUE_CARRIER  \\\n",
       "FL_DATE                                                                      \n",
       "2016-01-06  2016        1      1             6            3             AA   \n",
       "2016-01-07  2016        1      1             7            4             AA   \n",
       "2016-01-08  2016        1      1             8            5             AA   \n",
       "2016-01-09  2016        1      1             9            6             AA   \n",
       "2016-01-10  2016        1      1            10            7             AA   \n",
       "\n",
       "           ORIGIN DEST  DEP_DELAY  DEP_DEL15 DEP_TIME_BLK  ARR_DELAY  \\\n",
       "FL_DATE                                                                \n",
       "2016-01-06    DFW  DTW       -3.0        0.0    1100-1159       -6.0   \n",
       "2016-01-07    DFW  DTW       -4.0        0.0    1100-1159      -12.0   \n",
       "2016-01-08    DFW  DTW       -5.0        0.0    1100-1159        7.0   \n",
       "2016-01-09    DFW  DTW        2.0        0.0    1100-1159       -5.0   \n",
       "2016-01-10    DFW  DTW      100.0        1.0    1100-1159      113.0   \n",
       "\n",
       "            ARR_DEL15 ARR_TIME_BLK  CRS_ELAPSED_TIME  FLIGHTS  DISTANCE_GROUP  \\\n",
       "FL_DATE                                                                         \n",
       "2016-01-06        0.0    1400-1459             158.0      1.0               4   \n",
       "2016-01-07        0.0    1400-1459             158.0      1.0               4   \n",
       "2016-01-08        0.0    1400-1459             158.0      1.0               4   \n",
       "2016-01-09        0.0    1400-1459             158.0      1.0               4   \n",
       "2016-01-10        1.0    1400-1459             158.0      1.0               4   \n",
       "\n",
       "            Unnamed: 18  \n",
       "FL_DATE                  \n",
       "2016-01-06          NaN  \n",
       "2016-01-07          NaN  \n",
       "2016-01-08          NaN  \n",
       "2016-01-09          NaN  \n",
       "2016-01-10          NaN  "
      ]
     },
     "execution_count": 3,
     "metadata": {},
     "output_type": "execute_result"
    }
   ],
   "source": [
    "df.head()"
   ]
  },
  {
   "cell_type": "code",
   "execution_count": 4,
   "metadata": {
    "collapsed": false
   },
   "outputs": [
    {
     "data": {
      "text/plain": [
       "Index([u'YEAR', u'QUARTER', u'MONTH', u'DAY_OF_MONTH', u'DAY_OF_WEEK',\n",
       "       u'UNIQUE_CARRIER', u'ORIGIN', u'DEST', u'DEP_DELAY', u'DEP_DEL15',\n",
       "       u'DEP_TIME_BLK', u'ARR_DELAY', u'ARR_DEL15', u'ARR_TIME_BLK',\n",
       "       u'CRS_ELAPSED_TIME', u'FLIGHTS', u'DISTANCE_GROUP', u'Unnamed: 18'],\n",
       "      dtype='object')"
      ]
     },
     "execution_count": 4,
     "metadata": {},
     "output_type": "execute_result"
    }
   ],
   "source": [
    "df.columns"
   ]
  },
  {
   "cell_type": "code",
   "execution_count": 5,
   "metadata": {
    "collapsed": false
   },
   "outputs": [
    {
     "name": "stdout",
     "output_type": "stream",
     "text": [
      "<class 'pandas.core.frame.DataFrame'>\n",
      "DatetimeIndex: 5617658 entries, 2016-01-06 to 2016-09-29\n",
      "Data columns (total 18 columns):\n",
      "YEAR                int64\n",
      "QUARTER             int64\n",
      "MONTH               int64\n",
      "DAY_OF_MONTH        int64\n",
      "DAY_OF_WEEK         int64\n",
      "UNIQUE_CARRIER      object\n",
      "ORIGIN              object\n",
      "DEST                object\n",
      "DEP_DELAY           float64\n",
      "DEP_DEL15           float64\n",
      "DEP_TIME_BLK        object\n",
      "ARR_DELAY           float64\n",
      "ARR_DEL15           float64\n",
      "ARR_TIME_BLK        object\n",
      "CRS_ELAPSED_TIME    float64\n",
      "FLIGHTS             float64\n",
      "DISTANCE_GROUP      int64\n",
      "Unnamed: 18         float64\n",
      "dtypes: float64(7), int64(6), object(5)\n",
      "memory usage: 814.3+ MB\n"
     ]
    }
   ],
   "source": [
    "df.info()"
   ]
  },
  {
   "cell_type": "markdown",
   "metadata": {},
   "source": [
    "Drop 'Unnamed: 18'. We then change 'ARR_DEL15' and 'DEP_DEL15' to int. In order to avoid NA, we convert them to bool first as it fills in NA automatically. "
   ]
  },
  {
   "cell_type": "code",
   "execution_count": 6,
   "metadata": {
    "collapsed": false
   },
   "outputs": [
    {
     "data": {
      "text/html": [
       "<div>\n",
       "<table border=\"1\" class=\"dataframe\">\n",
       "  <thead>\n",
       "    <tr style=\"text-align: right;\">\n",
       "      <th></th>\n",
       "      <th>YEAR</th>\n",
       "      <th>QUARTER</th>\n",
       "      <th>MONTH</th>\n",
       "      <th>DAY_OF_MONTH</th>\n",
       "      <th>DAY_OF_WEEK</th>\n",
       "      <th>UNIQUE_CARRIER</th>\n",
       "      <th>ORIGIN</th>\n",
       "      <th>DEST</th>\n",
       "      <th>DEP_DELAY</th>\n",
       "      <th>DEP_DEL15</th>\n",
       "      <th>DEP_TIME_BLK</th>\n",
       "      <th>ARR_DELAY</th>\n",
       "      <th>ARR_DEL15</th>\n",
       "      <th>ARR_TIME_BLK</th>\n",
       "      <th>CRS_ELAPSED_TIME</th>\n",
       "      <th>FLIGHTS</th>\n",
       "      <th>DISTANCE_GROUP</th>\n",
       "    </tr>\n",
       "    <tr>\n",
       "      <th>FL_DATE</th>\n",
       "      <th></th>\n",
       "      <th></th>\n",
       "      <th></th>\n",
       "      <th></th>\n",
       "      <th></th>\n",
       "      <th></th>\n",
       "      <th></th>\n",
       "      <th></th>\n",
       "      <th></th>\n",
       "      <th></th>\n",
       "      <th></th>\n",
       "      <th></th>\n",
       "      <th></th>\n",
       "      <th></th>\n",
       "      <th></th>\n",
       "      <th></th>\n",
       "      <th></th>\n",
       "    </tr>\n",
       "  </thead>\n",
       "  <tbody>\n",
       "    <tr>\n",
       "      <th>2016-01-06</th>\n",
       "      <td>2016</td>\n",
       "      <td>1</td>\n",
       "      <td>1</td>\n",
       "      <td>6</td>\n",
       "      <td>3</td>\n",
       "      <td>AA</td>\n",
       "      <td>DFW</td>\n",
       "      <td>DTW</td>\n",
       "      <td>-3.0</td>\n",
       "      <td>False</td>\n",
       "      <td>1100-1159</td>\n",
       "      <td>-6.0</td>\n",
       "      <td>False</td>\n",
       "      <td>1400-1459</td>\n",
       "      <td>158.0</td>\n",
       "      <td>1.0</td>\n",
       "      <td>4</td>\n",
       "    </tr>\n",
       "    <tr>\n",
       "      <th>2016-01-07</th>\n",
       "      <td>2016</td>\n",
       "      <td>1</td>\n",
       "      <td>1</td>\n",
       "      <td>7</td>\n",
       "      <td>4</td>\n",
       "      <td>AA</td>\n",
       "      <td>DFW</td>\n",
       "      <td>DTW</td>\n",
       "      <td>-4.0</td>\n",
       "      <td>False</td>\n",
       "      <td>1100-1159</td>\n",
       "      <td>-12.0</td>\n",
       "      <td>False</td>\n",
       "      <td>1400-1459</td>\n",
       "      <td>158.0</td>\n",
       "      <td>1.0</td>\n",
       "      <td>4</td>\n",
       "    </tr>\n",
       "    <tr>\n",
       "      <th>2016-01-08</th>\n",
       "      <td>2016</td>\n",
       "      <td>1</td>\n",
       "      <td>1</td>\n",
       "      <td>8</td>\n",
       "      <td>5</td>\n",
       "      <td>AA</td>\n",
       "      <td>DFW</td>\n",
       "      <td>DTW</td>\n",
       "      <td>-5.0</td>\n",
       "      <td>False</td>\n",
       "      <td>1100-1159</td>\n",
       "      <td>7.0</td>\n",
       "      <td>False</td>\n",
       "      <td>1400-1459</td>\n",
       "      <td>158.0</td>\n",
       "      <td>1.0</td>\n",
       "      <td>4</td>\n",
       "    </tr>\n",
       "    <tr>\n",
       "      <th>2016-01-09</th>\n",
       "      <td>2016</td>\n",
       "      <td>1</td>\n",
       "      <td>1</td>\n",
       "      <td>9</td>\n",
       "      <td>6</td>\n",
       "      <td>AA</td>\n",
       "      <td>DFW</td>\n",
       "      <td>DTW</td>\n",
       "      <td>2.0</td>\n",
       "      <td>False</td>\n",
       "      <td>1100-1159</td>\n",
       "      <td>-5.0</td>\n",
       "      <td>False</td>\n",
       "      <td>1400-1459</td>\n",
       "      <td>158.0</td>\n",
       "      <td>1.0</td>\n",
       "      <td>4</td>\n",
       "    </tr>\n",
       "    <tr>\n",
       "      <th>2016-01-10</th>\n",
       "      <td>2016</td>\n",
       "      <td>1</td>\n",
       "      <td>1</td>\n",
       "      <td>10</td>\n",
       "      <td>7</td>\n",
       "      <td>AA</td>\n",
       "      <td>DFW</td>\n",
       "      <td>DTW</td>\n",
       "      <td>100.0</td>\n",
       "      <td>True</td>\n",
       "      <td>1100-1159</td>\n",
       "      <td>113.0</td>\n",
       "      <td>True</td>\n",
       "      <td>1400-1459</td>\n",
       "      <td>158.0</td>\n",
       "      <td>1.0</td>\n",
       "      <td>4</td>\n",
       "    </tr>\n",
       "  </tbody>\n",
       "</table>\n",
       "</div>"
      ],
      "text/plain": [
       "            YEAR  QUARTER  MONTH  DAY_OF_MONTH  DAY_OF_WEEK UNIQUE_CARRIER  \\\n",
       "FL_DATE                                                                      \n",
       "2016-01-06  2016        1      1             6            3             AA   \n",
       "2016-01-07  2016        1      1             7            4             AA   \n",
       "2016-01-08  2016        1      1             8            5             AA   \n",
       "2016-01-09  2016        1      1             9            6             AA   \n",
       "2016-01-10  2016        1      1            10            7             AA   \n",
       "\n",
       "           ORIGIN DEST  DEP_DELAY DEP_DEL15 DEP_TIME_BLK  ARR_DELAY ARR_DEL15  \\\n",
       "FL_DATE                                                                         \n",
       "2016-01-06    DFW  DTW       -3.0     False    1100-1159       -6.0     False   \n",
       "2016-01-07    DFW  DTW       -4.0     False    1100-1159      -12.0     False   \n",
       "2016-01-08    DFW  DTW       -5.0     False    1100-1159        7.0     False   \n",
       "2016-01-09    DFW  DTW        2.0     False    1100-1159       -5.0     False   \n",
       "2016-01-10    DFW  DTW      100.0      True    1100-1159      113.0      True   \n",
       "\n",
       "           ARR_TIME_BLK  CRS_ELAPSED_TIME  FLIGHTS  DISTANCE_GROUP  \n",
       "FL_DATE                                                             \n",
       "2016-01-06    1400-1459             158.0      1.0               4  \n",
       "2016-01-07    1400-1459             158.0      1.0               4  \n",
       "2016-01-08    1400-1459             158.0      1.0               4  \n",
       "2016-01-09    1400-1459             158.0      1.0               4  \n",
       "2016-01-10    1400-1459             158.0      1.0               4  "
      ]
     },
     "execution_count": 6,
     "metadata": {},
     "output_type": "execute_result"
    }
   ],
   "source": [
    "df = df.drop(['Unnamed: 18'], axis = 1)\n",
    "df = df.astype({'ARR_DEL15':bool, 'DEP_DEL15': bool})\n",
    "df.head()"
   ]
  },
  {
   "cell_type": "code",
   "execution_count": 7,
   "metadata": {
    "collapsed": false
   },
   "outputs": [
    {
     "data": {
      "text/html": [
       "<div>\n",
       "<table border=\"1\" class=\"dataframe\">\n",
       "  <thead>\n",
       "    <tr style=\"text-align: right;\">\n",
       "      <th></th>\n",
       "      <th>YEAR</th>\n",
       "      <th>QUARTER</th>\n",
       "      <th>MONTH</th>\n",
       "      <th>DAY_OF_MONTH</th>\n",
       "      <th>DAY_OF_WEEK</th>\n",
       "      <th>UNIQUE_CARRIER</th>\n",
       "      <th>ORIGIN</th>\n",
       "      <th>DEST</th>\n",
       "      <th>DEP_DELAY</th>\n",
       "      <th>DEP_DEL15</th>\n",
       "      <th>DEP_TIME_BLK</th>\n",
       "      <th>ARR_DELAY</th>\n",
       "      <th>ARR_DEL15</th>\n",
       "      <th>ARR_TIME_BLK</th>\n",
       "      <th>CRS_ELAPSED_TIME</th>\n",
       "      <th>FLIGHTS</th>\n",
       "      <th>DISTANCE_GROUP</th>\n",
       "    </tr>\n",
       "    <tr>\n",
       "      <th>FL_DATE</th>\n",
       "      <th></th>\n",
       "      <th></th>\n",
       "      <th></th>\n",
       "      <th></th>\n",
       "      <th></th>\n",
       "      <th></th>\n",
       "      <th></th>\n",
       "      <th></th>\n",
       "      <th></th>\n",
       "      <th></th>\n",
       "      <th></th>\n",
       "      <th></th>\n",
       "      <th></th>\n",
       "      <th></th>\n",
       "      <th></th>\n",
       "      <th></th>\n",
       "      <th></th>\n",
       "    </tr>\n",
       "  </thead>\n",
       "  <tbody>\n",
       "    <tr>\n",
       "      <th>2016-01-06</th>\n",
       "      <td>2016</td>\n",
       "      <td>1</td>\n",
       "      <td>1</td>\n",
       "      <td>6</td>\n",
       "      <td>3</td>\n",
       "      <td>AA</td>\n",
       "      <td>DFW</td>\n",
       "      <td>DTW</td>\n",
       "      <td>-3.0</td>\n",
       "      <td>0</td>\n",
       "      <td>1100-1159</td>\n",
       "      <td>-6.0</td>\n",
       "      <td>0</td>\n",
       "      <td>1400-1459</td>\n",
       "      <td>158.0</td>\n",
       "      <td>1.0</td>\n",
       "      <td>4</td>\n",
       "    </tr>\n",
       "    <tr>\n",
       "      <th>2016-01-07</th>\n",
       "      <td>2016</td>\n",
       "      <td>1</td>\n",
       "      <td>1</td>\n",
       "      <td>7</td>\n",
       "      <td>4</td>\n",
       "      <td>AA</td>\n",
       "      <td>DFW</td>\n",
       "      <td>DTW</td>\n",
       "      <td>-4.0</td>\n",
       "      <td>0</td>\n",
       "      <td>1100-1159</td>\n",
       "      <td>-12.0</td>\n",
       "      <td>0</td>\n",
       "      <td>1400-1459</td>\n",
       "      <td>158.0</td>\n",
       "      <td>1.0</td>\n",
       "      <td>4</td>\n",
       "    </tr>\n",
       "    <tr>\n",
       "      <th>2016-01-08</th>\n",
       "      <td>2016</td>\n",
       "      <td>1</td>\n",
       "      <td>1</td>\n",
       "      <td>8</td>\n",
       "      <td>5</td>\n",
       "      <td>AA</td>\n",
       "      <td>DFW</td>\n",
       "      <td>DTW</td>\n",
       "      <td>-5.0</td>\n",
       "      <td>0</td>\n",
       "      <td>1100-1159</td>\n",
       "      <td>7.0</td>\n",
       "      <td>0</td>\n",
       "      <td>1400-1459</td>\n",
       "      <td>158.0</td>\n",
       "      <td>1.0</td>\n",
       "      <td>4</td>\n",
       "    </tr>\n",
       "    <tr>\n",
       "      <th>2016-01-09</th>\n",
       "      <td>2016</td>\n",
       "      <td>1</td>\n",
       "      <td>1</td>\n",
       "      <td>9</td>\n",
       "      <td>6</td>\n",
       "      <td>AA</td>\n",
       "      <td>DFW</td>\n",
       "      <td>DTW</td>\n",
       "      <td>2.0</td>\n",
       "      <td>0</td>\n",
       "      <td>1100-1159</td>\n",
       "      <td>-5.0</td>\n",
       "      <td>0</td>\n",
       "      <td>1400-1459</td>\n",
       "      <td>158.0</td>\n",
       "      <td>1.0</td>\n",
       "      <td>4</td>\n",
       "    </tr>\n",
       "    <tr>\n",
       "      <th>2016-01-10</th>\n",
       "      <td>2016</td>\n",
       "      <td>1</td>\n",
       "      <td>1</td>\n",
       "      <td>10</td>\n",
       "      <td>7</td>\n",
       "      <td>AA</td>\n",
       "      <td>DFW</td>\n",
       "      <td>DTW</td>\n",
       "      <td>100.0</td>\n",
       "      <td>1</td>\n",
       "      <td>1100-1159</td>\n",
       "      <td>113.0</td>\n",
       "      <td>1</td>\n",
       "      <td>1400-1459</td>\n",
       "      <td>158.0</td>\n",
       "      <td>1.0</td>\n",
       "      <td>4</td>\n",
       "    </tr>\n",
       "  </tbody>\n",
       "</table>\n",
       "</div>"
      ],
      "text/plain": [
       "            YEAR  QUARTER  MONTH  DAY_OF_MONTH  DAY_OF_WEEK UNIQUE_CARRIER  \\\n",
       "FL_DATE                                                                      \n",
       "2016-01-06  2016        1      1             6            3             AA   \n",
       "2016-01-07  2016        1      1             7            4             AA   \n",
       "2016-01-08  2016        1      1             8            5             AA   \n",
       "2016-01-09  2016        1      1             9            6             AA   \n",
       "2016-01-10  2016        1      1            10            7             AA   \n",
       "\n",
       "           ORIGIN DEST  DEP_DELAY  DEP_DEL15 DEP_TIME_BLK  ARR_DELAY  \\\n",
       "FL_DATE                                                                \n",
       "2016-01-06    DFW  DTW       -3.0          0    1100-1159       -6.0   \n",
       "2016-01-07    DFW  DTW       -4.0          0    1100-1159      -12.0   \n",
       "2016-01-08    DFW  DTW       -5.0          0    1100-1159        7.0   \n",
       "2016-01-09    DFW  DTW        2.0          0    1100-1159       -5.0   \n",
       "2016-01-10    DFW  DTW      100.0          1    1100-1159      113.0   \n",
       "\n",
       "            ARR_DEL15 ARR_TIME_BLK  CRS_ELAPSED_TIME  FLIGHTS  DISTANCE_GROUP  \n",
       "FL_DATE                                                                        \n",
       "2016-01-06          0    1400-1459             158.0      1.0               4  \n",
       "2016-01-07          0    1400-1459             158.0      1.0               4  \n",
       "2016-01-08          0    1400-1459             158.0      1.0               4  \n",
       "2016-01-09          0    1400-1459             158.0      1.0               4  \n",
       "2016-01-10          1    1400-1459             158.0      1.0               4  "
      ]
     },
     "execution_count": 7,
     "metadata": {},
     "output_type": "execute_result"
    }
   ],
   "source": [
    "df = df.astype({'ARR_DEL15':int, 'DEP_DEL15': int})\n",
    "df.head()"
   ]
  },
  {
   "cell_type": "code",
   "execution_count": 8,
   "metadata": {
    "collapsed": false
   },
   "outputs": [
    {
     "data": {
      "text/plain": [
       "DatetimeIndex(['2016-01-06', '2016-01-07', '2016-01-08', '2016-01-09',\n",
       "               '2016-01-10', '2016-01-11', '2016-01-12', '2016-01-13',\n",
       "               '2016-01-14', '2016-01-15',\n",
       "               ...\n",
       "               '2016-09-28', '2016-09-28', '2016-09-28', '2016-09-28',\n",
       "               '2016-09-28', '2016-09-29', '2016-09-29', '2016-09-29',\n",
       "               '2016-09-29', '2016-09-29'],\n",
       "              dtype='datetime64[ns]', name=u'FL_DATE', length=5617658, freq=None)"
      ]
     },
     "execution_count": 8,
     "metadata": {},
     "output_type": "execute_result"
    }
   ],
   "source": [
    "df.index"
   ]
  },
  {
   "cell_type": "markdown",
   "metadata": {},
   "source": [
    "We can now explore the data. "
   ]
  },
  {
   "cell_type": "code",
   "execution_count": 11,
   "metadata": {
    "collapsed": false
   },
   "outputs": [
    {
     "data": {
      "text/plain": [
       "<matplotlib.axes._subplots.AxesSubplot at 0x118ff5410>"
      ]
     },
     "execution_count": 11,
     "metadata": {},
     "output_type": "execute_result"
    },
    {
     "data": {
      "image/png": "[encoded data removed]",
      "text/plain": [
       "<matplotlib.figure.Figure at 0x118fbda10>"
      ]
     },
     "metadata": {},
     "output_type": "display_data"
    }
   ],
   "source": [
    "delay = df['ARR_DEL15'].value_counts()\n",
    "sns.barplot(x = delay.index, y = delay.values)"
   ]
  },
  {
   "cell_type": "code",
   "execution_count": 12,
   "metadata": {
    "collapsed": false
   },
   "outputs": [
    {
     "data": {
      "text/html": [
       "<div>\n",
       "<table border=\"1\" class=\"dataframe\">\n",
       "  <thead>\n",
       "    <tr style=\"text-align: right;\">\n",
       "      <th></th>\n",
       "      <th>YEAR</th>\n",
       "      <th>QUARTER</th>\n",
       "      <th>MONTH</th>\n",
       "      <th>DAY_OF_MONTH</th>\n",
       "      <th>DAY_OF_WEEK</th>\n",
       "      <th>DEP_DELAY</th>\n",
       "      <th>ARR_DELAY</th>\n",
       "      <th>CRS_ELAPSED_TIME</th>\n",
       "      <th>FLIGHTS</th>\n",
       "      <th>DISTANCE_GROUP</th>\n",
       "    </tr>\n",
       "  </thead>\n",
       "  <tbody>\n",
       "    <tr>\n",
       "      <th>count</th>\n",
       "      <td>5617658.0</td>\n",
       "      <td>5.617658e+06</td>\n",
       "      <td>5.617658e+06</td>\n",
       "      <td>5.617658e+06</td>\n",
       "      <td>5.617658e+06</td>\n",
       "      <td>5.554202e+06</td>\n",
       "      <td>5.538145e+06</td>\n",
       "      <td>5.617652e+06</td>\n",
       "      <td>5617658.0</td>\n",
       "      <td>5.617658e+06</td>\n",
       "    </tr>\n",
       "    <tr>\n",
       "      <th>mean</th>\n",
       "      <td>2016.0</td>\n",
       "      <td>2.511934e+00</td>\n",
       "      <td>6.535810e+00</td>\n",
       "      <td>1.577741e+01</td>\n",
       "      <td>3.933906e+00</td>\n",
       "      <td>8.938011e+00</td>\n",
       "      <td>3.519290e+00</td>\n",
       "      <td>1.453971e+02</td>\n",
       "      <td>1.0</td>\n",
       "      <td>3.872194e+00</td>\n",
       "    </tr>\n",
       "    <tr>\n",
       "      <th>std</th>\n",
       "      <td>0.0</td>\n",
       "      <td>1.105887e+00</td>\n",
       "      <td>3.400847e+00</td>\n",
       "      <td>8.789841e+00</td>\n",
       "      <td>1.985502e+00</td>\n",
       "      <td>3.976306e+01</td>\n",
       "      <td>4.187332e+01</td>\n",
       "      <td>7.642798e+01</td>\n",
       "      <td>0.0</td>\n",
       "      <td>2.436703e+00</td>\n",
       "    </tr>\n",
       "    <tr>\n",
       "      <th>min</th>\n",
       "      <td>2016.0</td>\n",
       "      <td>1.000000e+00</td>\n",
       "      <td>1.000000e+00</td>\n",
       "      <td>1.000000e+00</td>\n",
       "      <td>1.000000e+00</td>\n",
       "      <td>-2.040000e+02</td>\n",
       "      <td>-1.520000e+02</td>\n",
       "      <td>5.000000e+00</td>\n",
       "      <td>1.0</td>\n",
       "      <td>1.000000e+00</td>\n",
       "    </tr>\n",
       "    <tr>\n",
       "      <th>25%</th>\n",
       "      <td>2016.0</td>\n",
       "      <td>2.000000e+00</td>\n",
       "      <td>4.000000e+00</td>\n",
       "      <td>8.000000e+00</td>\n",
       "      <td>2.000000e+00</td>\n",
       "      <td>-5.000000e+00</td>\n",
       "      <td>-1.400000e+01</td>\n",
       "      <td>8.800000e+01</td>\n",
       "      <td>1.0</td>\n",
       "      <td>2.000000e+00</td>\n",
       "    </tr>\n",
       "    <tr>\n",
       "      <th>50%</th>\n",
       "      <td>2016.0</td>\n",
       "      <td>3.000000e+00</td>\n",
       "      <td>7.000000e+00</td>\n",
       "      <td>1.600000e+01</td>\n",
       "      <td>4.000000e+00</td>\n",
       "      <td>-2.000000e+00</td>\n",
       "      <td>-6.000000e+00</td>\n",
       "      <td>1.260000e+02</td>\n",
       "      <td>1.0</td>\n",
       "      <td>3.000000e+00</td>\n",
       "    </tr>\n",
       "    <tr>\n",
       "      <th>75%</th>\n",
       "      <td>2016.0</td>\n",
       "      <td>3.000000e+00</td>\n",
       "      <td>9.000000e+00</td>\n",
       "      <td>2.300000e+01</td>\n",
       "      <td>6.000000e+00</td>\n",
       "      <td>6.000000e+00</td>\n",
       "      <td>6.000000e+00</td>\n",
       "      <td>1.780000e+02</td>\n",
       "      <td>1.0</td>\n",
       "      <td>5.000000e+00</td>\n",
       "    </tr>\n",
       "    <tr>\n",
       "      <th>max</th>\n",
       "      <td>2016.0</td>\n",
       "      <td>4.000000e+00</td>\n",
       "      <td>1.200000e+01</td>\n",
       "      <td>3.100000e+01</td>\n",
       "      <td>7.000000e+00</td>\n",
       "      <td>2.149000e+03</td>\n",
       "      <td>2.142000e+03</td>\n",
       "      <td>7.050000e+02</td>\n",
       "      <td>1.0</td>\n",
       "      <td>1.100000e+01</td>\n",
       "    </tr>\n",
       "  </tbody>\n",
       "</table>\n",
       "</div>"
      ],
      "text/plain": [
       "            YEAR       QUARTER         MONTH  DAY_OF_MONTH   DAY_OF_WEEK  \\\n",
       "count  5617658.0  5.617658e+06  5.617658e+06  5.617658e+06  5.617658e+06   \n",
       "mean      2016.0  2.511934e+00  6.535810e+00  1.577741e+01  3.933906e+00   \n",
       "std          0.0  1.105887e+00  3.400847e+00  8.789841e+00  1.985502e+00   \n",
       "min       2016.0  1.000000e+00  1.000000e+00  1.000000e+00  1.000000e+00   \n",
       "25%       2016.0  2.000000e+00  4.000000e+00  8.000000e+00  2.000000e+00   \n",
       "50%       2016.0  3.000000e+00  7.000000e+00  1.600000e+01  4.000000e+00   \n",
       "75%       2016.0  3.000000e+00  9.000000e+00  2.300000e+01  6.000000e+00   \n",
       "max       2016.0  4.000000e+00  1.200000e+01  3.100000e+01  7.000000e+00   \n",
       "\n",
       "          DEP_DELAY     ARR_DELAY  CRS_ELAPSED_TIME    FLIGHTS  DISTANCE_GROUP  \n",
       "count  5.554202e+06  5.538145e+06      5.617652e+06  5617658.0    5.617658e+06  \n",
       "mean   8.938011e+00  3.519290e+00      1.453971e+02        1.0    3.872194e+00  \n",
       "std    3.976306e+01  4.187332e+01      7.642798e+01        0.0    2.436703e+00  \n",
       "min   -2.040000e+02 -1.520000e+02      5.000000e+00        1.0    1.000000e+00  \n",
       "25%   -5.000000e+00 -1.400000e+01      8.800000e+01        1.0    2.000000e+00  \n",
       "50%   -2.000000e+00 -6.000000e+00      1.260000e+02        1.0    3.000000e+00  \n",
       "75%    6.000000e+00  6.000000e+00      1.780000e+02        1.0    5.000000e+00  \n",
       "max    2.149000e+03  2.142000e+03      7.050000e+02        1.0    1.100000e+01  "
      ]
     },
     "execution_count": 12,
     "metadata": {},
     "output_type": "execute_result"
    }
   ],
   "source": [
    "df.describe()"
   ]
  },
  {
   "cell_type": "code",
   "execution_count": 16,
   "metadata": {
    "collapsed": false
   },
   "outputs": [
    {
     "name": "stdout",
     "output_type": "stream",
     "text": [
      "0.185798423471\n"
     ]
    }
   ],
   "source": [
    "print df[df['ARR_DEL15'] == 1]['ARR_DEL15'].count() / float(df['ARR_DEL15'].count())"
   ]
  },
  {
   "cell_type": "markdown",
   "metadata": {},
   "source": [
    "Therefore more than 80% flights are on time. "
   ]
  },
  {
   "cell_type": "code",
   "execution_count": 11,
   "metadata": {
    "collapsed": false
   },
   "outputs": [
    {
     "data": {
      "image/png": "[encoded data removed]",
      "text/plain": [
       "<matplotlib.figure.Figure at 0x11c23d1d0>"
      ]
     },
     "metadata": {},
     "output_type": "display_data"
    }
   ],
   "source": [
    "gMonth = sns.FacetGrid(df, row = 'DEP_DEL15', col = 'ARR_DEL15', size = 2.2, aspect = 1.6)\n",
    "gMonth.map(plt.hist, 'MONTH', alpha = .5, bins = 12)\n",
    "gMonth.add_legend();"
   ]
  },
  {
   "cell_type": "markdown",
   "metadata": {},
   "source": [
    "From the graph, we see arrival delay (ARR_DEL) and departure delay (DEP_DEL) are highly correlated. "
   ]
  },
  {
   "cell_type": "markdown",
   "metadata": {},
   "source": [
    "Next consider the distribution of delays in different months. "
   ]
  },
  {
   "cell_type": "code",
   "execution_count": 12,
   "metadata": {
    "collapsed": false
   },
   "outputs": [],
   "source": [
    "byMonth = df[['MONTH','DEP_DELAY','ARR_DELAY','ORIGIN','DEST']].groupby('MONTH').aggregate(np.mean)"
   ]
  },
  {
   "cell_type": "code",
   "execution_count": 13,
   "metadata": {
    "collapsed": false
   },
   "outputs": [
    {
     "name": "stdout",
     "output_type": "stream",
     "text": [
      "<class 'pandas.core.frame.DataFrame'>\n",
      "Int64Index: 12 entries, 1 to 12\n",
      "Data columns (total 2 columns):\n",
      "DEP_DELAY    12 non-null float64\n",
      "ARR_DELAY    12 non-null float64\n",
      "dtypes: float64(2)\n",
      "memory usage: 288.0 bytes\n"
     ]
    }
   ],
   "source": [
    "byMonth.info()\n"
   ]
  },
  {
   "cell_type": "code",
   "execution_count": 14,
   "metadata": {
    "collapsed": false
   },
   "outputs": [
    {
     "data": {
      "text/plain": [
       "<matplotlib.axes._subplots.AxesSubplot at 0x11c283f10>"
      ]
     },
     "execution_count": 14,
     "metadata": {},
     "output_type": "execute_result"
    },
    {
     "data": {
      "image/png": "[encoded data removed]",
      "text/plain": [
       "<matplotlib.figure.Figure at 0x121a95ad0>"
      ]
     },
     "metadata": {},
     "output_type": "display_data"
    }
   ],
   "source": [
    "byMonth['DEP_DELAY'].plot(kind = 'bar')"
   ]
  },
  {
   "cell_type": "code",
   "execution_count": 15,
   "metadata": {
    "collapsed": false
   },
   "outputs": [
    {
     "data": {
      "text/plain": [
       "<matplotlib.axes._subplots.AxesSubplot at 0x11c283ed0>"
      ]
     },
     "execution_count": 15,
     "metadata": {},
     "output_type": "execute_result"
    },
    {
     "data": {
      "image/png": "[encoded data removed]",
      "text/plain": [
       "<matplotlib.figure.Figure at 0x11c604c10>"
      ]
     },
     "metadata": {},
     "output_type": "display_data"
    }
   ],
   "source": [
    "byMonth['ARR_DELAY'].plot(kind = 'bar')"
   ]
  },
  {
   "cell_type": "markdown",
   "metadata": {},
   "source": [
    "As we can see Jun, Jul, Aug. This is not surprising since summer is the traveling season. There are also a lot of delays in December since it is the holiday season. The cold winter might also contribute to the delays. Sep, Oct, and Nov are the months with fewest delays(in terms of delay time). "
   ]
  },
  {
   "cell_type": "markdown",
   "metadata": {},
   "source": [
    "We now compare the delay time for different departure hours. "
   ]
  },
  {
   "cell_type": "code",
   "execution_count": 16,
   "metadata": {
    "collapsed": false
   },
   "outputs": [
    {
     "data": {
      "text/html": [
       "<div>\n",
       "<table border=\"1\" class=\"dataframe\">\n",
       "  <thead>\n",
       "    <tr style=\"text-align: right;\">\n",
       "      <th></th>\n",
       "      <th>DEP_DELAY</th>\n",
       "      <th>ARR_DELAY</th>\n",
       "    </tr>\n",
       "    <tr>\n",
       "      <th>DEP_TIME_BLK</th>\n",
       "      <th></th>\n",
       "      <th></th>\n",
       "    </tr>\n",
       "  </thead>\n",
       "  <tbody>\n",
       "    <tr>\n",
       "      <th>0001-0559</th>\n",
       "      <td>3.060976</td>\n",
       "      <td>-3.318028</td>\n",
       "    </tr>\n",
       "    <tr>\n",
       "      <th>0600-0659</th>\n",
       "      <td>1.792452</td>\n",
       "      <td>-3.796563</td>\n",
       "    </tr>\n",
       "    <tr>\n",
       "      <th>0700-0759</th>\n",
       "      <td>2.671695</td>\n",
       "      <td>-2.486735</td>\n",
       "    </tr>\n",
       "    <tr>\n",
       "      <th>0800-0859</th>\n",
       "      <td>3.821477</td>\n",
       "      <td>-1.534975</td>\n",
       "    </tr>\n",
       "    <tr>\n",
       "      <th>0900-0959</th>\n",
       "      <td>5.119953</td>\n",
       "      <td>-0.224518</td>\n",
       "    </tr>\n",
       "  </tbody>\n",
       "</table>\n",
       "</div>"
      ],
      "text/plain": [
       "              DEP_DELAY  ARR_DELAY\n",
       "DEP_TIME_BLK                      \n",
       "0001-0559      3.060976  -3.318028\n",
       "0600-0659      1.792452  -3.796563\n",
       "0700-0759      2.671695  -2.486735\n",
       "0800-0859      3.821477  -1.534975\n",
       "0900-0959      5.119953  -0.224518"
      ]
     },
     "execution_count": 16,
     "metadata": {},
     "output_type": "execute_result"
    }
   ],
   "source": [
    "byHour = df[['DEP_TIME_BLK','DEP_DELAY','ARR_DELAY']].groupby('DEP_TIME_BLK').aggregate(np.mean)\n",
    "byHour.head()"
   ]
  },
  {
   "cell_type": "code",
   "execution_count": 17,
   "metadata": {
    "collapsed": false
   },
   "outputs": [
    {
     "data": {
      "text/plain": [
       "<matplotlib.axes._subplots.AxesSubplot at 0x11c5eaa90>"
      ]
     },
     "execution_count": 17,
     "metadata": {},
     "output_type": "execute_result"
    },
    {
     "data": {
      "image/png": "[encoded data removed]",
      "text/plain": [
       "<matplotlib.figure.Figure at 0x11c767c50>"
      ]
     },
     "metadata": {},
     "output_type": "display_data"
    }
   ],
   "source": [
    "byHour['DEP_DELAY'].plot(kind = 'bar')"
   ]
  },
  {
   "cell_type": "code",
   "execution_count": 18,
   "metadata": {
    "collapsed": false
   },
   "outputs": [
    {
     "data": {
      "text/plain": [
       "<matplotlib.axes._subplots.AxesSubplot at 0x11ed192d0>"
      ]
     },
     "execution_count": 18,
     "metadata": {},
     "output_type": "execute_result"
    },
    {
     "data": {
      "image/png": "[encoded data removed]",
      "text/plain": [
       "<matplotlib.figure.Figure at 0x11c2831d0>"
      ]
     },
     "metadata": {},
     "output_type": "display_data"
    }
   ],
   "source": [
    "byHour['ARR_DELAY'].plot(kind = 'bar')"
   ]
  },
  {
   "cell_type": "markdown",
   "metadata": {},
   "source": [
    "This shows that the delays generally get worse towards the end of the day. We think this is partly due to the possiblilties that delays propagate. The peak is around 18:00 - 20:00, the rush hours. "
   ]
  },
  {
   "cell_type": "code",
   "execution_count": 19,
   "metadata": {
    "collapsed": false
   },
   "outputs": [
    {
     "data": {
      "text/html": [
       "<div>\n",
       "<table border=\"1\" class=\"dataframe\">\n",
       "  <thead>\n",
       "    <tr style=\"text-align: right;\">\n",
       "      <th></th>\n",
       "      <th>DEP_DELAY</th>\n",
       "      <th>ARR_DELAY</th>\n",
       "    </tr>\n",
       "    <tr>\n",
       "      <th>DEP_TIME_BLK</th>\n",
       "      <th></th>\n",
       "      <th></th>\n",
       "    </tr>\n",
       "  </thead>\n",
       "  <tbody>\n",
       "    <tr>\n",
       "      <th>0001-0559</th>\n",
       "      <td>3.060976</td>\n",
       "      <td>-3.318028</td>\n",
       "    </tr>\n",
       "    <tr>\n",
       "      <th>0600-0659</th>\n",
       "      <td>1.792452</td>\n",
       "      <td>-3.796563</td>\n",
       "    </tr>\n",
       "    <tr>\n",
       "      <th>0700-0759</th>\n",
       "      <td>2.671695</td>\n",
       "      <td>-2.486735</td>\n",
       "    </tr>\n",
       "    <tr>\n",
       "      <th>0800-0859</th>\n",
       "      <td>3.821477</td>\n",
       "      <td>-1.534975</td>\n",
       "    </tr>\n",
       "    <tr>\n",
       "      <th>0900-0959</th>\n",
       "      <td>5.119953</td>\n",
       "      <td>-0.224518</td>\n",
       "    </tr>\n",
       "  </tbody>\n",
       "</table>\n",
       "</div>"
      ],
      "text/plain": [
       "              DEP_DELAY  ARR_DELAY\n",
       "DEP_TIME_BLK                      \n",
       "0001-0559      3.060976  -3.318028\n",
       "0600-0659      1.792452  -3.796563\n",
       "0700-0759      2.671695  -2.486735\n",
       "0800-0859      3.821477  -1.534975\n",
       "0900-0959      5.119953  -0.224518"
      ]
     },
     "execution_count": 19,
     "metadata": {},
     "output_type": "execute_result"
    }
   ],
   "source": [
    "byDayOfWeek = df[['DAY_OF_WEEK','DEP_DELAY','ARR_DELAY']].groupby('DAY_OF_WEEK').aggregate(np.mean)\n",
    "byHour.head()"
   ]
  },
  {
   "cell_type": "code",
   "execution_count": 20,
   "metadata": {
    "collapsed": false
   },
   "outputs": [
    {
     "data": {
      "text/plain": [
       "<matplotlib.axes._subplots.AxesSubplot at 0x11cb37f50>"
      ]
     },
     "execution_count": 20,
     "metadata": {},
     "output_type": "execute_result"
    },
    {
     "data": {
      "image/png": "[encoded data removed]",
      "text/plain": [
       "<matplotlib.figure.Figure at 0x11cb40310>"
      ]
     },
     "metadata": {},
     "output_type": "display_data"
    }
   ],
   "source": [
    "byDayOfWeek['DEP_DELAY'].plot(kind = 'bar')"
   ]
  },
  {
   "cell_type": "code",
   "execution_count": 21,
   "metadata": {
    "collapsed": false
   },
   "outputs": [
    {
     "data": {
      "text/plain": [
       "<matplotlib.axes._subplots.AxesSubplot at 0x11c61d790>"
      ]
     },
     "execution_count": 21,
     "metadata": {},
     "output_type": "execute_result"
    },
    {
     "data": {
      "image/png": "[encoded data removed]",
      "text/plain": [
       "<matplotlib.figure.Figure at 0x11ce69250>"
      ]
     },
     "metadata": {},
     "output_type": "display_data"
    }
   ],
   "source": [
    "byDayOfWeek['ARR_DELAY'].plot(kind = 'bar')"
   ]
  },
  {
   "cell_type": "markdown",
   "metadata": {},
   "source": [
    "Therefore Thursday and Friday have the most delays. Saturday usually has fewer delays. "
   ]
  },
  {
   "cell_type": "code",
   "execution_count": 22,
   "metadata": {
    "collapsed": false
   },
   "outputs": [
    {
     "data": {
      "text/html": [
       "<div>\n",
       "<table border=\"1\" class=\"dataframe\">\n",
       "  <thead>\n",
       "    <tr style=\"text-align: right;\">\n",
       "      <th></th>\n",
       "      <th>DEP_DELAY</th>\n",
       "      <th>ARR_DELAY</th>\n",
       "    </tr>\n",
       "    <tr>\n",
       "      <th>DISTANCE_GROUP</th>\n",
       "      <th></th>\n",
       "      <th></th>\n",
       "    </tr>\n",
       "  </thead>\n",
       "  <tbody>\n",
       "    <tr>\n",
       "      <th>1</th>\n",
       "      <td>6.994096</td>\n",
       "      <td>4.003504</td>\n",
       "    </tr>\n",
       "    <tr>\n",
       "      <th>2</th>\n",
       "      <td>8.177389</td>\n",
       "      <td>4.262310</td>\n",
       "    </tr>\n",
       "    <tr>\n",
       "      <th>3</th>\n",
       "      <td>8.583883</td>\n",
       "      <td>3.275098</td>\n",
       "    </tr>\n",
       "    <tr>\n",
       "      <th>4</th>\n",
       "      <td>9.300376</td>\n",
       "      <td>3.615045</td>\n",
       "    </tr>\n",
       "    <tr>\n",
       "      <th>5</th>\n",
       "      <td>10.720219</td>\n",
       "      <td>4.650178</td>\n",
       "    </tr>\n",
       "  </tbody>\n",
       "</table>\n",
       "</div>"
      ],
      "text/plain": [
       "                DEP_DELAY  ARR_DELAY\n",
       "DISTANCE_GROUP                      \n",
       "1                6.994096   4.003504\n",
       "2                8.177389   4.262310\n",
       "3                8.583883   3.275098\n",
       "4                9.300376   3.615045\n",
       "5               10.720219   4.650178"
      ]
     },
     "execution_count": 22,
     "metadata": {},
     "output_type": "execute_result"
    }
   ],
   "source": [
    "byDistance = df[['DISTANCE_GROUP','DEP_DELAY','ARR_DELAY']].groupby('DISTANCE_GROUP').aggregate(np.mean)\n",
    "byDistance.head()"
   ]
  },
  {
   "cell_type": "code",
   "execution_count": 23,
   "metadata": {
    "collapsed": false
   },
   "outputs": [
    {
     "data": {
      "text/plain": [
       "<matplotlib.axes._subplots.AxesSubplot at 0x11c9b51d0>"
      ]
     },
     "execution_count": 23,
     "metadata": {},
     "output_type": "execute_result"
    },
    {
     "data": {
      "image/png": "[encoded data removed]",
      "text/plain": [
       "<matplotlib.figure.Figure at 0x11d2cf0d0>"
      ]
     },
     "metadata": {},
     "output_type": "display_data"
    }
   ],
   "source": [
    "byDistance['DEP_DELAY'].plot(kind = 'bar')"
   ]
  },
  {
   "cell_type": "code",
   "execution_count": 24,
   "metadata": {
    "collapsed": false
   },
   "outputs": [
    {
     "data": {
      "text/plain": [
       "<matplotlib.axes._subplots.AxesSubplot at 0x11ce69b90>"
      ]
     },
     "execution_count": 24,
     "metadata": {},
     "output_type": "execute_result"
    },
    {
     "data": {
      "image/png": "[encoded data removed]",
      "text/plain": [
       "<matplotlib.figure.Figure at 0x11ce69a10>"
      ]
     },
     "metadata": {},
     "output_type": "display_data"
    }
   ],
   "source": [
    "byDistance['ARR_DELAY'].plot(kind = 'bar')"
   ]
  },
  {
   "cell_type": "markdown",
   "metadata": {},
   "source": [
    "While the distance does not influence the departure delay too much, longer distance leads to less delay. This is probablity due to the practice of buffering the schedules. As there are more flexibility in long distance flights. "
   ]
  },
  {
   "cell_type": "markdown",
   "metadata": {},
   "source": [
    "Compare the delay time for different airlines"
   ]
  },
  {
   "cell_type": "code",
   "execution_count": 25,
   "metadata": {
    "collapsed": false
   },
   "outputs": [
    {
     "data": {
      "text/html": [
       "<div>\n",
       "<table border=\"1\" class=\"dataframe\">\n",
       "  <thead>\n",
       "    <tr style=\"text-align: right;\">\n",
       "      <th></th>\n",
       "      <th>DEP_DELAY</th>\n",
       "      <th>ARR_DELAY</th>\n",
       "    </tr>\n",
       "    <tr>\n",
       "      <th>UNIQUE_CARRIER</th>\n",
       "      <th></th>\n",
       "      <th></th>\n",
       "    </tr>\n",
       "  </thead>\n",
       "  <tbody>\n",
       "    <tr>\n",
       "      <th>AA</th>\n",
       "      <td>8.924917</td>\n",
       "      <td>5.085089</td>\n",
       "    </tr>\n",
       "    <tr>\n",
       "      <th>AS</th>\n",
       "      <td>0.396170</td>\n",
       "      <td>-2.197627</td>\n",
       "    </tr>\n",
       "    <tr>\n",
       "      <th>B6</th>\n",
       "      <td>13.044043</td>\n",
       "      <td>8.052638</td>\n",
       "    </tr>\n",
       "    <tr>\n",
       "      <th>DL</th>\n",
       "      <td>7.938083</td>\n",
       "      <td>-0.556192</td>\n",
       "    </tr>\n",
       "    <tr>\n",
       "      <th>EV</th>\n",
       "      <td>9.605870</td>\n",
       "      <td>5.439869</td>\n",
       "    </tr>\n",
       "  </tbody>\n",
       "</table>\n",
       "</div>"
      ],
      "text/plain": [
       "                DEP_DELAY  ARR_DELAY\n",
       "UNIQUE_CARRIER                      \n",
       "AA               8.924917   5.085089\n",
       "AS               0.396170  -2.197627\n",
       "B6              13.044043   8.052638\n",
       "DL               7.938083  -0.556192\n",
       "EV               9.605870   5.439869"
      ]
     },
     "execution_count": 25,
     "metadata": {},
     "output_type": "execute_result"
    }
   ],
   "source": [
    "byAirLine = df[['UNIQUE_CARRIER','DEP_DELAY','ARR_DELAY']].groupby('UNIQUE_CARRIER').aggregate(np.mean)\n",
    "byAirLine.head()"
   ]
  },
  {
   "cell_type": "code",
   "execution_count": 26,
   "metadata": {
    "collapsed": false
   },
   "outputs": [
    {
     "data": {
      "text/plain": [
       "<matplotlib.axes._subplots.AxesSubplot at 0x11ea644d0>"
      ]
     },
     "execution_count": 26,
     "metadata": {},
     "output_type": "execute_result"
    },
    {
     "data": {
      "image/png": "[encoded data removed]",
      "text/plain": [
       "<matplotlib.figure.Figure at 0x11ea64a90>"
      ]
     },
     "metadata": {},
     "output_type": "display_data"
    }
   ],
   "source": [
    "byAirLine['DEP_DELAY'].plot(kind = 'bar')"
   ]
  },
  {
   "cell_type": "code",
   "execution_count": 27,
   "metadata": {
    "collapsed": false
   },
   "outputs": [
    {
     "data": {
      "text/plain": [
       "<matplotlib.axes._subplots.AxesSubplot at 0x11ea64890>"
      ]
     },
     "execution_count": 27,
     "metadata": {},
     "output_type": "execute_result"
    },
    {
     "data": {
      "image/png": "[encoded data removed]",
      "text/plain": [
       "<matplotlib.figure.Figure at 0x11eb62910>"
      ]
     },
     "metadata": {},
     "output_type": "display_data"
    }
   ],
   "source": [
    "byAirLine['ARR_DELAY'].plot(kind = 'bar')"
   ]
  },
  {
   "cell_type": "markdown",
   "metadata": {},
   "source": [
    "AS and HA are smaller airlines that specializes in paticular routes. That is probably why they don't have a lot delays. While other airlines are much bigger and run flights all over the country. "
   ]
  },
  {
   "cell_type": "markdown",
   "metadata": {},
   "source": [
    "Compare the delay time for different airport"
   ]
  },
  {
   "cell_type": "code",
   "execution_count": 28,
   "metadata": {
    "collapsed": false
   },
   "outputs": [
    {
     "data": {
      "text/html": [
       "<div>\n",
       "<table border=\"1\" class=\"dataframe\">\n",
       "  <thead>\n",
       "    <tr style=\"text-align: right;\">\n",
       "      <th></th>\n",
       "      <th>DEP_DELAY</th>\n",
       "      <th>ARR_DELAY</th>\n",
       "    </tr>\n",
       "    <tr>\n",
       "      <th>ORIGIN</th>\n",
       "      <th></th>\n",
       "      <th></th>\n",
       "    </tr>\n",
       "  </thead>\n",
       "  <tbody>\n",
       "    <tr>\n",
       "      <th>ABE</th>\n",
       "      <td>10.253431</td>\n",
       "      <td>4.038313</td>\n",
       "    </tr>\n",
       "    <tr>\n",
       "      <th>ABI</th>\n",
       "      <td>9.968354</td>\n",
       "      <td>10.254777</td>\n",
       "    </tr>\n",
       "    <tr>\n",
       "      <th>ABQ</th>\n",
       "      <td>8.062188</td>\n",
       "      <td>3.831237</td>\n",
       "    </tr>\n",
       "    <tr>\n",
       "      <th>ABR</th>\n",
       "      <td>5.908719</td>\n",
       "      <td>3.809004</td>\n",
       "    </tr>\n",
       "    <tr>\n",
       "      <th>ABY</th>\n",
       "      <td>7.714715</td>\n",
       "      <td>3.231231</td>\n",
       "    </tr>\n",
       "  </tbody>\n",
       "</table>\n",
       "</div>"
      ],
      "text/plain": [
       "        DEP_DELAY  ARR_DELAY\n",
       "ORIGIN                      \n",
       "ABE     10.253431   4.038313\n",
       "ABI      9.968354  10.254777\n",
       "ABQ      8.062188   3.831237\n",
       "ABR      5.908719   3.809004\n",
       "ABY      7.714715   3.231231"
      ]
     },
     "execution_count": 28,
     "metadata": {},
     "output_type": "execute_result"
    }
   ],
   "source": [
    "byORIGIN = df[['ORIGIN','DEP_DELAY','ARR_DELAY']].groupby('ORIGIN').aggregate(np.mean)\n",
    "byORIGIN.head()"
   ]
  },
  {
   "cell_type": "markdown",
   "metadata": {},
   "source": [
    "As there are too many airports (313 of them), we can only focus on a few representatives. We choose DFW(South), JFK(East), LAX(West) and ORD(Middle) to represent different geographic areas. However, they are all huge hubs. If there are more time, it is better to include some airports of different sizes as well. "
   ]
  },
  {
   "cell_type": "code",
   "execution_count": 29,
   "metadata": {
    "collapsed": false
   },
   "outputs": [
    {
     "data": {
      "text/html": [
       "<div>\n",
       "<table border=\"1\" class=\"dataframe\">\n",
       "  <thead>\n",
       "    <tr style=\"text-align: right;\">\n",
       "      <th></th>\n",
       "      <th>YEAR</th>\n",
       "      <th>QUARTER</th>\n",
       "      <th>DAY_OF_MONTH</th>\n",
       "      <th>DAY_OF_WEEK</th>\n",
       "      <th>DEP_DELAY</th>\n",
       "      <th>DEP_DEL15</th>\n",
       "      <th>ARR_DELAY</th>\n",
       "      <th>ARR_DEL15</th>\n",
       "      <th>CRS_ELAPSED_TIME</th>\n",
       "      <th>FLIGHTS</th>\n",
       "      <th>DISTANCE_GROUP</th>\n",
       "    </tr>\n",
       "    <tr>\n",
       "      <th>MONTH</th>\n",
       "      <th></th>\n",
       "      <th></th>\n",
       "      <th></th>\n",
       "      <th></th>\n",
       "      <th></th>\n",
       "      <th></th>\n",
       "      <th></th>\n",
       "      <th></th>\n",
       "      <th></th>\n",
       "      <th></th>\n",
       "      <th></th>\n",
       "    </tr>\n",
       "  </thead>\n",
       "  <tbody>\n",
       "    <tr>\n",
       "      <th>1</th>\n",
       "      <td>2016.0</td>\n",
       "      <td>1.0</td>\n",
       "      <td>15.929369</td>\n",
       "      <td>4.136372</td>\n",
       "      <td>5.992168</td>\n",
       "      <td>0.161425</td>\n",
       "      <td>0.903433</td>\n",
       "      <td>0.163719</td>\n",
       "      <td>143.759070</td>\n",
       "      <td>1.0</td>\n",
       "      <td>3.837308</td>\n",
       "    </tr>\n",
       "    <tr>\n",
       "      <th>2</th>\n",
       "      <td>2016.0</td>\n",
       "      <td>1.0</td>\n",
       "      <td>14.936811</td>\n",
       "      <td>3.825729</td>\n",
       "      <td>5.241838</td>\n",
       "      <td>0.142579</td>\n",
       "      <td>0.843254</td>\n",
       "      <td>0.151782</td>\n",
       "      <td>144.044135</td>\n",
       "      <td>1.0</td>\n",
       "      <td>3.843227</td>\n",
       "    </tr>\n",
       "    <tr>\n",
       "      <th>3</th>\n",
       "      <td>2016.0</td>\n",
       "      <td>1.0</td>\n",
       "      <td>16.013612</td>\n",
       "      <td>3.881014</td>\n",
       "      <td>12.482714</td>\n",
       "      <td>0.233161</td>\n",
       "      <td>10.186241</td>\n",
       "      <td>0.254694</td>\n",
       "      <td>144.404424</td>\n",
       "      <td>1.0</td>\n",
       "      <td>3.854729</td>\n",
       "    </tr>\n",
       "    <tr>\n",
       "      <th>4</th>\n",
       "      <td>2016.0</td>\n",
       "      <td>2.0</td>\n",
       "      <td>15.484300</td>\n",
       "      <td>4.047625</td>\n",
       "      <td>8.512166</td>\n",
       "      <td>0.179166</td>\n",
       "      <td>4.730903</td>\n",
       "      <td>0.190995</td>\n",
       "      <td>146.081563</td>\n",
       "      <td>1.0</td>\n",
       "      <td>3.868892</td>\n",
       "    </tr>\n",
       "    <tr>\n",
       "      <th>5</th>\n",
       "      <td>2016.0</td>\n",
       "      <td>2.0</td>\n",
       "      <td>15.920213</td>\n",
       "      <td>3.865087</td>\n",
       "      <td>11.054221</td>\n",
       "      <td>0.204364</td>\n",
       "      <td>7.177612</td>\n",
       "      <td>0.218810</td>\n",
       "      <td>148.399662</td>\n",
       "      <td>1.0</td>\n",
       "      <td>3.902563</td>\n",
       "    </tr>\n",
       "  </tbody>\n",
       "</table>\n",
       "</div>"
      ],
      "text/plain": [
       "         YEAR  QUARTER  DAY_OF_MONTH  DAY_OF_WEEK  DEP_DELAY  DEP_DEL15  \\\n",
       "MONTH                                                                     \n",
       "1      2016.0      1.0     15.929369     4.136372   5.992168   0.161425   \n",
       "2      2016.0      1.0     14.936811     3.825729   5.241838   0.142579   \n",
       "3      2016.0      1.0     16.013612     3.881014  12.482714   0.233161   \n",
       "4      2016.0      2.0     15.484300     4.047625   8.512166   0.179166   \n",
       "5      2016.0      2.0     15.920213     3.865087  11.054221   0.204364   \n",
       "\n",
       "       ARR_DELAY  ARR_DEL15  CRS_ELAPSED_TIME  FLIGHTS  DISTANCE_GROUP  \n",
       "MONTH                                                                   \n",
       "1       0.903433   0.163719        143.759070      1.0        3.837308  \n",
       "2       0.843254   0.151782        144.044135      1.0        3.843227  \n",
       "3      10.186241   0.254694        144.404424      1.0        3.854729  \n",
       "4       4.730903   0.190995        146.081563      1.0        3.868892  \n",
       "5       7.177612   0.218810        148.399662      1.0        3.902563  "
      ]
     },
     "execution_count": 29,
     "metadata": {},
     "output_type": "execute_result"
    }
   ],
   "source": [
    "DFWorigin_df = df[df['ORIGIN'] == 'DFW'].groupby('MONTH').aggregate(np.mean)\n",
    "DFWorigin_df.head()"
   ]
  },
  {
   "cell_type": "code",
   "execution_count": 30,
   "metadata": {
    "collapsed": false
   },
   "outputs": [],
   "source": [
    "JFKorigin_df = df[df['ORIGIN'] == 'JFK'].groupby('MONTH').aggregate(np.mean)\n",
    "ORDorigin_df = df[df['ORIGIN'] == 'ORD'].groupby('MONTH').aggregate(np.mean)\n",
    "LAXorigin_df = df[df['ORIGIN'] == 'LAX'].groupby('MONTH').aggregate(np.mean)\n",
    "DFWdest_df = df[df['DEST'] == 'DFW'].groupby('MONTH').aggregate(np.mean)\n",
    "JFKdest_df = df[df['DEST'] == 'JFK'].groupby('MONTH').aggregate(np.mean)\n",
    "ORDdest_df = df[df['DEST'] == 'ORD'].groupby('MONTH').aggregate(np.mean)\n",
    "LAXdest_df = df[df['DEST'] == 'LAX'].groupby('MONTH').aggregate(np.mean)\n"
   ]
  },
  {
   "cell_type": "markdown",
   "metadata": {},
   "source": [
    "We compare the delays for different cities."
   ]
  },
  {
   "cell_type": "code",
   "execution_count": 31,
   "metadata": {
    "collapsed": false
   },
   "outputs": [
    {
     "data": {
      "text/plain": [
       "<matplotlib.axes._subplots.AxesSubplot at 0x11ebcbd90>"
      ]
     },
     "execution_count": 31,
     "metadata": {},
     "output_type": "execute_result"
    },
    {
     "data": {
      "image/png": "[encoded data removed]",
      "text/plain": [
       "<matplotlib.figure.Figure at 0x11e92be10>"
      ]
     },
     "metadata": {},
     "output_type": "display_data"
    }
   ],
   "source": [
    "DFWdest_df['DEP_DEL15'].plot(kind = 'bar')"
   ]
  },
  {
   "cell_type": "code",
   "execution_count": 32,
   "metadata": {
    "collapsed": false
   },
   "outputs": [
    {
     "data": {
      "text/plain": [
       "<matplotlib.axes._subplots.AxesSubplot at 0x11edce050>"
      ]
     },
     "execution_count": 32,
     "metadata": {},
     "output_type": "execute_result"
    },
    {
     "data": {
      "image/png": "[encoded data removed]",
      "text/plain": [
       "<matplotlib.figure.Figure at 0x11edbcf10>"
      ]
     },
     "metadata": {},
     "output_type": "display_data"
    }
   ],
   "source": [
    "JFKdest_df['DEP_DEL15'].plot(kind = 'bar')"
   ]
  },
  {
   "cell_type": "code",
   "execution_count": 33,
   "metadata": {
    "collapsed": false
   },
   "outputs": [
    {
     "data": {
      "text/plain": [
       "<matplotlib.axes._subplots.AxesSubplot at 0x11ed54c90>"
      ]
     },
     "execution_count": 33,
     "metadata": {},
     "output_type": "execute_result"
    },
    {
     "data": {
      "image/png": "[encoded data removed]",
      "text/plain": [
       "<matplotlib.figure.Figure at 0x11eda7090>"
      ]
     },
     "metadata": {},
     "output_type": "display_data"
    }
   ],
   "source": [
    "ORDdest_df['DEP_DEL15'].plot(kind = 'bar')"
   ]
  },
  {
   "cell_type": "code",
   "execution_count": 34,
   "metadata": {
    "collapsed": false
   },
   "outputs": [
    {
     "data": {
      "text/plain": [
       "<matplotlib.axes._subplots.AxesSubplot at 0x11ed468d0>"
      ]
     },
     "execution_count": 34,
     "metadata": {},
     "output_type": "execute_result"
    },
    {
     "data": {
      "image/png": "[encoded data removed]",
      "text/plain": [
       "<matplotlib.figure.Figure at 0x11f415990>"
      ]
     },
     "metadata": {},
     "output_type": "display_data"
    }
   ],
   "source": [
    "LAXdest_df['DEP_DEL15'].plot(kind = 'bar')"
   ]
  },
  {
   "cell_type": "code",
   "execution_count": 35,
   "metadata": {
    "collapsed": false
   },
   "outputs": [
    {
     "data": {
      "text/plain": [
       "<matplotlib.axes._subplots.AxesSubplot at 0x11ebc0410>"
      ]
     },
     "execution_count": 35,
     "metadata": {},
     "output_type": "execute_result"
    },
    {
     "data": {
      "image/png": "[encoded data removed]",
      "text/plain": [
       "<matplotlib.figure.Figure at 0x11f5a4590>"
      ]
     },
     "metadata": {},
     "output_type": "display_data"
    }
   ],
   "source": [
    "DFWorigin_df['DEP_DEL15'].plot(kind = 'bar')"
   ]
  },
  {
   "cell_type": "code",
   "execution_count": 36,
   "metadata": {
    "collapsed": false
   },
   "outputs": [
    {
     "data": {
      "text/plain": [
       "<matplotlib.axes._subplots.AxesSubplot at 0x11f242150>"
      ]
     },
     "execution_count": 36,
     "metadata": {},
     "output_type": "execute_result"
    },
    {
     "data": {
      "image/png": "[encoded data removed]",
      "text/plain": [
       "<matplotlib.figure.Figure at 0x11f6ad150>"
      ]
     },
     "metadata": {},
     "output_type": "display_data"
    }
   ],
   "source": [
    "JFKorigin_df['DEP_DEL15'].plot(kind = 'bar')"
   ]
  },
  {
   "cell_type": "code",
   "execution_count": 37,
   "metadata": {
    "collapsed": false
   },
   "outputs": [
    {
     "data": {
      "text/plain": [
       "<matplotlib.axes._subplots.AxesSubplot at 0x11f236e90>"
      ]
     },
     "execution_count": 37,
     "metadata": {},
     "output_type": "execute_result"
    },
    {
     "data": {
      "image/png": "[encoded data removed]",
      "text/plain": [
       "<matplotlib.figure.Figure at 0x11fdcac50>"
      ]
     },
     "metadata": {},
     "output_type": "display_data"
    }
   ],
   "source": [
    "ORDorigin_df['DEP_DEL15'].plot(kind = 'bar')"
   ]
  },
  {
   "cell_type": "code",
   "execution_count": 38,
   "metadata": {
    "collapsed": false
   },
   "outputs": [
    {
     "data": {
      "text/plain": [
       "<matplotlib.axes._subplots.AxesSubplot at 0x11f415910>"
      ]
     },
     "execution_count": 38,
     "metadata": {},
     "output_type": "execute_result"
    },
    {
     "data": {
      "image/png": "[encoded data removed]",
      "text/plain": [
       "<matplotlib.figure.Figure at 0x11f9360d0>"
      ]
     },
     "metadata": {},
     "output_type": "display_data"
    }
   ],
   "source": [
    "LAXorigin_df['DEP_DEL15'].plot(kind = 'bar')"
   ]
  },
  {
   "cell_type": "markdown",
   "metadata": {},
   "source": [
    "We don't see much differences across different airports as both origin and destination. Maybe the sizes matter much more than the location. But let's assume that airports don't differ a lot for ontime arrivals. "
   ]
  },
  {
   "cell_type": "code",
   "execution_count": 39,
   "metadata": {
    "collapsed": false
   },
   "outputs": [
    {
     "data": {
      "text/html": [
       "<div>\n",
       "<table border=\"1\" class=\"dataframe\">\n",
       "  <thead>\n",
       "    <tr style=\"text-align: right;\">\n",
       "      <th></th>\n",
       "      <th>DEP_DELAY</th>\n",
       "      <th>ARR_DELAY</th>\n",
       "    </tr>\n",
       "    <tr>\n",
       "      <th>FLIGHTS</th>\n",
       "      <th></th>\n",
       "      <th></th>\n",
       "    </tr>\n",
       "  </thead>\n",
       "  <tbody>\n",
       "    <tr>\n",
       "      <th>1.0</th>\n",
       "      <td>8.938011</td>\n",
       "      <td>3.51929</td>\n",
       "    </tr>\n",
       "  </tbody>\n",
       "</table>\n",
       "</div>"
      ],
      "text/plain": [
       "         DEP_DELAY  ARR_DELAY\n",
       "FLIGHTS                      \n",
       "1.0       8.938011    3.51929"
      ]
     },
     "execution_count": 39,
     "metadata": {},
     "output_type": "execute_result"
    }
   ],
   "source": [
    "df[['FLIGHTS','DEP_DELAY','ARR_DELAY']].groupby('FLIGHTS').aggregate(np.mean)"
   ]
  },
  {
   "cell_type": "markdown",
   "metadata": {},
   "source": [
    "So we drop Quarter and Flights.  "
   ]
  },
  {
   "cell_type": "markdown",
   "metadata": {},
   "source": [
    "Ideally we should group ORIGIN and DEST into different categories by its geographic locations and sizes (Large Hub, Medium Hub, Small Hub, NonHub Primary, NonPrimary). But due to the limit of time and resource, we will focus on the DFW as destination and don't consider origin of the flights. Therefore, we also drop ORIGIN and use DFWdest_df. "
   ]
  },
  {
   "cell_type": "code",
   "execution_count": 40,
   "metadata": {
    "collapsed": false
   },
   "outputs": [
    {
     "data": {
      "text/plain": [
       "array(['YEAR', 'MONTH', 'DAY_OF_MONTH', 'DAY_OF_WEEK', 'UNIQUE_CARRIER',\n",
       "       'DEST', 'DEP_DELAY', 'DEP_DEL15', 'DEP_TIME_BLK', 'ARR_DELAY',\n",
       "       'ARR_DEL15', 'ARR_TIME_BLK', 'CRS_ELAPSED_TIME', 'DISTANCE_GROUP'], dtype=object)"
      ]
     },
     "execution_count": 40,
     "metadata": {},
     "output_type": "execute_result"
    }
   ],
   "source": [
    "df = df.drop(['QUARTER', 'FLIGHTS','ORIGIN'], axis = 1)\n",
    "df.columns.values"
   ]
  },
  {
   "cell_type": "code",
   "execution_count": 41,
   "metadata": {
    "collapsed": false
   },
   "outputs": [
    {
     "data": {
      "text/html": [
       "<div>\n",
       "<table border=\"1\" class=\"dataframe\">\n",
       "  <thead>\n",
       "    <tr style=\"text-align: right;\">\n",
       "      <th></th>\n",
       "      <th>YEAR</th>\n",
       "      <th>MONTH</th>\n",
       "      <th>DAY_OF_MONTH</th>\n",
       "      <th>DAY_OF_WEEK</th>\n",
       "      <th>UNIQUE_CARRIER</th>\n",
       "      <th>DEST</th>\n",
       "      <th>DEP_DELAY</th>\n",
       "      <th>DEP_DEL15</th>\n",
       "      <th>DEP_TIME_BLK</th>\n",
       "      <th>ARR_DELAY</th>\n",
       "      <th>ARR_DEL15</th>\n",
       "      <th>ARR_TIME_BLK</th>\n",
       "      <th>CRS_ELAPSED_TIME</th>\n",
       "      <th>DISTANCE_GROUP</th>\n",
       "    </tr>\n",
       "    <tr>\n",
       "      <th>FL_DATE</th>\n",
       "      <th></th>\n",
       "      <th></th>\n",
       "      <th></th>\n",
       "      <th></th>\n",
       "      <th></th>\n",
       "      <th></th>\n",
       "      <th></th>\n",
       "      <th></th>\n",
       "      <th></th>\n",
       "      <th></th>\n",
       "      <th></th>\n",
       "      <th></th>\n",
       "      <th></th>\n",
       "      <th></th>\n",
       "    </tr>\n",
       "  </thead>\n",
       "  <tbody>\n",
       "    <tr>\n",
       "      <th>2016-01-01</th>\n",
       "      <td>2016</td>\n",
       "      <td>1</td>\n",
       "      <td>1</td>\n",
       "      <td>5</td>\n",
       "      <td>AA</td>\n",
       "      <td>DFW</td>\n",
       "      <td>26.0</td>\n",
       "      <td>1</td>\n",
       "      <td>1500-1559</td>\n",
       "      <td>32.0</td>\n",
       "      <td>1</td>\n",
       "      <td>1700-1759</td>\n",
       "      <td>191.0</td>\n",
       "      <td>4</td>\n",
       "    </tr>\n",
       "    <tr>\n",
       "      <th>2016-01-02</th>\n",
       "      <td>2016</td>\n",
       "      <td>1</td>\n",
       "      <td>2</td>\n",
       "      <td>6</td>\n",
       "      <td>AA</td>\n",
       "      <td>DFW</td>\n",
       "      <td>-4.0</td>\n",
       "      <td>0</td>\n",
       "      <td>1500-1559</td>\n",
       "      <td>-33.0</td>\n",
       "      <td>0</td>\n",
       "      <td>1700-1759</td>\n",
       "      <td>191.0</td>\n",
       "      <td>4</td>\n",
       "    </tr>\n",
       "    <tr>\n",
       "      <th>2016-01-03</th>\n",
       "      <td>2016</td>\n",
       "      <td>1</td>\n",
       "      <td>3</td>\n",
       "      <td>7</td>\n",
       "      <td>AA</td>\n",
       "      <td>DFW</td>\n",
       "      <td>2.0</td>\n",
       "      <td>0</td>\n",
       "      <td>1500-1559</td>\n",
       "      <td>-21.0</td>\n",
       "      <td>0</td>\n",
       "      <td>1700-1759</td>\n",
       "      <td>191.0</td>\n",
       "      <td>4</td>\n",
       "    </tr>\n",
       "    <tr>\n",
       "      <th>2016-01-04</th>\n",
       "      <td>2016</td>\n",
       "      <td>1</td>\n",
       "      <td>4</td>\n",
       "      <td>1</td>\n",
       "      <td>AA</td>\n",
       "      <td>DFW</td>\n",
       "      <td>-4.0</td>\n",
       "      <td>0</td>\n",
       "      <td>1500-1559</td>\n",
       "      <td>-43.0</td>\n",
       "      <td>0</td>\n",
       "      <td>1700-1759</td>\n",
       "      <td>191.0</td>\n",
       "      <td>4</td>\n",
       "    </tr>\n",
       "    <tr>\n",
       "      <th>2016-01-05</th>\n",
       "      <td>2016</td>\n",
       "      <td>1</td>\n",
       "      <td>5</td>\n",
       "      <td>2</td>\n",
       "      <td>AA</td>\n",
       "      <td>DFW</td>\n",
       "      <td>-4.0</td>\n",
       "      <td>0</td>\n",
       "      <td>1500-1559</td>\n",
       "      <td>-22.0</td>\n",
       "      <td>0</td>\n",
       "      <td>1700-1759</td>\n",
       "      <td>187.0</td>\n",
       "      <td>4</td>\n",
       "    </tr>\n",
       "  </tbody>\n",
       "</table>\n",
       "</div>"
      ],
      "text/plain": [
       "            YEAR  MONTH  DAY_OF_MONTH  DAY_OF_WEEK UNIQUE_CARRIER DEST  \\\n",
       "FL_DATE                                                                  \n",
       "2016-01-01  2016      1             1            5             AA  DFW   \n",
       "2016-01-02  2016      1             2            6             AA  DFW   \n",
       "2016-01-03  2016      1             3            7             AA  DFW   \n",
       "2016-01-04  2016      1             4            1             AA  DFW   \n",
       "2016-01-05  2016      1             5            2             AA  DFW   \n",
       "\n",
       "            DEP_DELAY  DEP_DEL15 DEP_TIME_BLK  ARR_DELAY  ARR_DEL15  \\\n",
       "FL_DATE                                                               \n",
       "2016-01-01       26.0          1    1500-1559       32.0          1   \n",
       "2016-01-02       -4.0          0    1500-1559      -33.0          0   \n",
       "2016-01-03        2.0          0    1500-1559      -21.0          0   \n",
       "2016-01-04       -4.0          0    1500-1559      -43.0          0   \n",
       "2016-01-05       -4.0          0    1500-1559      -22.0          0   \n",
       "\n",
       "           ARR_TIME_BLK  CRS_ELAPSED_TIME  DISTANCE_GROUP  \n",
       "FL_DATE                                                    \n",
       "2016-01-01    1700-1759             191.0               4  \n",
       "2016-01-02    1700-1759             191.0               4  \n",
       "2016-01-03    1700-1759             191.0               4  \n",
       "2016-01-04    1700-1759             191.0               4  \n",
       "2016-01-05    1700-1759             187.0               4  "
      ]
     },
     "execution_count": 41,
     "metadata": {},
     "output_type": "execute_result"
    }
   ],
   "source": [
    "DFWdest_df = df[df['DEST'] == 'DFW']\n",
    "DFWdest_df.head()"
   ]
  },
  {
   "cell_type": "code",
   "execution_count": 42,
   "metadata": {
    "collapsed": false
   },
   "outputs": [
    {
     "name": "stdout",
     "output_type": "stream",
     "text": [
      "<class 'pandas.core.frame.DataFrame'>\n",
      "DatetimeIndex: 196031 entries, 2016-01-01 to 2016-09-28\n",
      "Data columns (total 14 columns):\n",
      "YEAR                196031 non-null int64\n",
      "MONTH               196031 non-null int64\n",
      "DAY_OF_MONTH        196031 non-null int64\n",
      "DAY_OF_WEEK         196031 non-null int64\n",
      "UNIQUE_CARRIER      196031 non-null object\n",
      "DEST                196031 non-null object\n",
      "DEP_DELAY           193701 non-null float64\n",
      "DEP_DEL15           196031 non-null int64\n",
      "DEP_TIME_BLK        196031 non-null object\n",
      "ARR_DELAY           192799 non-null float64\n",
      "ARR_DEL15           196031 non-null int64\n",
      "ARR_TIME_BLK        196031 non-null object\n",
      "CRS_ELAPSED_TIME    196031 non-null float64\n",
      "DISTANCE_GROUP      196031 non-null int64\n",
      "dtypes: float64(3), int64(7), object(4)\n",
      "memory usage: 22.4+ MB\n"
     ]
    }
   ],
   "source": [
    "DFWdest_df.info()"
   ]
  },
  {
   "cell_type": "markdown",
   "metadata": {},
   "source": [
    "We further drop YEAR, DAY_OF_MONTH, DEST, DEP_DELAY, DEP_DEL15, ARR_DEL15, CRS_ELAPSED_TIME, as we are ready to prepare the training and test data. "
   ]
  },
  {
   "cell_type": "code",
   "execution_count": 43,
   "metadata": {
    "collapsed": false
   },
   "outputs": [
    {
     "name": "stdout",
     "output_type": "stream",
     "text": [
      "<class 'pandas.core.frame.DataFrame'>\n",
      "DatetimeIndex: 196031 entries, 2016-01-01 to 2016-09-28\n",
      "Data columns (total 7 columns):\n",
      "MONTH             196031 non-null int64\n",
      "DAY_OF_WEEK       196031 non-null int64\n",
      "UNIQUE_CARRIER    196031 non-null object\n",
      "DEP_TIME_BLK      196031 non-null object\n",
      "ARR_DEL15         196031 non-null int64\n",
      "ARR_TIME_BLK      196031 non-null object\n",
      "DISTANCE_GROUP    196031 non-null int64\n",
      "dtypes: int64(4), object(3)\n",
      "memory usage: 12.0+ MB\n"
     ]
    }
   ],
   "source": [
    "DFWdest_df = DFWdest_df.drop(['YEAR','DAY_OF_MONTH','DEST', 'DEP_DELAY', 'DEP_DEL15', 'ARR_DELAY','CRS_ELAPSED_TIME'], axis = 1)\n",
    "DFWdest_df.info()"
   ]
  },
  {
   "cell_type": "markdown",
   "metadata": {},
   "source": [
    "Note that there is no null objects to fill in. We now divide DEP_TIME_BLK, ARR_TIME_BLK into bands."
   ]
  },
  {
   "cell_type": "code",
   "execution_count": 44,
   "metadata": {
    "collapsed": false
   },
   "outputs": [
    {
     "data": {
      "text/html": [
       "<div>\n",
       "<table border=\"1\" class=\"dataframe\">\n",
       "  <thead>\n",
       "    <tr style=\"text-align: right;\">\n",
       "      <th></th>\n",
       "      <th>MONTH</th>\n",
       "      <th>DAY_OF_WEEK</th>\n",
       "      <th>UNIQUE_CARRIER</th>\n",
       "      <th>DEP_TIME_BLK</th>\n",
       "      <th>ARR_DEL15</th>\n",
       "      <th>ARR_TIME_BLK</th>\n",
       "      <th>DISTANCE_GROUP</th>\n",
       "    </tr>\n",
       "    <tr>\n",
       "      <th>FL_DATE</th>\n",
       "      <th></th>\n",
       "      <th></th>\n",
       "      <th></th>\n",
       "      <th></th>\n",
       "      <th></th>\n",
       "      <th></th>\n",
       "      <th></th>\n",
       "    </tr>\n",
       "  </thead>\n",
       "  <tbody>\n",
       "    <tr>\n",
       "      <th>2016-01-01</th>\n",
       "      <td>1</td>\n",
       "      <td>5</td>\n",
       "      <td>AA</td>\n",
       "      <td>4</td>\n",
       "      <td>1</td>\n",
       "      <td>1700-1759</td>\n",
       "      <td>4</td>\n",
       "    </tr>\n",
       "    <tr>\n",
       "      <th>2016-01-02</th>\n",
       "      <td>1</td>\n",
       "      <td>6</td>\n",
       "      <td>AA</td>\n",
       "      <td>4</td>\n",
       "      <td>0</td>\n",
       "      <td>1700-1759</td>\n",
       "      <td>4</td>\n",
       "    </tr>\n",
       "    <tr>\n",
       "      <th>2016-01-03</th>\n",
       "      <td>1</td>\n",
       "      <td>7</td>\n",
       "      <td>AA</td>\n",
       "      <td>4</td>\n",
       "      <td>0</td>\n",
       "      <td>1700-1759</td>\n",
       "      <td>4</td>\n",
       "    </tr>\n",
       "    <tr>\n",
       "      <th>2016-01-04</th>\n",
       "      <td>1</td>\n",
       "      <td>1</td>\n",
       "      <td>AA</td>\n",
       "      <td>4</td>\n",
       "      <td>0</td>\n",
       "      <td>1700-1759</td>\n",
       "      <td>4</td>\n",
       "    </tr>\n",
       "    <tr>\n",
       "      <th>2016-01-05</th>\n",
       "      <td>1</td>\n",
       "      <td>2</td>\n",
       "      <td>AA</td>\n",
       "      <td>4</td>\n",
       "      <td>0</td>\n",
       "      <td>1700-1759</td>\n",
       "      <td>4</td>\n",
       "    </tr>\n",
       "  </tbody>\n",
       "</table>\n",
       "</div>"
      ],
      "text/plain": [
       "            MONTH  DAY_OF_WEEK UNIQUE_CARRIER  DEP_TIME_BLK  ARR_DEL15  \\\n",
       "FL_DATE                                                                  \n",
       "2016-01-01      1            5             AA             4          1   \n",
       "2016-01-02      1            6             AA             4          0   \n",
       "2016-01-03      1            7             AA             4          0   \n",
       "2016-01-04      1            1             AA             4          0   \n",
       "2016-01-05      1            2             AA             4          0   \n",
       "\n",
       "           ARR_TIME_BLK  DISTANCE_GROUP  \n",
       "FL_DATE                                  \n",
       "2016-01-01    1700-1759               4  \n",
       "2016-01-02    1700-1759               4  \n",
       "2016-01-03    1700-1759               4  \n",
       "2016-01-04    1700-1759               4  \n",
       "2016-01-05    1700-1759               4  "
      ]
     },
     "execution_count": 44,
     "metadata": {},
     "output_type": "execute_result"
    }
   ],
   "source": [
    "DFWdest_df.loc[(DFWdest_df['DEP_TIME_BLK'] == '0001-0559') |(DFWdest_df['DEP_TIME_BLK'] == '0600-0659')|(DFWdest_df['DEP_TIME_BLK'] == '0700-0759')|(DFWdest_df['DEP_TIME_BLK'] == '0800-0859') , 'DEP_TIME_BLK'] = 1\n",
    "DFWdest_df.loc[(DFWdest_df['DEP_TIME_BLK'] == '0900-0959') |(DFWdest_df['DEP_TIME_BLK'] == '1000-1059')|(DFWdest_df['DEP_TIME_BLK'] == '1100-1159') , 'DEP_TIME_BLK'] = 2\n",
    "DFWdest_df.loc[(DFWdest_df['DEP_TIME_BLK'] == '1200-1259') |(DFWdest_df['DEP_TIME_BLK'] == '1300-1359')|(DFWdest_df['DEP_TIME_BLK'] == '1400-1459') , 'DEP_TIME_BLK'] = 3\n",
    "DFWdest_df.loc[(DFWdest_df['DEP_TIME_BLK'] == '1500-1559') |(DFWdest_df['DEP_TIME_BLK'] == '1600-1659')|(DFWdest_df['DEP_TIME_BLK'] == '1700-1759') , 'DEP_TIME_BLK'] = 4\n",
    "DFWdest_df.loc[(DFWdest_df['DEP_TIME_BLK'] == '1800-1859') |(DFWdest_df['DEP_TIME_BLK'] == '1900-1959')|(DFWdest_df['DEP_TIME_BLK'] == '2000-2059') , 'DEP_TIME_BLK'] = 5\n",
    "DFWdest_df.loc[(DFWdest_df['DEP_TIME_BLK'] == '2100-2159') |(DFWdest_df['DEP_TIME_BLK'] == '2200-2259')|(DFWdest_df['DEP_TIME_BLK'] == '2300-2359') , 'DEP_TIME_BLK'] = 6\n",
    "DFWdest_df['DEP_TIME_BLK'] = DFWdest_df['DEP_TIME_BLK'].astype(int)\n",
    "DFWdest_df.head()"
   ]
  },
  {
   "cell_type": "code",
   "execution_count": 45,
   "metadata": {
    "collapsed": false
   },
   "outputs": [
    {
     "data": {
      "text/html": [
       "<div>\n",
       "<table border=\"1\" class=\"dataframe\">\n",
       "  <thead>\n",
       "    <tr style=\"text-align: right;\">\n",
       "      <th></th>\n",
       "      <th>MONTH</th>\n",
       "      <th>DAY_OF_WEEK</th>\n",
       "      <th>ARR_DEL15</th>\n",
       "      <th>DISTANCE_GROUP</th>\n",
       "    </tr>\n",
       "    <tr>\n",
       "      <th>DEP_TIME_BLK</th>\n",
       "      <th></th>\n",
       "      <th></th>\n",
       "      <th></th>\n",
       "      <th></th>\n",
       "    </tr>\n",
       "  </thead>\n",
       "  <tbody>\n",
       "    <tr>\n",
       "      <th>1</th>\n",
       "      <td>6.474092</td>\n",
       "      <td>3.936124</td>\n",
       "      <td>0.135874</td>\n",
       "      <td>3.934171</td>\n",
       "    </tr>\n",
       "    <tr>\n",
       "      <th>2</th>\n",
       "      <td>6.362014</td>\n",
       "      <td>3.964533</td>\n",
       "      <td>0.165773</td>\n",
       "      <td>3.839756</td>\n",
       "    </tr>\n",
       "    <tr>\n",
       "      <th>3</th>\n",
       "      <td>6.458908</td>\n",
       "      <td>3.975823</td>\n",
       "      <td>0.213876</td>\n",
       "      <td>3.943541</td>\n",
       "    </tr>\n",
       "    <tr>\n",
       "      <th>4</th>\n",
       "      <td>6.507803</td>\n",
       "      <td>3.935469</td>\n",
       "      <td>0.242781</td>\n",
       "      <td>3.797902</td>\n",
       "    </tr>\n",
       "    <tr>\n",
       "      <th>5</th>\n",
       "      <td>6.492753</td>\n",
       "      <td>3.912798</td>\n",
       "      <td>0.274323</td>\n",
       "      <td>3.868463</td>\n",
       "    </tr>\n",
       "    <tr>\n",
       "      <th>6</th>\n",
       "      <td>6.378962</td>\n",
       "      <td>4.124863</td>\n",
       "      <td>0.204372</td>\n",
       "      <td>4.591803</td>\n",
       "    </tr>\n",
       "  </tbody>\n",
       "</table>\n",
       "</div>"
      ],
      "text/plain": [
       "                 MONTH  DAY_OF_WEEK  ARR_DEL15  DISTANCE_GROUP\n",
       "DEP_TIME_BLK                                                  \n",
       "1             6.474092     3.936124   0.135874        3.934171\n",
       "2             6.362014     3.964533   0.165773        3.839756\n",
       "3             6.458908     3.975823   0.213876        3.943541\n",
       "4             6.507803     3.935469   0.242781        3.797902\n",
       "5             6.492753     3.912798   0.274323        3.868463\n",
       "6             6.378962     4.124863   0.204372        4.591803"
      ]
     },
     "execution_count": 45,
     "metadata": {},
     "output_type": "execute_result"
    }
   ],
   "source": [
    "DFWdest_df.groupby('DEP_TIME_BLK').mean()"
   ]
  },
  {
   "cell_type": "code",
   "execution_count": 46,
   "metadata": {
    "collapsed": false
   },
   "outputs": [
    {
     "data": {
      "text/html": [
       "<div>\n",
       "<table border=\"1\" class=\"dataframe\">\n",
       "  <thead>\n",
       "    <tr style=\"text-align: right;\">\n",
       "      <th></th>\n",
       "      <th>MONTH</th>\n",
       "      <th>DAY_OF_WEEK</th>\n",
       "      <th>UNIQUE_CARRIER</th>\n",
       "      <th>DEP_TIME_BLK</th>\n",
       "      <th>ARR_DEL15</th>\n",
       "      <th>ARR_TIME_BLK</th>\n",
       "      <th>DISTANCE_GROUP</th>\n",
       "    </tr>\n",
       "    <tr>\n",
       "      <th>FL_DATE</th>\n",
       "      <th></th>\n",
       "      <th></th>\n",
       "      <th></th>\n",
       "      <th></th>\n",
       "      <th></th>\n",
       "      <th></th>\n",
       "      <th></th>\n",
       "    </tr>\n",
       "  </thead>\n",
       "  <tbody>\n",
       "    <tr>\n",
       "      <th>2016-01-01</th>\n",
       "      <td>1</td>\n",
       "      <td>5</td>\n",
       "      <td>AA</td>\n",
       "      <td>4</td>\n",
       "      <td>1</td>\n",
       "      <td>4</td>\n",
       "      <td>4</td>\n",
       "    </tr>\n",
       "    <tr>\n",
       "      <th>2016-01-02</th>\n",
       "      <td>1</td>\n",
       "      <td>6</td>\n",
       "      <td>AA</td>\n",
       "      <td>4</td>\n",
       "      <td>0</td>\n",
       "      <td>4</td>\n",
       "      <td>4</td>\n",
       "    </tr>\n",
       "    <tr>\n",
       "      <th>2016-01-03</th>\n",
       "      <td>1</td>\n",
       "      <td>7</td>\n",
       "      <td>AA</td>\n",
       "      <td>4</td>\n",
       "      <td>0</td>\n",
       "      <td>4</td>\n",
       "      <td>4</td>\n",
       "    </tr>\n",
       "    <tr>\n",
       "      <th>2016-01-04</th>\n",
       "      <td>1</td>\n",
       "      <td>1</td>\n",
       "      <td>AA</td>\n",
       "      <td>4</td>\n",
       "      <td>0</td>\n",
       "      <td>4</td>\n",
       "      <td>4</td>\n",
       "    </tr>\n",
       "    <tr>\n",
       "      <th>2016-01-05</th>\n",
       "      <td>1</td>\n",
       "      <td>2</td>\n",
       "      <td>AA</td>\n",
       "      <td>4</td>\n",
       "      <td>0</td>\n",
       "      <td>4</td>\n",
       "      <td>4</td>\n",
       "    </tr>\n",
       "  </tbody>\n",
       "</table>\n",
       "</div>"
      ],
      "text/plain": [
       "            MONTH  DAY_OF_WEEK UNIQUE_CARRIER  DEP_TIME_BLK  ARR_DEL15  \\\n",
       "FL_DATE                                                                  \n",
       "2016-01-01      1            5             AA             4          1   \n",
       "2016-01-02      1            6             AA             4          0   \n",
       "2016-01-03      1            7             AA             4          0   \n",
       "2016-01-04      1            1             AA             4          0   \n",
       "2016-01-05      1            2             AA             4          0   \n",
       "\n",
       "            ARR_TIME_BLK  DISTANCE_GROUP  \n",
       "FL_DATE                                   \n",
       "2016-01-01             4               4  \n",
       "2016-01-02             4               4  \n",
       "2016-01-03             4               4  \n",
       "2016-01-04             4               4  \n",
       "2016-01-05             4               4  "
      ]
     },
     "execution_count": 46,
     "metadata": {},
     "output_type": "execute_result"
    }
   ],
   "source": [
    "DFWdest_df.loc[(DFWdest_df['ARR_TIME_BLK'] == '0001-0559') |(DFWdest_df['ARR_TIME_BLK'] == '0600-0659')|(DFWdest_df['ARR_TIME_BLK'] == '0700-0759')|(DFWdest_df['ARR_TIME_BLK'] == '0800-0859') , 'ARR_TIME_BLK'] = 1\n",
    "DFWdest_df.loc[(DFWdest_df['ARR_TIME_BLK'] == '0900-0959') |(DFWdest_df['ARR_TIME_BLK'] == '1000-1059')|(DFWdest_df['ARR_TIME_BLK'] == '1100-1159') , 'ARR_TIME_BLK'] = 2\n",
    "DFWdest_df.loc[(DFWdest_df['ARR_TIME_BLK'] == '1200-1259') |(DFWdest_df['ARR_TIME_BLK'] == '1300-1359')|(DFWdest_df['ARR_TIME_BLK'] == '1400-1459') , 'ARR_TIME_BLK'] = 3\n",
    "DFWdest_df.loc[(DFWdest_df['ARR_TIME_BLK'] == '1500-1559') |(DFWdest_df['ARR_TIME_BLK'] == '1600-1659')|(DFWdest_df['ARR_TIME_BLK'] == '1700-1759') , 'ARR_TIME_BLK'] = 4\n",
    "DFWdest_df.loc[(DFWdest_df['ARR_TIME_BLK'] == '1800-1859') |(DFWdest_df['ARR_TIME_BLK'] == '1900-1959')|(DFWdest_df['ARR_TIME_BLK'] == '2000-2059') , 'ARR_TIME_BLK'] = 5\n",
    "DFWdest_df.loc[(DFWdest_df['ARR_TIME_BLK'] == '2100-2159') |(DFWdest_df['ARR_TIME_BLK'] == '2200-2259')|(DFWdest_df['ARR_TIME_BLK'] == '2300-2359') , 'ARR_TIME_BLK'] = 6\n",
    "DFWdest_df['ARR_TIME_BLK'] = DFWdest_df['ARR_TIME_BLK'].astype(int)\n",
    "DFWdest_df.head()"
   ]
  },
  {
   "cell_type": "markdown",
   "metadata": {},
   "source": [
    "Change the category feature UNIQUE_CARRIER into dummy features and reset the index. "
   ]
  },
  {
   "cell_type": "code",
   "execution_count": 47,
   "metadata": {
    "collapsed": true
   },
   "outputs": [],
   "source": [
    "DFW_df = pd.get_dummies(DFWdest_df).reset_index()"
   ]
  },
  {
   "cell_type": "code",
   "execution_count": 48,
   "metadata": {
    "collapsed": false
   },
   "outputs": [
    {
     "name": "stdout",
     "output_type": "stream",
     "text": [
      "<class 'pandas.core.frame.DataFrame'>\n",
      "RangeIndex: 196031 entries, 0 to 196030\n",
      "Data columns (total 16 columns):\n",
      "FL_DATE              196031 non-null datetime64[ns]\n",
      "MONTH                196031 non-null int64\n",
      "DAY_OF_WEEK          196031 non-null int64\n",
      "DEP_TIME_BLK         196031 non-null int64\n",
      "ARR_DEL15            196031 non-null int64\n",
      "ARR_TIME_BLK         196031 non-null int64\n",
      "DISTANCE_GROUP       196031 non-null int64\n",
      "UNIQUE_CARRIER_AA    196031 non-null uint8\n",
      "UNIQUE_CARRIER_AS    196031 non-null uint8\n",
      "UNIQUE_CARRIER_B6    196031 non-null uint8\n",
      "UNIQUE_CARRIER_DL    196031 non-null uint8\n",
      "UNIQUE_CARRIER_EV    196031 non-null uint8\n",
      "UNIQUE_CARRIER_F9    196031 non-null uint8\n",
      "UNIQUE_CARRIER_NK    196031 non-null uint8\n",
      "UNIQUE_CARRIER_OO    196031 non-null uint8\n",
      "UNIQUE_CARRIER_UA    196031 non-null uint8\n",
      "dtypes: datetime64[ns](1), int64(6), uint8(9)\n",
      "memory usage: 12.2 MB\n"
     ]
    },
    {
     "data": {
      "text/plain": [
       "array(['FL_DATE', 'MONTH', 'DAY_OF_WEEK', 'DEP_TIME_BLK', 'ARR_DEL15',\n",
       "       'ARR_TIME_BLK', 'DISTANCE_GROUP', 'UNIQUE_CARRIER_AA',\n",
       "       'UNIQUE_CARRIER_AS', 'UNIQUE_CARRIER_B6', 'UNIQUE_CARRIER_DL',\n",
       "       'UNIQUE_CARRIER_EV', 'UNIQUE_CARRIER_F9', 'UNIQUE_CARRIER_NK',\n",
       "       'UNIQUE_CARRIER_OO', 'UNIQUE_CARRIER_UA'], dtype=object)"
      ]
     },
     "execution_count": 48,
     "metadata": {},
     "output_type": "execute_result"
    }
   ],
   "source": [
    "DFW_df.info()\n",
    "DFW_df.columns.values"
   ]
  },
  {
   "cell_type": "code",
   "execution_count": 49,
   "metadata": {
    "collapsed": false
   },
   "outputs": [
    {
     "data": {
      "text/html": [
       "<div>\n",
       "<table border=\"1\" class=\"dataframe\">\n",
       "  <thead>\n",
       "    <tr style=\"text-align: right;\">\n",
       "      <th></th>\n",
       "      <th>FL_DATE</th>\n",
       "      <th>MONTH</th>\n",
       "      <th>DAY_OF_WEEK</th>\n",
       "      <th>DEP_TIME_BLK</th>\n",
       "      <th>ARR_DEL15</th>\n",
       "      <th>ARR_TIME_BLK</th>\n",
       "      <th>DISTANCE_GROUP</th>\n",
       "      <th>UNIQUE_CARRIER_AA</th>\n",
       "      <th>UNIQUE_CARRIER_AS</th>\n",
       "      <th>UNIQUE_CARRIER_B6</th>\n",
       "      <th>UNIQUE_CARRIER_DL</th>\n",
       "      <th>UNIQUE_CARRIER_EV</th>\n",
       "      <th>UNIQUE_CARRIER_F9</th>\n",
       "      <th>UNIQUE_CARRIER_NK</th>\n",
       "      <th>UNIQUE_CARRIER_OO</th>\n",
       "      <th>UNIQUE_CARRIER_UA</th>\n",
       "    </tr>\n",
       "  </thead>\n",
       "  <tbody>\n",
       "    <tr>\n",
       "      <th>0</th>\n",
       "      <td>2016-01-01</td>\n",
       "      <td>1</td>\n",
       "      <td>5</td>\n",
       "      <td>4</td>\n",
       "      <td>1</td>\n",
       "      <td>4</td>\n",
       "      <td>4</td>\n",
       "      <td>1</td>\n",
       "      <td>0</td>\n",
       "      <td>0</td>\n",
       "      <td>0</td>\n",
       "      <td>0</td>\n",
       "      <td>0</td>\n",
       "      <td>0</td>\n",
       "      <td>0</td>\n",
       "      <td>0</td>\n",
       "    </tr>\n",
       "    <tr>\n",
       "      <th>1</th>\n",
       "      <td>2016-01-02</td>\n",
       "      <td>1</td>\n",
       "      <td>6</td>\n",
       "      <td>4</td>\n",
       "      <td>0</td>\n",
       "      <td>4</td>\n",
       "      <td>4</td>\n",
       "      <td>1</td>\n",
       "      <td>0</td>\n",
       "      <td>0</td>\n",
       "      <td>0</td>\n",
       "      <td>0</td>\n",
       "      <td>0</td>\n",
       "      <td>0</td>\n",
       "      <td>0</td>\n",
       "      <td>0</td>\n",
       "    </tr>\n",
       "    <tr>\n",
       "      <th>2</th>\n",
       "      <td>2016-01-03</td>\n",
       "      <td>1</td>\n",
       "      <td>7</td>\n",
       "      <td>4</td>\n",
       "      <td>0</td>\n",
       "      <td>4</td>\n",
       "      <td>4</td>\n",
       "      <td>1</td>\n",
       "      <td>0</td>\n",
       "      <td>0</td>\n",
       "      <td>0</td>\n",
       "      <td>0</td>\n",
       "      <td>0</td>\n",
       "      <td>0</td>\n",
       "      <td>0</td>\n",
       "      <td>0</td>\n",
       "    </tr>\n",
       "    <tr>\n",
       "      <th>3</th>\n",
       "      <td>2016-01-04</td>\n",
       "      <td>1</td>\n",
       "      <td>1</td>\n",
       "      <td>4</td>\n",
       "      <td>0</td>\n",
       "      <td>4</td>\n",
       "      <td>4</td>\n",
       "      <td>1</td>\n",
       "      <td>0</td>\n",
       "      <td>0</td>\n",
       "      <td>0</td>\n",
       "      <td>0</td>\n",
       "      <td>0</td>\n",
       "      <td>0</td>\n",
       "      <td>0</td>\n",
       "      <td>0</td>\n",
       "    </tr>\n",
       "    <tr>\n",
       "      <th>4</th>\n",
       "      <td>2016-01-05</td>\n",
       "      <td>1</td>\n",
       "      <td>2</td>\n",
       "      <td>4</td>\n",
       "      <td>0</td>\n",
       "      <td>4</td>\n",
       "      <td>4</td>\n",
       "      <td>1</td>\n",
       "      <td>0</td>\n",
       "      <td>0</td>\n",
       "      <td>0</td>\n",
       "      <td>0</td>\n",
       "      <td>0</td>\n",
       "      <td>0</td>\n",
       "      <td>0</td>\n",
       "      <td>0</td>\n",
       "    </tr>\n",
       "  </tbody>\n",
       "</table>\n",
       "</div>"
      ],
      "text/plain": [
       "     FL_DATE  MONTH  DAY_OF_WEEK  DEP_TIME_BLK  ARR_DEL15  ARR_TIME_BLK  \\\n",
       "0 2016-01-01      1            5             4          1             4   \n",
       "1 2016-01-02      1            6             4          0             4   \n",
       "2 2016-01-03      1            7             4          0             4   \n",
       "3 2016-01-04      1            1             4          0             4   \n",
       "4 2016-01-05      1            2             4          0             4   \n",
       "\n",
       "   DISTANCE_GROUP  UNIQUE_CARRIER_AA  UNIQUE_CARRIER_AS  UNIQUE_CARRIER_B6  \\\n",
       "0               4                  1                  0                  0   \n",
       "1               4                  1                  0                  0   \n",
       "2               4                  1                  0                  0   \n",
       "3               4                  1                  0                  0   \n",
       "4               4                  1                  0                  0   \n",
       "\n",
       "   UNIQUE_CARRIER_DL  UNIQUE_CARRIER_EV  UNIQUE_CARRIER_F9  UNIQUE_CARRIER_NK  \\\n",
       "0                  0                  0                  0                  0   \n",
       "1                  0                  0                  0                  0   \n",
       "2                  0                  0                  0                  0   \n",
       "3                  0                  0                  0                  0   \n",
       "4                  0                  0                  0                  0   \n",
       "\n",
       "   UNIQUE_CARRIER_OO  UNIQUE_CARRIER_UA  \n",
       "0                  0                  0  \n",
       "1                  0                  0  \n",
       "2                  0                  0  \n",
       "3                  0                  0  \n",
       "4                  0                  0  "
      ]
     },
     "execution_count": 49,
     "metadata": {},
     "output_type": "execute_result"
    }
   ],
   "source": [
    "DFW_df.head()"
   ]
  },
  {
   "cell_type": "markdown",
   "metadata": {},
   "source": [
    "As a lot of models can not deal with too many data (>100k), we take a sample of 1/10, and split it into training and test. "
   ]
  },
  {
   "cell_type": "code",
   "execution_count": 50,
   "metadata": {
    "collapsed": true
   },
   "outputs": [],
   "source": [
    "DFW_df = DFW_df.drop(['FL_DATE'], axis = 1).sample(frac = 0.1)"
   ]
  },
  {
   "cell_type": "code",
   "execution_count": 51,
   "metadata": {
    "collapsed": false
   },
   "outputs": [
    {
     "data": {
      "text/html": [
       "<div>\n",
       "<table border=\"1\" class=\"dataframe\">\n",
       "  <thead>\n",
       "    <tr style=\"text-align: right;\">\n",
       "      <th></th>\n",
       "      <th>MONTH</th>\n",
       "      <th>DAY_OF_WEEK</th>\n",
       "      <th>DEP_TIME_BLK</th>\n",
       "      <th>ARR_DEL15</th>\n",
       "      <th>ARR_TIME_BLK</th>\n",
       "      <th>DISTANCE_GROUP</th>\n",
       "      <th>UNIQUE_CARRIER_AA</th>\n",
       "      <th>UNIQUE_CARRIER_AS</th>\n",
       "      <th>UNIQUE_CARRIER_B6</th>\n",
       "      <th>UNIQUE_CARRIER_DL</th>\n",
       "      <th>UNIQUE_CARRIER_EV</th>\n",
       "      <th>UNIQUE_CARRIER_F9</th>\n",
       "      <th>UNIQUE_CARRIER_NK</th>\n",
       "      <th>UNIQUE_CARRIER_OO</th>\n",
       "      <th>UNIQUE_CARRIER_UA</th>\n",
       "    </tr>\n",
       "  </thead>\n",
       "  <tbody>\n",
       "    <tr>\n",
       "      <th>50204</th>\n",
       "      <td>12</td>\n",
       "      <td>4</td>\n",
       "      <td>3</td>\n",
       "      <td>0</td>\n",
       "      <td>3</td>\n",
       "      <td>1</td>\n",
       "      <td>0</td>\n",
       "      <td>0</td>\n",
       "      <td>0</td>\n",
       "      <td>0</td>\n",
       "      <td>1</td>\n",
       "      <td>0</td>\n",
       "      <td>0</td>\n",
       "      <td>0</td>\n",
       "      <td>0</td>\n",
       "    </tr>\n",
       "    <tr>\n",
       "      <th>106365</th>\n",
       "      <td>4</td>\n",
       "      <td>5</td>\n",
       "      <td>6</td>\n",
       "      <td>0</td>\n",
       "      <td>1</td>\n",
       "      <td>4</td>\n",
       "      <td>1</td>\n",
       "      <td>0</td>\n",
       "      <td>0</td>\n",
       "      <td>0</td>\n",
       "      <td>0</td>\n",
       "      <td>0</td>\n",
       "      <td>0</td>\n",
       "      <td>0</td>\n",
       "      <td>0</td>\n",
       "    </tr>\n",
       "    <tr>\n",
       "      <th>80132</th>\n",
       "      <td>3</td>\n",
       "      <td>6</td>\n",
       "      <td>2</td>\n",
       "      <td>0</td>\n",
       "      <td>3</td>\n",
       "      <td>3</td>\n",
       "      <td>0</td>\n",
       "      <td>0</td>\n",
       "      <td>0</td>\n",
       "      <td>0</td>\n",
       "      <td>1</td>\n",
       "      <td>0</td>\n",
       "      <td>0</td>\n",
       "      <td>0</td>\n",
       "      <td>0</td>\n",
       "    </tr>\n",
       "    <tr>\n",
       "      <th>83140</th>\n",
       "      <td>3</td>\n",
       "      <td>6</td>\n",
       "      <td>4</td>\n",
       "      <td>0</td>\n",
       "      <td>5</td>\n",
       "      <td>1</td>\n",
       "      <td>0</td>\n",
       "      <td>0</td>\n",
       "      <td>0</td>\n",
       "      <td>0</td>\n",
       "      <td>0</td>\n",
       "      <td>0</td>\n",
       "      <td>0</td>\n",
       "      <td>0</td>\n",
       "      <td>1</td>\n",
       "    </tr>\n",
       "    <tr>\n",
       "      <th>172005</th>\n",
       "      <td>8</td>\n",
       "      <td>3</td>\n",
       "      <td>5</td>\n",
       "      <td>0</td>\n",
       "      <td>6</td>\n",
       "      <td>6</td>\n",
       "      <td>1</td>\n",
       "      <td>0</td>\n",
       "      <td>0</td>\n",
       "      <td>0</td>\n",
       "      <td>0</td>\n",
       "      <td>0</td>\n",
       "      <td>0</td>\n",
       "      <td>0</td>\n",
       "      <td>0</td>\n",
       "    </tr>\n",
       "  </tbody>\n",
       "</table>\n",
       "</div>"
      ],
      "text/plain": [
       "        MONTH  DAY_OF_WEEK  DEP_TIME_BLK  ARR_DEL15  ARR_TIME_BLK  \\\n",
       "50204      12            4             3          0             3   \n",
       "106365      4            5             6          0             1   \n",
       "80132       3            6             2          0             3   \n",
       "83140       3            6             4          0             5   \n",
       "172005      8            3             5          0             6   \n",
       "\n",
       "        DISTANCE_GROUP  UNIQUE_CARRIER_AA  UNIQUE_CARRIER_AS  \\\n",
       "50204                1                  0                  0   \n",
       "106365               4                  1                  0   \n",
       "80132                3                  0                  0   \n",
       "83140                1                  0                  0   \n",
       "172005               6                  1                  0   \n",
       "\n",
       "        UNIQUE_CARRIER_B6  UNIQUE_CARRIER_DL  UNIQUE_CARRIER_EV  \\\n",
       "50204                   0                  0                  1   \n",
       "106365                  0                  0                  0   \n",
       "80132                   0                  0                  1   \n",
       "83140                   0                  0                  0   \n",
       "172005                  0                  0                  0   \n",
       "\n",
       "        UNIQUE_CARRIER_F9  UNIQUE_CARRIER_NK  UNIQUE_CARRIER_OO  \\\n",
       "50204                   0                  0                  0   \n",
       "106365                  0                  0                  0   \n",
       "80132                   0                  0                  0   \n",
       "83140                   0                  0                  0   \n",
       "172005                  0                  0                  0   \n",
       "\n",
       "        UNIQUE_CARRIER_UA  \n",
       "50204                   0  \n",
       "106365                  0  \n",
       "80132                   0  \n",
       "83140                   1  \n",
       "172005                  0  "
      ]
     },
     "execution_count": 51,
     "metadata": {},
     "output_type": "execute_result"
    }
   ],
   "source": [
    "train_df, test_df = train_test_split(DFW_df, test_size = 0.2)\n",
    "train_df = train_df\n",
    "train_df.head()"
   ]
  },
  {
   "cell_type": "code",
   "execution_count": 52,
   "metadata": {
    "collapsed": false
   },
   "outputs": [
    {
     "name": "stdout",
     "output_type": "stream",
     "text": [
      "<class 'pandas.core.frame.DataFrame'>\n",
      "Int64Index: 15682 entries, 50204 to 118662\n",
      "Data columns (total 15 columns):\n",
      "MONTH                15682 non-null int64\n",
      "DAY_OF_WEEK          15682 non-null int64\n",
      "DEP_TIME_BLK         15682 non-null int64\n",
      "ARR_DEL15            15682 non-null int64\n",
      "ARR_TIME_BLK         15682 non-null int64\n",
      "DISTANCE_GROUP       15682 non-null int64\n",
      "UNIQUE_CARRIER_AA    15682 non-null uint8\n",
      "UNIQUE_CARRIER_AS    15682 non-null uint8\n",
      "UNIQUE_CARRIER_B6    15682 non-null uint8\n",
      "UNIQUE_CARRIER_DL    15682 non-null uint8\n",
      "UNIQUE_CARRIER_EV    15682 non-null uint8\n",
      "UNIQUE_CARRIER_F9    15682 non-null uint8\n",
      "UNIQUE_CARRIER_NK    15682 non-null uint8\n",
      "UNIQUE_CARRIER_OO    15682 non-null uint8\n",
      "UNIQUE_CARRIER_UA    15682 non-null uint8\n",
      "dtypes: int64(6), uint8(9)\n",
      "memory usage: 995.4 KB\n"
     ]
    }
   ],
   "source": [
    "train_df.info()"
   ]
  },
  {
   "cell_type": "code",
   "execution_count": 53,
   "metadata": {
    "collapsed": false
   },
   "outputs": [
    {
     "data": {
      "text/html": [
       "<div>\n",
       "<table border=\"1\" class=\"dataframe\">\n",
       "  <thead>\n",
       "    <tr style=\"text-align: right;\">\n",
       "      <th></th>\n",
       "      <th>MONTH</th>\n",
       "      <th>DAY_OF_WEEK</th>\n",
       "      <th>DEP_TIME_BLK</th>\n",
       "      <th>ARR_TIME_BLK</th>\n",
       "      <th>DISTANCE_GROUP</th>\n",
       "      <th>UNIQUE_CARRIER_AA</th>\n",
       "      <th>UNIQUE_CARRIER_AS</th>\n",
       "      <th>UNIQUE_CARRIER_B6</th>\n",
       "      <th>UNIQUE_CARRIER_DL</th>\n",
       "      <th>UNIQUE_CARRIER_EV</th>\n",
       "      <th>UNIQUE_CARRIER_F9</th>\n",
       "      <th>UNIQUE_CARRIER_NK</th>\n",
       "      <th>UNIQUE_CARRIER_OO</th>\n",
       "      <th>UNIQUE_CARRIER_UA</th>\n",
       "    </tr>\n",
       "  </thead>\n",
       "  <tbody>\n",
       "    <tr>\n",
       "      <th>50204</th>\n",
       "      <td>12</td>\n",
       "      <td>4</td>\n",
       "      <td>3</td>\n",
       "      <td>3</td>\n",
       "      <td>1</td>\n",
       "      <td>0</td>\n",
       "      <td>0</td>\n",
       "      <td>0</td>\n",
       "      <td>0</td>\n",
       "      <td>1</td>\n",
       "      <td>0</td>\n",
       "      <td>0</td>\n",
       "      <td>0</td>\n",
       "      <td>0</td>\n",
       "    </tr>\n",
       "    <tr>\n",
       "      <th>106365</th>\n",
       "      <td>4</td>\n",
       "      <td>5</td>\n",
       "      <td>6</td>\n",
       "      <td>1</td>\n",
       "      <td>4</td>\n",
       "      <td>1</td>\n",
       "      <td>0</td>\n",
       "      <td>0</td>\n",
       "      <td>0</td>\n",
       "      <td>0</td>\n",
       "      <td>0</td>\n",
       "      <td>0</td>\n",
       "      <td>0</td>\n",
       "      <td>0</td>\n",
       "    </tr>\n",
       "    <tr>\n",
       "      <th>80132</th>\n",
       "      <td>3</td>\n",
       "      <td>6</td>\n",
       "      <td>2</td>\n",
       "      <td>3</td>\n",
       "      <td>3</td>\n",
       "      <td>0</td>\n",
       "      <td>0</td>\n",
       "      <td>0</td>\n",
       "      <td>0</td>\n",
       "      <td>1</td>\n",
       "      <td>0</td>\n",
       "      <td>0</td>\n",
       "      <td>0</td>\n",
       "      <td>0</td>\n",
       "    </tr>\n",
       "    <tr>\n",
       "      <th>83140</th>\n",
       "      <td>3</td>\n",
       "      <td>6</td>\n",
       "      <td>4</td>\n",
       "      <td>5</td>\n",
       "      <td>1</td>\n",
       "      <td>0</td>\n",
       "      <td>0</td>\n",
       "      <td>0</td>\n",
       "      <td>0</td>\n",
       "      <td>0</td>\n",
       "      <td>0</td>\n",
       "      <td>0</td>\n",
       "      <td>0</td>\n",
       "      <td>1</td>\n",
       "    </tr>\n",
       "    <tr>\n",
       "      <th>172005</th>\n",
       "      <td>8</td>\n",
       "      <td>3</td>\n",
       "      <td>5</td>\n",
       "      <td>6</td>\n",
       "      <td>6</td>\n",
       "      <td>1</td>\n",
       "      <td>0</td>\n",
       "      <td>0</td>\n",
       "      <td>0</td>\n",
       "      <td>0</td>\n",
       "      <td>0</td>\n",
       "      <td>0</td>\n",
       "      <td>0</td>\n",
       "      <td>0</td>\n",
       "    </tr>\n",
       "  </tbody>\n",
       "</table>\n",
       "</div>"
      ],
      "text/plain": [
       "        MONTH  DAY_OF_WEEK  DEP_TIME_BLK  ARR_TIME_BLK  DISTANCE_GROUP  \\\n",
       "50204      12            4             3             3               1   \n",
       "106365      4            5             6             1               4   \n",
       "80132       3            6             2             3               3   \n",
       "83140       3            6             4             5               1   \n",
       "172005      8            3             5             6               6   \n",
       "\n",
       "        UNIQUE_CARRIER_AA  UNIQUE_CARRIER_AS  UNIQUE_CARRIER_B6  \\\n",
       "50204                   0                  0                  0   \n",
       "106365                  1                  0                  0   \n",
       "80132                   0                  0                  0   \n",
       "83140                   0                  0                  0   \n",
       "172005                  1                  0                  0   \n",
       "\n",
       "        UNIQUE_CARRIER_DL  UNIQUE_CARRIER_EV  UNIQUE_CARRIER_F9  \\\n",
       "50204                   0                  1                  0   \n",
       "106365                  0                  0                  0   \n",
       "80132                   0                  1                  0   \n",
       "83140                   0                  0                  0   \n",
       "172005                  0                  0                  0   \n",
       "\n",
       "        UNIQUE_CARRIER_NK  UNIQUE_CARRIER_OO  UNIQUE_CARRIER_UA  \n",
       "50204                   0                  0                  0  \n",
       "106365                  0                  0                  0  \n",
       "80132                   0                  0                  0  \n",
       "83140                   0                  0                  1  \n",
       "172005                  0                  0                  0  "
      ]
     },
     "execution_count": 53,
     "metadata": {},
     "output_type": "execute_result"
    }
   ],
   "source": [
    "X_train = train_df.drop(['ARR_DEL15'], axis=1)\n",
    "X_test = test_df.drop(['ARR_DEL15'], axis = 1)\n",
    "X_train.head()"
   ]
  },
  {
   "cell_type": "code",
   "execution_count": 54,
   "metadata": {
    "collapsed": false
   },
   "outputs": [
    {
     "data": {
      "text/plain": [
       "61615     0\n",
       "27095     0\n",
       "58793     0\n",
       "74090     0\n",
       "147276    0\n",
       "Name: ARR_DEL15, dtype: int64"
      ]
     },
     "execution_count": 54,
     "metadata": {},
     "output_type": "execute_result"
    }
   ],
   "source": [
    "Y = train_df.drop(X_train, axis = 1)\n",
    "Y_train = Y['ARR_DEL15']\n",
    "Y_test = test_df.drop(X_test, axis = 1)['ARR_DEL15']\n",
    "Y_test.head()\n"
   ]
  },
  {
   "cell_type": "markdown",
   "metadata": {},
   "source": [
    "The models using X_train and X_test are LR, KNN, Linear SVC, Gaussian Naive Bayes, Perceptron, Decision Tree and Random Forest"
   ]
  },
  {
   "cell_type": "code",
   "execution_count": 55,
   "metadata": {
    "collapsed": false
   },
   "outputs": [
    {
     "data": {
      "text/plain": [
       "80.94"
      ]
     },
     "execution_count": 55,
     "metadata": {},
     "output_type": "execute_result"
    }
   ],
   "source": [
    "# Logistic Regression\n",
    "\n",
    "logreg = LogisticRegression()\n",
    "logreg.fit(X_train, Y_train)\n",
    "Y_pred = logreg.predict(X_test)\n",
    "acc_log = round(logreg.score(X_train, Y_train) * 100, 2)\n",
    "acc_log"
   ]
  },
  {
   "cell_type": "code",
   "execution_count": 56,
   "metadata": {
    "collapsed": false
   },
   "outputs": [
    {
     "data": {
      "text/plain": [
       "0.0"
      ]
     },
     "execution_count": 56,
     "metadata": {},
     "output_type": "execute_result"
    }
   ],
   "source": [
    "Y_pred.mean()"
   ]
  },
  {
   "cell_type": "markdown",
   "metadata": {},
   "source": [
    "Here we see the model simply predicts that every flight is ontime. So this is not an accurate model"
   ]
  },
  {
   "cell_type": "code",
   "execution_count": 57,
   "metadata": {
    "collapsed": false
   },
   "outputs": [
    {
     "data": {
      "text/html": [
       "<div>\n",
       "<table border=\"1\" class=\"dataframe\">\n",
       "  <thead>\n",
       "    <tr style=\"text-align: right;\">\n",
       "      <th></th>\n",
       "      <th>Feature</th>\n",
       "      <th>Correlation</th>\n",
       "    </tr>\n",
       "  </thead>\n",
       "  <tbody>\n",
       "    <tr>\n",
       "      <th>3</th>\n",
       "      <td>ARR_TIME_BLK</td>\n",
       "      <td>0.108290</td>\n",
       "    </tr>\n",
       "    <tr>\n",
       "      <th>2</th>\n",
       "      <td>ARR_DEL15</td>\n",
       "      <td>0.107222</td>\n",
       "    </tr>\n",
       "    <tr>\n",
       "      <th>1</th>\n",
       "      <td>DEP_TIME_BLK</td>\n",
       "      <td>0.021098</td>\n",
       "    </tr>\n",
       "    <tr>\n",
       "      <th>0</th>\n",
       "      <td>DAY_OF_WEEK</td>\n",
       "      <td>0.010580</td>\n",
       "    </tr>\n",
       "    <tr>\n",
       "      <th>4</th>\n",
       "      <td>DISTANCE_GROUP</td>\n",
       "      <td>-0.002010</td>\n",
       "    </tr>\n",
       "    <tr>\n",
       "      <th>9</th>\n",
       "      <td>UNIQUE_CARRIER_EV</td>\n",
       "      <td>-0.012738</td>\n",
       "    </tr>\n",
       "    <tr>\n",
       "      <th>7</th>\n",
       "      <td>UNIQUE_CARRIER_B6</td>\n",
       "      <td>-0.019449</td>\n",
       "    </tr>\n",
       "    <tr>\n",
       "      <th>10</th>\n",
       "      <td>UNIQUE_CARRIER_F9</td>\n",
       "      <td>-0.040608</td>\n",
       "    </tr>\n",
       "    <tr>\n",
       "      <th>11</th>\n",
       "      <td>UNIQUE_CARRIER_NK</td>\n",
       "      <td>-0.071004</td>\n",
       "    </tr>\n",
       "    <tr>\n",
       "      <th>12</th>\n",
       "      <td>UNIQUE_CARRIER_OO</td>\n",
       "      <td>-0.142908</td>\n",
       "    </tr>\n",
       "    <tr>\n",
       "      <th>13</th>\n",
       "      <td>UNIQUE_CARRIER_UA</td>\n",
       "      <td>-0.254414</td>\n",
       "    </tr>\n",
       "    <tr>\n",
       "      <th>5</th>\n",
       "      <td>UNIQUE_CARRIER_AA</td>\n",
       "      <td>-0.285945</td>\n",
       "    </tr>\n",
       "    <tr>\n",
       "      <th>6</th>\n",
       "      <td>UNIQUE_CARRIER_AS</td>\n",
       "      <td>-0.414350</td>\n",
       "    </tr>\n",
       "    <tr>\n",
       "      <th>8</th>\n",
       "      <td>UNIQUE_CARRIER_DL</td>\n",
       "      <td>-0.791038</td>\n",
       "    </tr>\n",
       "  </tbody>\n",
       "</table>\n",
       "</div>"
      ],
      "text/plain": [
       "              Feature  Correlation\n",
       "3        ARR_TIME_BLK     0.108290\n",
       "2           ARR_DEL15     0.107222\n",
       "1        DEP_TIME_BLK     0.021098\n",
       "0         DAY_OF_WEEK     0.010580\n",
       "4      DISTANCE_GROUP    -0.002010\n",
       "9   UNIQUE_CARRIER_EV    -0.012738\n",
       "7   UNIQUE_CARRIER_B6    -0.019449\n",
       "10  UNIQUE_CARRIER_F9    -0.040608\n",
       "11  UNIQUE_CARRIER_NK    -0.071004\n",
       "12  UNIQUE_CARRIER_OO    -0.142908\n",
       "13  UNIQUE_CARRIER_UA    -0.254414\n",
       "5   UNIQUE_CARRIER_AA    -0.285945\n",
       "6   UNIQUE_CARRIER_AS    -0.414350\n",
       "8   UNIQUE_CARRIER_DL    -0.791038"
      ]
     },
     "execution_count": 57,
     "metadata": {},
     "output_type": "execute_result"
    }
   ],
   "source": [
    "coeff_df = pd.DataFrame(train_df.columns.delete(0))\n",
    "coeff_df.columns = ['Feature']\n",
    "coeff_df[\"Correlation\"] = pd.Series(logreg.coef_[0])\n",
    "\n",
    "coeff_df.sort_values(by='Correlation', ascending=False)"
   ]
  },
  {
   "cell_type": "code",
   "execution_count": 58,
   "metadata": {
    "collapsed": false
   },
   "outputs": [
    {
     "name": "stdout",
     "output_type": "stream",
     "text": [
      "             precision    recall  f1-score   support\n",
      "\n",
      "     ONTIME       0.80      1.00      0.89      3141\n",
      "    DELAYED       0.00      0.00      0.00       780\n",
      "\n",
      "avg / total       0.64      0.80      0.71      3921\n",
      "\n"
     ]
    },
    {
     "name": "stderr",
     "output_type": "stream",
     "text": [
      "/Users/zhuyuecheng/anaconda/lib/python2.7/site-packages/sklearn/metrics/classification.py:1113: UndefinedMetricWarning: Precision and F-score are ill-defined and being set to 0.0 in labels with no predicted samples.\n",
      "  'precision', 'predicted', average, warn_for)\n"
     ]
    }
   ],
   "source": [
    "target_names = ['ONTIME', 'DELAYED']\n",
    "print(classification_report(Y_test, Y_pred, target_names=target_names))"
   ]
  },
  {
   "cell_type": "code",
   "execution_count": 59,
   "metadata": {
    "collapsed": false
   },
   "outputs": [
    {
     "name": "stdout",
     "output_type": "stream",
     "text": [
      "0.801071155318\n"
     ]
    }
   ],
   "source": [
    "print(accuracy_score(Y_test, Y_pred))"
   ]
  },
  {
   "cell_type": "code",
   "execution_count": 60,
   "metadata": {
    "collapsed": false
   },
   "outputs": [
    {
     "data": {
      "text/plain": [
       "84.37"
      ]
     },
     "execution_count": 60,
     "metadata": {},
     "output_type": "execute_result"
    }
   ],
   "source": [
    "# KNN\n",
    "\n",
    "knn = KNeighborsClassifier(n_neighbors = 3)\n",
    "knn.fit(X_train, Y_train)\n",
    "Y_pred = knn.predict(X_test)\n",
    "acc_knn = round(knn.score(X_train, Y_train) * 100, 2)\n",
    "acc_knn"
   ]
  },
  {
   "cell_type": "code",
   "execution_count": 61,
   "metadata": {
    "collapsed": false
   },
   "outputs": [
    {
     "name": "stdout",
     "output_type": "stream",
     "text": [
      "             precision    recall  f1-score   support\n",
      "\n",
      "     ONTIME       0.82      0.90      0.86      3141\n",
      "    DELAYED       0.32      0.19      0.24       780\n",
      "\n",
      "avg / total       0.72      0.76      0.73      3921\n",
      "\n"
     ]
    }
   ],
   "source": [
    "print(classification_report(Y_test, Y_pred, target_names=target_names))"
   ]
  },
  {
   "cell_type": "code",
   "execution_count": 62,
   "metadata": {
    "collapsed": false
   },
   "outputs": [
    {
     "name": "stdout",
     "output_type": "stream",
     "text": [
      "0.759755164499\n"
     ]
    }
   ],
   "source": [
    "print(accuracy_score(Y_test, Y_pred))"
   ]
  },
  {
   "cell_type": "code",
   "execution_count": 63,
   "metadata": {
    "collapsed": false
   },
   "outputs": [
    {
     "data": {
      "text/plain": [
       "80.94"
      ]
     },
     "execution_count": 63,
     "metadata": {},
     "output_type": "execute_result"
    }
   ],
   "source": [
    "# Linear SVC\n",
    "\n",
    "linear_svc = LinearSVC()\n",
    "linear_svc.fit(X_train, Y_train)\n",
    "Y_pred = linear_svc.predict(X_test)\n",
    "acc_linear_svc = round(linear_svc.score(X_train, Y_train) * 100, 2)\n",
    "acc_linear_svc"
   ]
  },
  {
   "cell_type": "code",
   "execution_count": 64,
   "metadata": {
    "collapsed": false
   },
   "outputs": [
    {
     "name": "stdout",
     "output_type": "stream",
     "text": [
      "             precision    recall  f1-score   support\n",
      "\n",
      "     ONTIME       0.80      1.00      0.89      3141\n",
      "    DELAYED       0.00      0.00      0.00       780\n",
      "\n",
      "avg / total       0.64      0.80      0.71      3921\n",
      "\n"
     ]
    }
   ],
   "source": [
    "print(classification_report(Y_test, Y_pred, target_names=target_names))"
   ]
  },
  {
   "cell_type": "code",
   "execution_count": 65,
   "metadata": {
    "collapsed": false
   },
   "outputs": [
    {
     "name": "stdout",
     "output_type": "stream",
     "text": [
      "0.801071155318\n"
     ]
    }
   ],
   "source": [
    "print(accuracy_score(Y_test, Y_pred))"
   ]
  },
  {
   "cell_type": "code",
   "execution_count": 66,
   "metadata": {
    "collapsed": false
   },
   "outputs": [
    {
     "data": {
      "text/plain": [
       "75.68"
      ]
     },
     "execution_count": 66,
     "metadata": {},
     "output_type": "execute_result"
    }
   ],
   "source": [
    "# Gaussian Naive Bayes\n",
    "\n",
    "gaussian = GaussianNB()\n",
    "gaussian.fit(X_train, Y_train)\n",
    "Y_pred = gaussian.predict(X_test)\n",
    "acc_gaussian = round(gaussian.score(X_train, Y_train) * 100, 2)\n",
    "acc_gaussian"
   ]
  },
  {
   "cell_type": "code",
   "execution_count": 67,
   "metadata": {
    "collapsed": false
   },
   "outputs": [
    {
     "name": "stdout",
     "output_type": "stream",
     "text": [
      "             precision    recall  f1-score   support\n",
      "\n",
      "     ONTIME       0.81      0.90      0.85      3141\n",
      "    DELAYED       0.26      0.14      0.18       780\n",
      "\n",
      "avg / total       0.70      0.75      0.72      3921\n",
      "\n"
     ]
    }
   ],
   "source": [
    "print(classification_report(Y_test, Y_pred, target_names=target_names))"
   ]
  },
  {
   "cell_type": "code",
   "execution_count": 68,
   "metadata": {
    "collapsed": false
   },
   "outputs": [
    {
     "name": "stdout",
     "output_type": "stream",
     "text": [
      "0.751593981127\n"
     ]
    }
   ],
   "source": [
    "print(accuracy_score(Y_test, Y_pred))"
   ]
  },
  {
   "cell_type": "code",
   "execution_count": 69,
   "metadata": {
    "collapsed": false
   },
   "outputs": [
    {
     "data": {
      "text/plain": [
       "80.29"
      ]
     },
     "execution_count": 69,
     "metadata": {},
     "output_type": "execute_result"
    }
   ],
   "source": [
    "# Perceptron\n",
    "\n",
    "perceptron = Perceptron()\n",
    "perceptron.fit(X_train, Y_train)\n",
    "Y_pred = perceptron.predict(X_test)\n",
    "acc_perceptron = round(perceptron.score(X_train, Y_train) * 100, 2)\n",
    "acc_perceptron"
   ]
  },
  {
   "cell_type": "code",
   "execution_count": 70,
   "metadata": {
    "collapsed": false
   },
   "outputs": [
    {
     "name": "stdout",
     "output_type": "stream",
     "text": [
      "             precision    recall  f1-score   support\n",
      "\n",
      "     ONTIME       0.80      0.99      0.89      3141\n",
      "    DELAYED       0.30      0.02      0.03       780\n",
      "\n",
      "avg / total       0.70      0.80      0.72      3921\n",
      "\n"
     ]
    }
   ],
   "source": [
    "print(classification_report(Y_test, Y_pred, target_names=target_names))"
   ]
  },
  {
   "cell_type": "code",
   "execution_count": 71,
   "metadata": {
    "collapsed": false
   },
   "outputs": [
    {
     "name": "stdout",
     "output_type": "stream",
     "text": [
      "0.796735526651\n"
     ]
    }
   ],
   "source": [
    "print(accuracy_score(Y_test, Y_pred))"
   ]
  },
  {
   "cell_type": "code",
   "execution_count": 72,
   "metadata": {
    "collapsed": false
   },
   "outputs": [
    {
     "data": {
      "text/plain": [
       "88.9"
      ]
     },
     "execution_count": 72,
     "metadata": {},
     "output_type": "execute_result"
    }
   ],
   "source": [
    "# Decision Tree\n",
    "\n",
    "decision_tree = DecisionTreeClassifier()\n",
    "decision_tree.fit(X_train, Y_train)\n",
    "Y_pred = decision_tree.predict(X_test)\n",
    "acc_decision_tree = round(decision_tree.score(X_train, Y_train) * 100, 2)\n",
    "acc_decision_tree"
   ]
  },
  {
   "cell_type": "code",
   "execution_count": 73,
   "metadata": {
    "collapsed": false
   },
   "outputs": [
    {
     "name": "stdout",
     "output_type": "stream",
     "text": [
      "             precision    recall  f1-score   support\n",
      "\n",
      "     ONTIME       0.82      0.89      0.85      3141\n",
      "    DELAYED       0.31      0.19      0.24       780\n",
      "\n",
      "avg / total       0.72      0.76      0.73      3921\n",
      "\n"
     ]
    }
   ],
   "source": [
    "print(classification_report(Y_test, Y_pred, target_names=target_names))"
   ]
  },
  {
   "cell_type": "code",
   "execution_count": 74,
   "metadata": {
    "collapsed": false
   },
   "outputs": [
    {
     "name": "stdout",
     "output_type": "stream",
     "text": [
      "0.755419535833\n"
     ]
    }
   ],
   "source": [
    "print(accuracy_score(Y_test, Y_pred))"
   ]
  },
  {
   "cell_type": "code",
   "execution_count": 75,
   "metadata": {
    "collapsed": false
   },
   "outputs": [
    {
     "data": {
      "text/plain": [
       "88.9"
      ]
     },
     "execution_count": 75,
     "metadata": {},
     "output_type": "execute_result"
    }
   ],
   "source": [
    "# Random Forest\n",
    "\n",
    "random_forest = RandomForestClassifier(n_estimators=100)\n",
    "random_forest.fit(X_train, Y_train)\n",
    "Y_pred = random_forest.predict(X_test)\n",
    "random_forest.score(X_train, Y_train)\n",
    "acc_random_forest = round(random_forest.score(X_train, Y_train) * 100, 2)\n",
    "acc_random_forest"
   ]
  },
  {
   "cell_type": "code",
   "execution_count": 76,
   "metadata": {
    "collapsed": false
   },
   "outputs": [
    {
     "name": "stdout",
     "output_type": "stream",
     "text": [
      "             precision    recall  f1-score   support\n",
      "\n",
      "     ONTIME       0.82      0.92      0.87      3141\n",
      "    DELAYED       0.35      0.17      0.23       780\n",
      "\n",
      "avg / total       0.72      0.77      0.74      3921\n",
      "\n"
     ]
    }
   ],
   "source": [
    "print(classification_report(Y_test, Y_pred, target_names=target_names))"
   ]
  },
  {
   "cell_type": "code",
   "execution_count": 77,
   "metadata": {
    "collapsed": false
   },
   "outputs": [
    {
     "name": "stdout",
     "output_type": "stream",
     "text": [
      "0.772251976537\n"
     ]
    }
   ],
   "source": [
    "print(accuracy_score(Y_test, Y_pred))"
   ]
  },
  {
   "cell_type": "markdown",
   "metadata": {},
   "source": [
    "For Support Vector Machine (nonlinear), it is better not to use the dummy variablies. So we simply drop all the dummy variables containing the information of airlines. We use X_train_red and X_test_red to train and test the models. "
   ]
  },
  {
   "cell_type": "code",
   "execution_count": 78,
   "metadata": {
    "collapsed": false
   },
   "outputs": [
    {
     "data": {
      "text/plain": [
       "array(['MONTH', 'DAY_OF_WEEK', 'DEP_TIME_BLK', 'ARR_TIME_BLK',\n",
       "       'DISTANCE_GROUP', 'UNIQUE_CARRIER_AA', 'UNIQUE_CARRIER_AS',\n",
       "       'UNIQUE_CARRIER_B6', 'UNIQUE_CARRIER_DL', 'UNIQUE_CARRIER_EV',\n",
       "       'UNIQUE_CARRIER_F9', 'UNIQUE_CARRIER_NK', 'UNIQUE_CARRIER_OO',\n",
       "       'UNIQUE_CARRIER_UA'], dtype=object)"
      ]
     },
     "execution_count": 78,
     "metadata": {},
     "output_type": "execute_result"
    }
   ],
   "source": [
    "X_train.columns.values"
   ]
  },
  {
   "cell_type": "code",
   "execution_count": 79,
   "metadata": {
    "collapsed": false
   },
   "outputs": [
    {
     "name": "stdout",
     "output_type": "stream",
     "text": [
      "<class 'pandas.core.frame.DataFrame'>\n",
      "Int64Index: 15682 entries, 50204 to 118662\n",
      "Data columns (total 5 columns):\n",
      "MONTH             15682 non-null int64\n",
      "DAY_OF_WEEK       15682 non-null int64\n",
      "DEP_TIME_BLK      15682 non-null int64\n",
      "ARR_TIME_BLK      15682 non-null int64\n",
      "DISTANCE_GROUP    15682 non-null int64\n",
      "dtypes: int64(5)\n",
      "memory usage: 735.1 KB\n"
     ]
    }
   ],
   "source": [
    "X_train_red = X_train.loc[:,['MONTH', 'DAY_OF_WEEK', 'DEP_TIME_BLK', \n",
    "                           'ARR_TIME_BLK','DISTANCE_GROUP']]\n",
    "X_train_red.info()"
   ]
  },
  {
   "cell_type": "code",
   "execution_count": 80,
   "metadata": {
    "collapsed": false
   },
   "outputs": [
    {
     "name": "stdout",
     "output_type": "stream",
     "text": [
      "<class 'pandas.core.frame.DataFrame'>\n",
      "Int64Index: 3921 entries, 61615 to 99741\n",
      "Data columns (total 5 columns):\n",
      "MONTH             3921 non-null int64\n",
      "DAY_OF_WEEK       3921 non-null int64\n",
      "DEP_TIME_BLK      3921 non-null int64\n",
      "ARR_TIME_BLK      3921 non-null int64\n",
      "DISTANCE_GROUP    3921 non-null int64\n",
      "dtypes: int64(5)\n",
      "memory usage: 183.8 KB\n"
     ]
    }
   ],
   "source": [
    "X_test_red = X_test.loc[:,['MONTH', 'DAY_OF_WEEK', 'DEP_TIME_BLK', \n",
    "                           'ARR_TIME_BLK','DISTANCE_GROUP']].copy()\n",
    "X_test_red.info()"
   ]
  },
  {
   "cell_type": "code",
   "execution_count": 81,
   "metadata": {
    "collapsed": false
   },
   "outputs": [
    {
     "data": {
      "text/plain": [
       "81.02"
      ]
     },
     "execution_count": 81,
     "metadata": {},
     "output_type": "execute_result"
    }
   ],
   "source": [
    "# Support Vector Machines\n",
    "\n",
    "svc = SVC()\n",
    "svc.fit(X_train_red, Y_train)\n",
    "Y_pred = svc.predict(X_test_red)\n",
    "acc_svc = round(svc.score(X_train_red, Y_train) * 100, 2)\n",
    "acc_svc"
   ]
  },
  {
   "cell_type": "code",
   "execution_count": 82,
   "metadata": {
    "collapsed": false
   },
   "outputs": [
    {
     "name": "stdout",
     "output_type": "stream",
     "text": [
      "             precision    recall  f1-score   support\n",
      "\n",
      "     ONTIME       0.80      1.00      0.89      3141\n",
      "    DELAYED       0.71      0.01      0.01       780\n",
      "\n",
      "avg / total       0.78      0.80      0.72      3921\n",
      "\n"
     ]
    }
   ],
   "source": [
    "print(classification_report(Y_test, Y_pred, target_names=target_names))"
   ]
  },
  {
   "cell_type": "code",
   "execution_count": 83,
   "metadata": {
    "collapsed": false
   },
   "outputs": [
    {
     "name": "stdout",
     "output_type": "stream",
     "text": [
      "0.801836266259\n"
     ]
    }
   ],
   "source": [
    "print(accuracy_score(Y_test, Y_pred))"
   ]
  },
  {
   "cell_type": "markdown",
   "metadata": {},
   "source": [
    "We run the models dozens of times. Since each time we do a sampling, we can observe the average performance. All models have good precision for ONTIME so it suffices to compare the predictions for DELAYED. "
   ]
  },
  {
   "cell_type": "markdown",
   "metadata": {},
   "source": [
    "Evaluation of the models: Logistic regression, Linear SVC and Perceptron fail to predict the delay completely. So they are the worst models. Support Vector Machine has highly unstable performances. The precision for Delayed range from 0 to 1. This might be due to the fact that we throw all the information about airlines for SVC. The KNN, Gaussian Naive Bayes, Decision Tree and Random Forest all have precision around 0.3, and recall around 0.2 for DELAYED. Decision Tree and Random Forest have the highest f1-score in general. Therefore we think the best models are Decision Tree and Random Forest. "
   ]
  },
  {
   "cell_type": "code",
   "execution_count": 84,
   "metadata": {
    "collapsed": false
   },
   "outputs": [
    {
     "name": "stdout",
     "output_type": "stream",
     "text": [
      "<class 'pandas.core.frame.DataFrame'>\n",
      "Int64Index: 15682 entries, 50204 to 118662\n",
      "Data columns (total 1 columns):\n",
      "ARR_DEL15    15682 non-null int64\n",
      "dtypes: int64(1)\n",
      "memory usage: 245.0 KB\n"
     ]
    }
   ],
   "source": [
    "Y.info()"
   ]
  },
  {
   "cell_type": "code",
   "execution_count": 89,
   "metadata": {
    "collapsed": false
   },
   "outputs": [
    {
     "name": "stdout",
     "output_type": "stream",
     "text": [
      "[ 0.48489518  0.17480895  0.16512878  0.13832942  0.0199072   0.00983731]\n"
     ]
    }
   ],
   "source": [
    "pca = PCA(n_components = 6)\n",
    "\n",
    "X_reduced = pca.fit_transform(X_train)\n",
    "\n",
    "print(pca.explained_variance_ratio_)"
   ]
  },
  {
   "cell_type": "markdown",
   "metadata": {},
   "source": [
    "The PCA shows that the data is essentially in a 4-dimensional subspace. "
   ]
  },
  {
   "cell_type": "code",
   "execution_count": 90,
   "metadata": {
    "collapsed": false
   },
   "outputs": [
    {
     "name": "stdout",
     "output_type": "stream",
     "text": [
      "<class 'pandas.core.frame.DataFrame'>\n",
      "RangeIndex: 15682 entries, 0 to 15681\n",
      "Data columns (total 6 columns):\n",
      "0    15682 non-null float64\n",
      "1    15682 non-null float64\n",
      "2    15682 non-null float64\n",
      "3    15682 non-null float64\n",
      "4    15682 non-null float64\n",
      "5    15682 non-null float64\n",
      "dtypes: float64(6)\n",
      "memory usage: 735.2 KB\n"
     ]
    }
   ],
   "source": [
    "X_df = pd.DataFrame(X_reduced)\n",
    "X_df.info()"
   ]
  },
  {
   "cell_type": "code",
   "execution_count": 91,
   "metadata": {
    "collapsed": false
   },
   "outputs": [
    {
     "data": {
      "text/html": [
       "<div>\n",
       "<table border=\"1\" class=\"dataframe\">\n",
       "  <thead>\n",
       "    <tr style=\"text-align: right;\">\n",
       "      <th></th>\n",
       "      <th>ARR_DEL15</th>\n",
       "      <th>0</th>\n",
       "      <th>1</th>\n",
       "      <th>2</th>\n",
       "      <th>3</th>\n",
       "      <th>4</th>\n",
       "      <th>5</th>\n",
       "    </tr>\n",
       "  </thead>\n",
       "  <tbody>\n",
       "    <tr>\n",
       "      <th>3</th>\n",
       "      <td>0</td>\n",
       "      <td>-3.474199</td>\n",
       "      <td>1.326121</td>\n",
       "      <td>1.862115</td>\n",
       "      <td>-3.369553</td>\n",
       "      <td>-0.276350</td>\n",
       "      <td>0.278747</td>\n",
       "    </tr>\n",
       "    <tr>\n",
       "      <th>16</th>\n",
       "      <td>0</td>\n",
       "      <td>-5.380394</td>\n",
       "      <td>0.383511</td>\n",
       "      <td>-0.913111</td>\n",
       "      <td>1.320958</td>\n",
       "      <td>-0.882117</td>\n",
       "      <td>-0.055498</td>\n",
       "    </tr>\n",
       "    <tr>\n",
       "      <th>25</th>\n",
       "      <td>0</td>\n",
       "      <td>-4.465996</td>\n",
       "      <td>-2.200531</td>\n",
       "      <td>2.838983</td>\n",
       "      <td>1.344384</td>\n",
       "      <td>-0.250551</td>\n",
       "      <td>-0.139283</td>\n",
       "    </tr>\n",
       "    <tr>\n",
       "      <th>31</th>\n",
       "      <td>0</td>\n",
       "      <td>-3.440461</td>\n",
       "      <td>0.427251</td>\n",
       "      <td>0.942306</td>\n",
       "      <td>-1.073346</td>\n",
       "      <td>-0.156125</td>\n",
       "      <td>0.509359</td>\n",
       "    </tr>\n",
       "    <tr>\n",
       "      <th>32</th>\n",
       "      <td>0</td>\n",
       "      <td>-5.401429</td>\n",
       "      <td>-1.837529</td>\n",
       "      <td>-3.320574</td>\n",
       "      <td>-0.068705</td>\n",
       "      <td>-0.377485</td>\n",
       "      <td>-0.315255</td>\n",
       "    </tr>\n",
       "  </tbody>\n",
       "</table>\n",
       "</div>"
      ],
      "text/plain": [
       "    ARR_DEL15         0         1         2         3         4         5\n",
       "3           0 -3.474199  1.326121  1.862115 -3.369553 -0.276350  0.278747\n",
       "16          0 -5.380394  0.383511 -0.913111  1.320958 -0.882117 -0.055498\n",
       "25          0 -4.465996 -2.200531  2.838983  1.344384 -0.250551 -0.139283\n",
       "31          0 -3.440461  0.427251  0.942306 -1.073346 -0.156125  0.509359\n",
       "32          0 -5.401429 -1.837529 -3.320574 -0.068705 -0.377485 -0.315255"
      ]
     },
     "execution_count": 91,
     "metadata": {},
     "output_type": "execute_result"
    }
   ],
   "source": [
    "pca_df = Y.merge(X_df, left_index=True, right_index=True)\n",
    "pca_df.head()\n"
   ]
  },
  {
   "cell_type": "markdown",
   "metadata": {},
   "source": [
    "The conclusion is clear. The best models are Decision Tree and Random Forest. For ONTIME the precision, recall, f1-score are around 0.8, 0.9, 0.8. For DELAYED, the precision, recall, and f1-score are around 0.32, 0.2, 0.24. The accuracy is around 0.75. "
   ]
  },
  {
   "cell_type": "markdown",
   "metadata": {},
   "source": [
    "This project compares to a similar project of Alex Huang, David Dowey, Michael Tashman http://ddowey.github.io/cs109-Final-Project/#!index.md\n",
    "which studies the same problem for 2008. Before they use the data accounting for demand, weather, and twitter, they had very similar precision. However, they have a much lower accuracy. This is largely due to the fact that there was a much higher percentage of flight delay in 2008. It might be influenced by different choices of airports as well. In fact, if we do a naive prediction that every flight is on time, we will have over 80% accuracy in 2016. "
   ]
  },
  {
   "cell_type": "markdown",
   "metadata": {},
   "source": [
    "A possible improvement in the future would be to group the airports by the locations and sizes. It might also be improved by including features about the weather and the crew members. "
   ]
  },
  {
   "cell_type": "code",
   "execution_count": null,
   "metadata": {
    "collapsed": true
   },
   "outputs": [],
   "source": []
  }
 ],
 "metadata": {
  "kernelspec": {
   "display_name": "Python 2",
   "language": "python",
   "name": "python2"
  },
  "language_info": {
   "codemirror_mode": {
    "name": "ipython",
    "version": 2
   },
   "file_extension": ".py",
   "mimetype": "text/x-python",
   "name": "python",
   "nbconvert_exporter": "python",
   "pygments_lexer": "ipython2",
   "version": "2.7.13"
  }
 },
 "nbformat": 4,
 "nbformat_minor": 2
}
