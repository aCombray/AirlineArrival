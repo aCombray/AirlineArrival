{
 "cells": [
  {
   "cell_type": "markdown",
   "metadata": {},
   "source": [
    "## Introduction\n",
    "We choose to work on the Airline On-Time Arrivals. This is a typical binary classification problem. Let delay $>= 15$ min be positive 1 and delay $<15$ min be negative 0. \n",
    "<br>\n",
    "There are several difficulties for this project. First, there are over one hundred fields one can download. We make some simple choices here. We use 'UniqueCarrier' to identify the airline, 'Origin' to represent the origin airport, 'Dest' to represent the destination airport. The choices are mainly based on the completeness of the data. We don't consider cancelled or diverted for simplicity. Secondly, there are tens of millions of data for over three decades. We choose to focus on the year 2016. Using part of the data for training and the other part for testing, we can build a model. This model is expected to give prediction to flight delay in 2017. We expect that the model is only useful for a short period since the air traffic, technology, and administration all evolve quickly. "
   ]
  },
  {
   "cell_type": "code",
   "execution_count": 1,
   "metadata": {
    "collapsed": true
   },
   "outputs": [],
   "source": [
    "import pandas as pd\n",
    "import numpy as np\n",
    "import random as rnd\n",
    "import glob\n",
    "\n",
    "import seaborn as sns\n",
    "import matplotlib.pyplot as plt\n",
    "%matplotlib inline\n",
    "\n",
    "from sklearn.model_selection import train_test_split\n",
    "from sklearn.linear_model import LogisticRegression\n",
    "from sklearn.svm import SVC, LinearSVC\n",
    "from sklearn.tree import DecisionTreeClassifier\n",
    "from sklearn.ensemble import RandomForestClassifier\n",
    "from sklearn.naive_bayes import GaussianNB\n",
    "from sklearn.linear_model import Perceptron\n",
    "from sklearn.metrics import classification_report\n",
    "from sklearn.metrics import accuracy_score"
   ]
  },
  {
   "cell_type": "markdown",
   "metadata": {},
   "source": [
    "## Inpute Data\n",
    "The first step is to import 2016 data from a local folder. We have already choosen the fields when we download data from the website."
   ]
  },
  {
   "cell_type": "code",
   "execution_count": 2,
   "metadata": {
    "collapsed": false
   },
   "outputs": [],
   "source": [
    "path ='/Users/zhuyuecheng/Dropbox/MachineLearning/Jupynbs/AirlineArrivals' \n",
    "allFiles = glob.glob(path + \"/*.csv\")\n",
    "df = pd.DataFrame()\n",
    "list_ = []\n",
    "for file_ in allFiles:\n",
    "    dfs = pd.read_csv(file_, parse_dates = ['FL_DATE'])\n",
    "    list_.append(dfs)\n",
    "df = pd.concat(list_)"
   ]
  },
  {
   "cell_type": "code",
   "execution_count": 3,
   "metadata": {
    "collapsed": false
   },
   "outputs": [
    {
     "data": {
      "text/html": [
       "<div>\n",
       "<table border=\"1\" class=\"dataframe\">\n",
       "  <thead>\n",
       "    <tr style=\"text-align: right;\">\n",
       "      <th></th>\n",
       "      <th>YEAR</th>\n",
       "      <th>QUARTER</th>\n",
       "      <th>MONTH</th>\n",
       "      <th>DAY_OF_MONTH</th>\n",
       "      <th>DAY_OF_WEEK</th>\n",
       "      <th>FL_DATE</th>\n",
       "      <th>UNIQUE_CARRIER</th>\n",
       "      <th>ORIGIN</th>\n",
       "      <th>DEST</th>\n",
       "      <th>DEP_DELAY</th>\n",
       "      <th>DEP_DEL15</th>\n",
       "      <th>DEP_TIME_BLK</th>\n",
       "      <th>ARR_DELAY</th>\n",
       "      <th>ARR_DEL15</th>\n",
       "      <th>ARR_TIME_BLK</th>\n",
       "      <th>CRS_ELAPSED_TIME</th>\n",
       "      <th>FLIGHTS</th>\n",
       "      <th>DISTANCE_GROUP</th>\n",
       "      <th>Unnamed: 18</th>\n",
       "    </tr>\n",
       "  </thead>\n",
       "  <tbody>\n",
       "    <tr>\n",
       "      <th>0</th>\n",
       "      <td>2016</td>\n",
       "      <td>1</td>\n",
       "      <td>1</td>\n",
       "      <td>6</td>\n",
       "      <td>3</td>\n",
       "      <td>2016-01-06</td>\n",
       "      <td>AA</td>\n",
       "      <td>DFW</td>\n",
       "      <td>DTW</td>\n",
       "      <td>-3.0</td>\n",
       "      <td>0.0</td>\n",
       "      <td>1100-1159</td>\n",
       "      <td>-6.0</td>\n",
       "      <td>0.0</td>\n",
       "      <td>1400-1459</td>\n",
       "      <td>158.0</td>\n",
       "      <td>1.0</td>\n",
       "      <td>4</td>\n",
       "      <td>NaN</td>\n",
       "    </tr>\n",
       "    <tr>\n",
       "      <th>1</th>\n",
       "      <td>2016</td>\n",
       "      <td>1</td>\n",
       "      <td>1</td>\n",
       "      <td>7</td>\n",
       "      <td>4</td>\n",
       "      <td>2016-01-07</td>\n",
       "      <td>AA</td>\n",
       "      <td>DFW</td>\n",
       "      <td>DTW</td>\n",
       "      <td>-4.0</td>\n",
       "      <td>0.0</td>\n",
       "      <td>1100-1159</td>\n",
       "      <td>-12.0</td>\n",
       "      <td>0.0</td>\n",
       "      <td>1400-1459</td>\n",
       "      <td>158.0</td>\n",
       "      <td>1.0</td>\n",
       "      <td>4</td>\n",
       "      <td>NaN</td>\n",
       "    </tr>\n",
       "    <tr>\n",
       "      <th>2</th>\n",
       "      <td>2016</td>\n",
       "      <td>1</td>\n",
       "      <td>1</td>\n",
       "      <td>8</td>\n",
       "      <td>5</td>\n",
       "      <td>2016-01-08</td>\n",
       "      <td>AA</td>\n",
       "      <td>DFW</td>\n",
       "      <td>DTW</td>\n",
       "      <td>-5.0</td>\n",
       "      <td>0.0</td>\n",
       "      <td>1100-1159</td>\n",
       "      <td>7.0</td>\n",
       "      <td>0.0</td>\n",
       "      <td>1400-1459</td>\n",
       "      <td>158.0</td>\n",
       "      <td>1.0</td>\n",
       "      <td>4</td>\n",
       "      <td>NaN</td>\n",
       "    </tr>\n",
       "    <tr>\n",
       "      <th>3</th>\n",
       "      <td>2016</td>\n",
       "      <td>1</td>\n",
       "      <td>1</td>\n",
       "      <td>9</td>\n",
       "      <td>6</td>\n",
       "      <td>2016-01-09</td>\n",
       "      <td>AA</td>\n",
       "      <td>DFW</td>\n",
       "      <td>DTW</td>\n",
       "      <td>2.0</td>\n",
       "      <td>0.0</td>\n",
       "      <td>1100-1159</td>\n",
       "      <td>-5.0</td>\n",
       "      <td>0.0</td>\n",
       "      <td>1400-1459</td>\n",
       "      <td>158.0</td>\n",
       "      <td>1.0</td>\n",
       "      <td>4</td>\n",
       "      <td>NaN</td>\n",
       "    </tr>\n",
       "    <tr>\n",
       "      <th>4</th>\n",
       "      <td>2016</td>\n",
       "      <td>1</td>\n",
       "      <td>1</td>\n",
       "      <td>10</td>\n",
       "      <td>7</td>\n",
       "      <td>2016-01-10</td>\n",
       "      <td>AA</td>\n",
       "      <td>DFW</td>\n",
       "      <td>DTW</td>\n",
       "      <td>100.0</td>\n",
       "      <td>1.0</td>\n",
       "      <td>1100-1159</td>\n",
       "      <td>113.0</td>\n",
       "      <td>1.0</td>\n",
       "      <td>1400-1459</td>\n",
       "      <td>158.0</td>\n",
       "      <td>1.0</td>\n",
       "      <td>4</td>\n",
       "      <td>NaN</td>\n",
       "    </tr>\n",
       "  </tbody>\n",
       "</table>\n",
       "</div>"
      ],
      "text/plain": [
       "   YEAR  QUARTER  MONTH  DAY_OF_MONTH  DAY_OF_WEEK    FL_DATE UNIQUE_CARRIER  \\\n",
       "0  2016        1      1             6            3 2016-01-06             AA   \n",
       "1  2016        1      1             7            4 2016-01-07             AA   \n",
       "2  2016        1      1             8            5 2016-01-08             AA   \n",
       "3  2016        1      1             9            6 2016-01-09             AA   \n",
       "4  2016        1      1            10            7 2016-01-10             AA   \n",
       "\n",
       "  ORIGIN DEST  DEP_DELAY  DEP_DEL15 DEP_TIME_BLK  ARR_DELAY  ARR_DEL15  \\\n",
       "0    DFW  DTW       -3.0        0.0    1100-1159       -6.0        0.0   \n",
       "1    DFW  DTW       -4.0        0.0    1100-1159      -12.0        0.0   \n",
       "2    DFW  DTW       -5.0        0.0    1100-1159        7.0        0.0   \n",
       "3    DFW  DTW        2.0        0.0    1100-1159       -5.0        0.0   \n",
       "4    DFW  DTW      100.0        1.0    1100-1159      113.0        1.0   \n",
       "\n",
       "  ARR_TIME_BLK  CRS_ELAPSED_TIME  FLIGHTS  DISTANCE_GROUP  Unnamed: 18  \n",
       "0    1400-1459             158.0      1.0               4          NaN  \n",
       "1    1400-1459             158.0      1.0               4          NaN  \n",
       "2    1400-1459             158.0      1.0               4          NaN  \n",
       "3    1400-1459             158.0      1.0               4          NaN  \n",
       "4    1400-1459             158.0      1.0               4          NaN  "
      ]
     },
     "execution_count": 3,
     "metadata": {},
     "output_type": "execute_result"
    }
   ],
   "source": [
    "df.head()"
   ]
  },
  {
   "cell_type": "code",
   "execution_count": 4,
   "metadata": {
    "collapsed": false
   },
   "outputs": [
    {
     "data": {
      "text/plain": [
       "Index([u'YEAR', u'QUARTER', u'MONTH', u'DAY_OF_MONTH', u'DAY_OF_WEEK',\n",
       "       u'FL_DATE', u'UNIQUE_CARRIER', u'ORIGIN', u'DEST', u'DEP_DELAY',\n",
       "       u'DEP_DEL15', u'DEP_TIME_BLK', u'ARR_DELAY', u'ARR_DEL15',\n",
       "       u'ARR_TIME_BLK', u'CRS_ELAPSED_TIME', u'FLIGHTS', u'DISTANCE_GROUP',\n",
       "       u'Unnamed: 18'],\n",
       "      dtype='object')"
      ]
     },
     "execution_count": 4,
     "metadata": {},
     "output_type": "execute_result"
    }
   ],
   "source": [
    "df.columns"
   ]
  },
  {
   "cell_type": "code",
   "execution_count": 5,
   "metadata": {
    "collapsed": false
   },
   "outputs": [],
   "source": [
    "df.reset_index(inplace = True)\n",
    "df = df.drop('index', axis = 1)"
   ]
  },
  {
   "cell_type": "code",
   "execution_count": 6,
   "metadata": {
    "collapsed": false
   },
   "outputs": [
    {
     "name": "stdout",
     "output_type": "stream",
     "text": [
      "<class 'pandas.core.frame.DataFrame'>\n",
      "RangeIndex: 5617658 entries, 0 to 5617657\n",
      "Data columns (total 19 columns):\n",
      "YEAR                int64\n",
      "QUARTER             int64\n",
      "MONTH               int64\n",
      "DAY_OF_MONTH        int64\n",
      "DAY_OF_WEEK         int64\n",
      "FL_DATE             datetime64[ns]\n",
      "UNIQUE_CARRIER      object\n",
      "ORIGIN              object\n",
      "DEST                object\n",
      "DEP_DELAY           float64\n",
      "DEP_DEL15           float64\n",
      "DEP_TIME_BLK        object\n",
      "ARR_DELAY           float64\n",
      "ARR_DEL15           float64\n",
      "ARR_TIME_BLK        object\n",
      "CRS_ELAPSED_TIME    float64\n",
      "FLIGHTS             float64\n",
      "DISTANCE_GROUP      int64\n",
      "Unnamed: 18         float64\n",
      "dtypes: datetime64[ns](1), float64(7), int64(6), object(5)\n",
      "memory usage: 814.3+ MB\n"
     ]
    }
   ],
   "source": [
    "df.info()"
   ]
  },
  {
   "cell_type": "markdown",
   "metadata": {},
   "source": [
    "Drop 'Unnamed: 18'. Choose only 'Flight' == 1.0. We then change 'ARR_DEL15' and 'DEP_DEL15' to int. In order to avoid NA, we convert them to bool first as it fills in NA automatically. "
   ]
  },
  {
   "cell_type": "code",
   "execution_count": 7,
   "metadata": {
    "collapsed": false
   },
   "outputs": [
    {
     "data": {
      "text/html": [
       "<div>\n",
       "<table border=\"1\" class=\"dataframe\">\n",
       "  <thead>\n",
       "    <tr style=\"text-align: right;\">\n",
       "      <th></th>\n",
       "      <th>YEAR</th>\n",
       "      <th>QUARTER</th>\n",
       "      <th>MONTH</th>\n",
       "      <th>DAY_OF_MONTH</th>\n",
       "      <th>DAY_OF_WEEK</th>\n",
       "      <th>FL_DATE</th>\n",
       "      <th>UNIQUE_CARRIER</th>\n",
       "      <th>ORIGIN</th>\n",
       "      <th>DEST</th>\n",
       "      <th>DEP_DELAY</th>\n",
       "      <th>DEP_DEL15</th>\n",
       "      <th>DEP_TIME_BLK</th>\n",
       "      <th>ARR_DELAY</th>\n",
       "      <th>ARR_DEL15</th>\n",
       "      <th>ARR_TIME_BLK</th>\n",
       "      <th>CRS_ELAPSED_TIME</th>\n",
       "      <th>DISTANCE_GROUP</th>\n",
       "    </tr>\n",
       "  </thead>\n",
       "  <tbody>\n",
       "    <tr>\n",
       "      <th>0</th>\n",
       "      <td>2016</td>\n",
       "      <td>1</td>\n",
       "      <td>1</td>\n",
       "      <td>6</td>\n",
       "      <td>3</td>\n",
       "      <td>2016-01-06</td>\n",
       "      <td>AA</td>\n",
       "      <td>DFW</td>\n",
       "      <td>DTW</td>\n",
       "      <td>-3.0</td>\n",
       "      <td>False</td>\n",
       "      <td>1100-1159</td>\n",
       "      <td>-6.0</td>\n",
       "      <td>False</td>\n",
       "      <td>1400-1459</td>\n",
       "      <td>158.0</td>\n",
       "      <td>4</td>\n",
       "    </tr>\n",
       "    <tr>\n",
       "      <th>1</th>\n",
       "      <td>2016</td>\n",
       "      <td>1</td>\n",
       "      <td>1</td>\n",
       "      <td>7</td>\n",
       "      <td>4</td>\n",
       "      <td>2016-01-07</td>\n",
       "      <td>AA</td>\n",
       "      <td>DFW</td>\n",
       "      <td>DTW</td>\n",
       "      <td>-4.0</td>\n",
       "      <td>False</td>\n",
       "      <td>1100-1159</td>\n",
       "      <td>-12.0</td>\n",
       "      <td>False</td>\n",
       "      <td>1400-1459</td>\n",
       "      <td>158.0</td>\n",
       "      <td>4</td>\n",
       "    </tr>\n",
       "    <tr>\n",
       "      <th>2</th>\n",
       "      <td>2016</td>\n",
       "      <td>1</td>\n",
       "      <td>1</td>\n",
       "      <td>8</td>\n",
       "      <td>5</td>\n",
       "      <td>2016-01-08</td>\n",
       "      <td>AA</td>\n",
       "      <td>DFW</td>\n",
       "      <td>DTW</td>\n",
       "      <td>-5.0</td>\n",
       "      <td>False</td>\n",
       "      <td>1100-1159</td>\n",
       "      <td>7.0</td>\n",
       "      <td>False</td>\n",
       "      <td>1400-1459</td>\n",
       "      <td>158.0</td>\n",
       "      <td>4</td>\n",
       "    </tr>\n",
       "    <tr>\n",
       "      <th>3</th>\n",
       "      <td>2016</td>\n",
       "      <td>1</td>\n",
       "      <td>1</td>\n",
       "      <td>9</td>\n",
       "      <td>6</td>\n",
       "      <td>2016-01-09</td>\n",
       "      <td>AA</td>\n",
       "      <td>DFW</td>\n",
       "      <td>DTW</td>\n",
       "      <td>2.0</td>\n",
       "      <td>False</td>\n",
       "      <td>1100-1159</td>\n",
       "      <td>-5.0</td>\n",
       "      <td>False</td>\n",
       "      <td>1400-1459</td>\n",
       "      <td>158.0</td>\n",
       "      <td>4</td>\n",
       "    </tr>\n",
       "    <tr>\n",
       "      <th>4</th>\n",
       "      <td>2016</td>\n",
       "      <td>1</td>\n",
       "      <td>1</td>\n",
       "      <td>10</td>\n",
       "      <td>7</td>\n",
       "      <td>2016-01-10</td>\n",
       "      <td>AA</td>\n",
       "      <td>DFW</td>\n",
       "      <td>DTW</td>\n",
       "      <td>100.0</td>\n",
       "      <td>True</td>\n",
       "      <td>1100-1159</td>\n",
       "      <td>113.0</td>\n",
       "      <td>True</td>\n",
       "      <td>1400-1459</td>\n",
       "      <td>158.0</td>\n",
       "      <td>4</td>\n",
       "    </tr>\n",
       "  </tbody>\n",
       "</table>\n",
       "</div>"
      ],
      "text/plain": [
       "   YEAR  QUARTER  MONTH  DAY_OF_MONTH  DAY_OF_WEEK    FL_DATE UNIQUE_CARRIER  \\\n",
       "0  2016        1      1             6            3 2016-01-06             AA   \n",
       "1  2016        1      1             7            4 2016-01-07             AA   \n",
       "2  2016        1      1             8            5 2016-01-08             AA   \n",
       "3  2016        1      1             9            6 2016-01-09             AA   \n",
       "4  2016        1      1            10            7 2016-01-10             AA   \n",
       "\n",
       "  ORIGIN DEST  DEP_DELAY DEP_DEL15 DEP_TIME_BLK  ARR_DELAY ARR_DEL15  \\\n",
       "0    DFW  DTW       -3.0     False    1100-1159       -6.0     False   \n",
       "1    DFW  DTW       -4.0     False    1100-1159      -12.0     False   \n",
       "2    DFW  DTW       -5.0     False    1100-1159        7.0     False   \n",
       "3    DFW  DTW        2.0     False    1100-1159       -5.0     False   \n",
       "4    DFW  DTW      100.0      True    1100-1159      113.0      True   \n",
       "\n",
       "  ARR_TIME_BLK  CRS_ELAPSED_TIME  DISTANCE_GROUP  \n",
       "0    1400-1459             158.0               4  \n",
       "1    1400-1459             158.0               4  \n",
       "2    1400-1459             158.0               4  \n",
       "3    1400-1459             158.0               4  \n",
       "4    1400-1459             158.0               4  "
      ]
     },
     "execution_count": 7,
     "metadata": {},
     "output_type": "execute_result"
    }
   ],
   "source": [
    "df = df.drop(['Unnamed: 18'], axis = 1)\n",
    "df = df[df['FLIGHTS'] == 1.0]\n",
    "df = df.drop(['FLIGHTS'], axis = 1)\n",
    "df = df.astype({'ARR_DEL15':bool, 'DEP_DEL15': bool})\n",
    "df.head()"
   ]
  },
  {
   "cell_type": "code",
   "execution_count": 8,
   "metadata": {
    "collapsed": false
   },
   "outputs": [
    {
     "data": {
      "text/html": [
       "<div>\n",
       "<table border=\"1\" class=\"dataframe\">\n",
       "  <thead>\n",
       "    <tr style=\"text-align: right;\">\n",
       "      <th></th>\n",
       "      <th>YEAR</th>\n",
       "      <th>QUARTER</th>\n",
       "      <th>MONTH</th>\n",
       "      <th>DAY_OF_MONTH</th>\n",
       "      <th>DAY_OF_WEEK</th>\n",
       "      <th>FL_DATE</th>\n",
       "      <th>UNIQUE_CARRIER</th>\n",
       "      <th>ORIGIN</th>\n",
       "      <th>DEST</th>\n",
       "      <th>DEP_DELAY</th>\n",
       "      <th>DEP_DEL15</th>\n",
       "      <th>DEP_TIME_BLK</th>\n",
       "      <th>ARR_DELAY</th>\n",
       "      <th>ARR_DEL15</th>\n",
       "      <th>ARR_TIME_BLK</th>\n",
       "      <th>CRS_ELAPSED_TIME</th>\n",
       "      <th>DISTANCE_GROUP</th>\n",
       "    </tr>\n",
       "  </thead>\n",
       "  <tbody>\n",
       "    <tr>\n",
       "      <th>0</th>\n",
       "      <td>2016</td>\n",
       "      <td>1</td>\n",
       "      <td>1</td>\n",
       "      <td>6</td>\n",
       "      <td>3</td>\n",
       "      <td>2016-01-06</td>\n",
       "      <td>AA</td>\n",
       "      <td>DFW</td>\n",
       "      <td>DTW</td>\n",
       "      <td>-3.0</td>\n",
       "      <td>0</td>\n",
       "      <td>1100-1159</td>\n",
       "      <td>-6.0</td>\n",
       "      <td>0</td>\n",
       "      <td>1400-1459</td>\n",
       "      <td>158.0</td>\n",
       "      <td>4</td>\n",
       "    </tr>\n",
       "    <tr>\n",
       "      <th>1</th>\n",
       "      <td>2016</td>\n",
       "      <td>1</td>\n",
       "      <td>1</td>\n",
       "      <td>7</td>\n",
       "      <td>4</td>\n",
       "      <td>2016-01-07</td>\n",
       "      <td>AA</td>\n",
       "      <td>DFW</td>\n",
       "      <td>DTW</td>\n",
       "      <td>-4.0</td>\n",
       "      <td>0</td>\n",
       "      <td>1100-1159</td>\n",
       "      <td>-12.0</td>\n",
       "      <td>0</td>\n",
       "      <td>1400-1459</td>\n",
       "      <td>158.0</td>\n",
       "      <td>4</td>\n",
       "    </tr>\n",
       "    <tr>\n",
       "      <th>2</th>\n",
       "      <td>2016</td>\n",
       "      <td>1</td>\n",
       "      <td>1</td>\n",
       "      <td>8</td>\n",
       "      <td>5</td>\n",
       "      <td>2016-01-08</td>\n",
       "      <td>AA</td>\n",
       "      <td>DFW</td>\n",
       "      <td>DTW</td>\n",
       "      <td>-5.0</td>\n",
       "      <td>0</td>\n",
       "      <td>1100-1159</td>\n",
       "      <td>7.0</td>\n",
       "      <td>0</td>\n",
       "      <td>1400-1459</td>\n",
       "      <td>158.0</td>\n",
       "      <td>4</td>\n",
       "    </tr>\n",
       "    <tr>\n",
       "      <th>3</th>\n",
       "      <td>2016</td>\n",
       "      <td>1</td>\n",
       "      <td>1</td>\n",
       "      <td>9</td>\n",
       "      <td>6</td>\n",
       "      <td>2016-01-09</td>\n",
       "      <td>AA</td>\n",
       "      <td>DFW</td>\n",
       "      <td>DTW</td>\n",
       "      <td>2.0</td>\n",
       "      <td>0</td>\n",
       "      <td>1100-1159</td>\n",
       "      <td>-5.0</td>\n",
       "      <td>0</td>\n",
       "      <td>1400-1459</td>\n",
       "      <td>158.0</td>\n",
       "      <td>4</td>\n",
       "    </tr>\n",
       "    <tr>\n",
       "      <th>4</th>\n",
       "      <td>2016</td>\n",
       "      <td>1</td>\n",
       "      <td>1</td>\n",
       "      <td>10</td>\n",
       "      <td>7</td>\n",
       "      <td>2016-01-10</td>\n",
       "      <td>AA</td>\n",
       "      <td>DFW</td>\n",
       "      <td>DTW</td>\n",
       "      <td>100.0</td>\n",
       "      <td>1</td>\n",
       "      <td>1100-1159</td>\n",
       "      <td>113.0</td>\n",
       "      <td>1</td>\n",
       "      <td>1400-1459</td>\n",
       "      <td>158.0</td>\n",
       "      <td>4</td>\n",
       "    </tr>\n",
       "  </tbody>\n",
       "</table>\n",
       "</div>"
      ],
      "text/plain": [
       "   YEAR  QUARTER  MONTH  DAY_OF_MONTH  DAY_OF_WEEK    FL_DATE UNIQUE_CARRIER  \\\n",
       "0  2016        1      1             6            3 2016-01-06             AA   \n",
       "1  2016        1      1             7            4 2016-01-07             AA   \n",
       "2  2016        1      1             8            5 2016-01-08             AA   \n",
       "3  2016        1      1             9            6 2016-01-09             AA   \n",
       "4  2016        1      1            10            7 2016-01-10             AA   \n",
       "\n",
       "  ORIGIN DEST  DEP_DELAY  DEP_DEL15 DEP_TIME_BLK  ARR_DELAY  ARR_DEL15  \\\n",
       "0    DFW  DTW       -3.0          0    1100-1159       -6.0          0   \n",
       "1    DFW  DTW       -4.0          0    1100-1159      -12.0          0   \n",
       "2    DFW  DTW       -5.0          0    1100-1159        7.0          0   \n",
       "3    DFW  DTW        2.0          0    1100-1159       -5.0          0   \n",
       "4    DFW  DTW      100.0          1    1100-1159      113.0          1   \n",
       "\n",
       "  ARR_TIME_BLK  CRS_ELAPSED_TIME  DISTANCE_GROUP  \n",
       "0    1400-1459             158.0               4  \n",
       "1    1400-1459             158.0               4  \n",
       "2    1400-1459             158.0               4  \n",
       "3    1400-1459             158.0               4  \n",
       "4    1400-1459             158.0               4  "
      ]
     },
     "execution_count": 8,
     "metadata": {},
     "output_type": "execute_result"
    }
   ],
   "source": [
    "df = df.astype({'ARR_DEL15':int, 'DEP_DEL15': int})\n",
    "df.head()"
   ]
  },
  {
   "cell_type": "code",
   "execution_count": 9,
   "metadata": {
    "collapsed": false
   },
   "outputs": [
    {
     "data": {
      "text/plain": [
       "Int64Index([      0,       1,       2,       3,       4,       5,       6,\n",
       "                  7,       8,       9,\n",
       "            ...\n",
       "            5617648, 5617649, 5617650, 5617651, 5617652, 5617653, 5617654,\n",
       "            5617655, 5617656, 5617657],\n",
       "           dtype='int64', length=5617658)"
      ]
     },
     "execution_count": 9,
     "metadata": {},
     "output_type": "execute_result"
    }
   ],
   "source": [
    "df.index"
   ]
  },
  {
   "cell_type": "markdown",
   "metadata": {},
   "source": [
    "We can now explore the data. "
   ]
  },
  {
   "cell_type": "code",
   "execution_count": 10,
   "metadata": {
    "collapsed": false
   },
   "outputs": [
    {
     "data": {
      "text/plain": [
       "<matplotlib.axes._subplots.AxesSubplot at 0x10f076790>"
      ]
     },
     "execution_count": 10,
     "metadata": {},
     "output_type": "execute_result"
    },
    {
     "data": {
      "image/png": "[encoded data removed]",
      "text/plain": [
       "<matplotlib.figure.Figure at 0x10f001450>"
      ]
     },
     "metadata": {},
     "output_type": "display_data"
    }
   ],
   "source": [
    "delay = df['ARR_DEL15'].value_counts()\n",
    "sns.barplot(x = delay.index, y = delay.values)"
   ]
  },
  {
   "cell_type": "code",
   "execution_count": 11,
   "metadata": {
    "collapsed": false
   },
   "outputs": [
    {
     "data": {
      "text/html": [
       "<div>\n",
       "<table border=\"1\" class=\"dataframe\">\n",
       "  <thead>\n",
       "    <tr style=\"text-align: right;\">\n",
       "      <th></th>\n",
       "      <th>YEAR</th>\n",
       "      <th>QUARTER</th>\n",
       "      <th>MONTH</th>\n",
       "      <th>DAY_OF_MONTH</th>\n",
       "      <th>DAY_OF_WEEK</th>\n",
       "      <th>DEP_DELAY</th>\n",
       "      <th>DEP_DEL15</th>\n",
       "      <th>ARR_DELAY</th>\n",
       "      <th>ARR_DEL15</th>\n",
       "      <th>CRS_ELAPSED_TIME</th>\n",
       "      <th>DISTANCE_GROUP</th>\n",
       "    </tr>\n",
       "  </thead>\n",
       "  <tbody>\n",
       "    <tr>\n",
       "      <th>count</th>\n",
       "      <td>5617658.0</td>\n",
       "      <td>5.617658e+06</td>\n",
       "      <td>5.617658e+06</td>\n",
       "      <td>5.617658e+06</td>\n",
       "      <td>5.617658e+06</td>\n",
       "      <td>5.554202e+06</td>\n",
       "      <td>5.617658e+06</td>\n",
       "      <td>5.538145e+06</td>\n",
       "      <td>5.617658e+06</td>\n",
       "      <td>5.617652e+06</td>\n",
       "      <td>5.617658e+06</td>\n",
       "    </tr>\n",
       "    <tr>\n",
       "      <th>mean</th>\n",
       "      <td>2016.0</td>\n",
       "      <td>2.511934e+00</td>\n",
       "      <td>6.535810e+00</td>\n",
       "      <td>1.577741e+01</td>\n",
       "      <td>3.933906e+00</td>\n",
       "      <td>8.938011e+00</td>\n",
       "      <td>1.810361e-01</td>\n",
       "      <td>3.519290e+00</td>\n",
       "      <td>1.857984e-01</td>\n",
       "      <td>1.453971e+02</td>\n",
       "      <td>3.872194e+00</td>\n",
       "    </tr>\n",
       "    <tr>\n",
       "      <th>std</th>\n",
       "      <td>0.0</td>\n",
       "      <td>1.105887e+00</td>\n",
       "      <td>3.400847e+00</td>\n",
       "      <td>8.789841e+00</td>\n",
       "      <td>1.985502e+00</td>\n",
       "      <td>3.976306e+01</td>\n",
       "      <td>3.850481e-01</td>\n",
       "      <td>4.187332e+01</td>\n",
       "      <td>3.889439e-01</td>\n",
       "      <td>7.642798e+01</td>\n",
       "      <td>2.436703e+00</td>\n",
       "    </tr>\n",
       "    <tr>\n",
       "      <th>min</th>\n",
       "      <td>2016.0</td>\n",
       "      <td>1.000000e+00</td>\n",
       "      <td>1.000000e+00</td>\n",
       "      <td>1.000000e+00</td>\n",
       "      <td>1.000000e+00</td>\n",
       "      <td>-2.040000e+02</td>\n",
       "      <td>0.000000e+00</td>\n",
       "      <td>-1.520000e+02</td>\n",
       "      <td>0.000000e+00</td>\n",
       "      <td>5.000000e+00</td>\n",
       "      <td>1.000000e+00</td>\n",
       "    </tr>\n",
       "    <tr>\n",
       "      <th>25%</th>\n",
       "      <td>2016.0</td>\n",
       "      <td>2.000000e+00</td>\n",
       "      <td>4.000000e+00</td>\n",
       "      <td>8.000000e+00</td>\n",
       "      <td>2.000000e+00</td>\n",
       "      <td>-5.000000e+00</td>\n",
       "      <td>0.000000e+00</td>\n",
       "      <td>-1.400000e+01</td>\n",
       "      <td>0.000000e+00</td>\n",
       "      <td>8.800000e+01</td>\n",
       "      <td>2.000000e+00</td>\n",
       "    </tr>\n",
       "    <tr>\n",
       "      <th>50%</th>\n",
       "      <td>2016.0</td>\n",
       "      <td>3.000000e+00</td>\n",
       "      <td>7.000000e+00</td>\n",
       "      <td>1.600000e+01</td>\n",
       "      <td>4.000000e+00</td>\n",
       "      <td>-2.000000e+00</td>\n",
       "      <td>0.000000e+00</td>\n",
       "      <td>-6.000000e+00</td>\n",
       "      <td>0.000000e+00</td>\n",
       "      <td>1.260000e+02</td>\n",
       "      <td>3.000000e+00</td>\n",
       "    </tr>\n",
       "    <tr>\n",
       "      <th>75%</th>\n",
       "      <td>2016.0</td>\n",
       "      <td>3.000000e+00</td>\n",
       "      <td>9.000000e+00</td>\n",
       "      <td>2.300000e+01</td>\n",
       "      <td>6.000000e+00</td>\n",
       "      <td>6.000000e+00</td>\n",
       "      <td>0.000000e+00</td>\n",
       "      <td>6.000000e+00</td>\n",
       "      <td>0.000000e+00</td>\n",
       "      <td>1.780000e+02</td>\n",
       "      <td>5.000000e+00</td>\n",
       "    </tr>\n",
       "    <tr>\n",
       "      <th>max</th>\n",
       "      <td>2016.0</td>\n",
       "      <td>4.000000e+00</td>\n",
       "      <td>1.200000e+01</td>\n",
       "      <td>3.100000e+01</td>\n",
       "      <td>7.000000e+00</td>\n",
       "      <td>2.149000e+03</td>\n",
       "      <td>1.000000e+00</td>\n",
       "      <td>2.142000e+03</td>\n",
       "      <td>1.000000e+00</td>\n",
       "      <td>7.050000e+02</td>\n",
       "      <td>1.100000e+01</td>\n",
       "    </tr>\n",
       "  </tbody>\n",
       "</table>\n",
       "</div>"
      ],
      "text/plain": [
       "            YEAR       QUARTER         MONTH  DAY_OF_MONTH   DAY_OF_WEEK  \\\n",
       "count  5617658.0  5.617658e+06  5.617658e+06  5.617658e+06  5.617658e+06   \n",
       "mean      2016.0  2.511934e+00  6.535810e+00  1.577741e+01  3.933906e+00   \n",
       "std          0.0  1.105887e+00  3.400847e+00  8.789841e+00  1.985502e+00   \n",
       "min       2016.0  1.000000e+00  1.000000e+00  1.000000e+00  1.000000e+00   \n",
       "25%       2016.0  2.000000e+00  4.000000e+00  8.000000e+00  2.000000e+00   \n",
       "50%       2016.0  3.000000e+00  7.000000e+00  1.600000e+01  4.000000e+00   \n",
       "75%       2016.0  3.000000e+00  9.000000e+00  2.300000e+01  6.000000e+00   \n",
       "max       2016.0  4.000000e+00  1.200000e+01  3.100000e+01  7.000000e+00   \n",
       "\n",
       "          DEP_DELAY     DEP_DEL15     ARR_DELAY     ARR_DEL15  \\\n",
       "count  5.554202e+06  5.617658e+06  5.538145e+06  5.617658e+06   \n",
       "mean   8.938011e+00  1.810361e-01  3.519290e+00  1.857984e-01   \n",
       "std    3.976306e+01  3.850481e-01  4.187332e+01  3.889439e-01   \n",
       "min   -2.040000e+02  0.000000e+00 -1.520000e+02  0.000000e+00   \n",
       "25%   -5.000000e+00  0.000000e+00 -1.400000e+01  0.000000e+00   \n",
       "50%   -2.000000e+00  0.000000e+00 -6.000000e+00  0.000000e+00   \n",
       "75%    6.000000e+00  0.000000e+00  6.000000e+00  0.000000e+00   \n",
       "max    2.149000e+03  1.000000e+00  2.142000e+03  1.000000e+00   \n",
       "\n",
       "       CRS_ELAPSED_TIME  DISTANCE_GROUP  \n",
       "count      5.617652e+06    5.617658e+06  \n",
       "mean       1.453971e+02    3.872194e+00  \n",
       "std        7.642798e+01    2.436703e+00  \n",
       "min        5.000000e+00    1.000000e+00  \n",
       "25%        8.800000e+01    2.000000e+00  \n",
       "50%        1.260000e+02    3.000000e+00  \n",
       "75%        1.780000e+02    5.000000e+00  \n",
       "max        7.050000e+02    1.100000e+01  "
      ]
     },
     "execution_count": 11,
     "metadata": {},
     "output_type": "execute_result"
    }
   ],
   "source": [
    "df.describe()"
   ]
  },
  {
   "cell_type": "code",
   "execution_count": 12,
   "metadata": {
    "collapsed": false
   },
   "outputs": [
    {
     "name": "stdout",
     "output_type": "stream",
     "text": [
      "0.185798423471\n"
     ]
    }
   ],
   "source": [
    "print df[df['ARR_DEL15'] == 1]['ARR_DEL15'].count() / float(df['ARR_DEL15'].count())"
   ]
  },
  {
   "cell_type": "markdown",
   "metadata": {},
   "source": [
    "Therefore more than 80% flights are on time. "
   ]
  },
  {
   "cell_type": "markdown",
   "metadata": {},
   "source": [
    "## Explore Data Analysis\n",
    "A first analysis of the data. We have 14 features 'YEAR', 'QUARTER', 'MONTH', 'DAY_OF_MONTH', 'DAY_OF_WEEK', 'DEP_DELAY', 'DEP_DEL15', 'CRS_ELAPSED_TIME', 'DISTANCE_GROUP', 'UNIQUE_CARRIER', 'ORIGIN', 'DEST', 'DEP_TIME_BLK', 'ARR_TIME_BLK' to use for the prediction. "
   ]
  },
  {
   "cell_type": "markdown",
   "metadata": {},
   "source": [
    "'YEAR', 'QUARTER', 'MONTH', 'DAY_OF_MONTH', 'DAY_OF_WEEK' are date time.\n",
    "<br>\n",
    "'DEP_DELAY', 'CRS_ELAPSED_TIME' are numerical.\n",
    "<br>\n",
    "'DEP_DEL15', 'UNIQUE_CARRIER', 'ORIGIN', 'DEST' are categorical.\n",
    "<br>\n",
    "'DISTANCE_GROUP','DEP_TIME_BLK', 'ARR_TIME_BLK' are ordinal."
   ]
  },
  {
   "cell_type": "markdown",
   "metadata": {},
   "source": [
    "'YEAR', 'QUARTER', 'MONTH', 'DAY_OF_MONTH', 'DAY_OF_WEEK' are about the time.\n",
    "<br>\n",
    "'DEP_DELAY', 'DEP_DEL15', 'DEST', 'DEP_TIME_BLK', 'ORIGIN' are about the departure.\n",
    "<br>\n",
    "'CRS_ELAPSED_TIME', 'DISTANCE_GROUP' are about the flight duration.\n",
    "<br>\n",
    "'DEST', 'DEP_TIME_BLK', 'ARR_TIME_BLK' are about the arrival condition.\n",
    "<br>\n",
    "'UNIQUE_CARRIER' is the airline.\n",
    "<br>\n",
    "All five groups should be important."
   ]
  },
  {
   "cell_type": "markdown",
   "metadata": {},
   "source": [
    "From the graph, we see arrival delay (ARR_DEL) and departure delay (DEP_DEL) are highly correlated. "
   ]
  },
  {
   "cell_type": "code",
   "execution_count": 13,
   "metadata": {
    "collapsed": false
   },
   "outputs": [
    {
     "data": {
      "image/png": "[encoded data removed]",
      "text/plain": [
       "<matplotlib.figure.Figure at 0x10f1d4210>"
      ]
     },
     "metadata": {},
     "output_type": "display_data"
    }
   ],
   "source": [
    "gMonth = sns.FacetGrid(df, row = 'DEP_DEL15', col = 'ARR_DEL15', size = 2.2, aspect = 1.6)\n",
    "gMonth.map(plt.hist, 'MONTH', alpha = .5, bins = 12)\n",
    "gMonth.add_legend();"
   ]
  },
  {
   "cell_type": "markdown",
   "metadata": {},
   "source": [
    "Next consider the distribution of delays in different months. "
   ]
  },
  {
   "cell_type": "code",
   "execution_count": 14,
   "metadata": {
    "collapsed": false
   },
   "outputs": [
    {
     "data": {
      "text/plain": [
       "<matplotlib.axes._subplots.AxesSubplot at 0x10f0d00d0>"
      ]
     },
     "execution_count": 14,
     "metadata": {},
     "output_type": "execute_result"
    },
    {
     "data": {
      "image/png": "[encoded data removed]",
      "text/plain": [
       "<matplotlib.figure.Figure at 0x110f62dd0>"
      ]
     },
     "metadata": {},
     "output_type": "display_data"
    }
   ],
   "source": [
    "sns.violinplot(x = 'ARR_DEL15', y = 'MONTH', data = df)"
   ]
  },
  {
   "cell_type": "code",
   "execution_count": 15,
   "metadata": {
    "collapsed": false
   },
   "outputs": [],
   "source": [
    "byMonth = df[['MONTH','DEP_DELAY','ARR_DELAY','ORIGIN','DEST']].groupby('MONTH').mean()"
   ]
  },
  {
   "cell_type": "code",
   "execution_count": 16,
   "metadata": {
    "collapsed": false
   },
   "outputs": [
    {
     "data": {
      "text/html": [
       "<div>\n",
       "<table border=\"1\" class=\"dataframe\">\n",
       "  <thead>\n",
       "    <tr style=\"text-align: right;\">\n",
       "      <th></th>\n",
       "      <th>DEP_DELAY</th>\n",
       "      <th>ARR_DELAY</th>\n",
       "    </tr>\n",
       "    <tr>\n",
       "      <th>MONTH</th>\n",
       "      <th></th>\n",
       "      <th></th>\n",
       "    </tr>\n",
       "  </thead>\n",
       "  <tbody>\n",
       "    <tr>\n",
       "      <th>1</th>\n",
       "      <td>7.793537</td>\n",
       "      <td>1.533654</td>\n",
       "    </tr>\n",
       "    <tr>\n",
       "      <th>2</th>\n",
       "      <td>7.487446</td>\n",
       "      <td>0.665299</td>\n",
       "    </tr>\n",
       "    <tr>\n",
       "      <th>3</th>\n",
       "      <td>8.341402</td>\n",
       "      <td>3.145914</td>\n",
       "    </tr>\n",
       "    <tr>\n",
       "      <th>4</th>\n",
       "      <td>6.278522</td>\n",
       "      <td>0.696820</td>\n",
       "    </tr>\n",
       "    <tr>\n",
       "      <th>5</th>\n",
       "      <td>7.381552</td>\n",
       "      <td>2.249006</td>\n",
       "    </tr>\n",
       "    <tr>\n",
       "      <th>6</th>\n",
       "      <td>11.699589</td>\n",
       "      <td>7.154742</td>\n",
       "    </tr>\n",
       "    <tr>\n",
       "      <th>7</th>\n",
       "      <td>15.084373</td>\n",
       "      <td>10.384151</td>\n",
       "    </tr>\n",
       "    <tr>\n",
       "      <th>8</th>\n",
       "      <td>12.564364</td>\n",
       "      <td>8.013417</td>\n",
       "    </tr>\n",
       "    <tr>\n",
       "      <th>9</th>\n",
       "      <td>5.616416</td>\n",
       "      <td>0.499182</td>\n",
       "    </tr>\n",
       "    <tr>\n",
       "      <th>10</th>\n",
       "      <td>5.493946</td>\n",
       "      <td>-0.223046</td>\n",
       "    </tr>\n",
       "    <tr>\n",
       "      <th>11</th>\n",
       "      <td>5.241812</td>\n",
       "      <td>-1.861073</td>\n",
       "    </tr>\n",
       "    <tr>\n",
       "      <th>12</th>\n",
       "      <td>13.291119</td>\n",
       "      <td>8.664734</td>\n",
       "    </tr>\n",
       "  </tbody>\n",
       "</table>\n",
       "</div>"
      ],
      "text/plain": [
       "       DEP_DELAY  ARR_DELAY\n",
       "MONTH                      \n",
       "1       7.793537   1.533654\n",
       "2       7.487446   0.665299\n",
       "3       8.341402   3.145914\n",
       "4       6.278522   0.696820\n",
       "5       7.381552   2.249006\n",
       "6      11.699589   7.154742\n",
       "7      15.084373  10.384151\n",
       "8      12.564364   8.013417\n",
       "9       5.616416   0.499182\n",
       "10      5.493946  -0.223046\n",
       "11      5.241812  -1.861073\n",
       "12     13.291119   8.664734"
      ]
     },
     "execution_count": 16,
     "metadata": {},
     "output_type": "execute_result"
    }
   ],
   "source": [
    "byMonth"
   ]
  },
  {
   "cell_type": "code",
   "execution_count": 17,
   "metadata": {
    "collapsed": false
   },
   "outputs": [
    {
     "data": {
      "text/plain": [
       "<matplotlib.axes._subplots.AxesSubplot at 0x10f0d0990>"
      ]
     },
     "execution_count": 17,
     "metadata": {},
     "output_type": "execute_result"
    },
    {
     "data": {
      "image/png": "[encoded data removed]",
      "text/plain": [
       "<matplotlib.figure.Figure at 0x11030c390>"
      ]
     },
     "metadata": {},
     "output_type": "display_data"
    }
   ],
   "source": [
    "byMonth['DEP_DELAY'].plot(kind = 'bar')"
   ]
  },
  {
   "cell_type": "code",
   "execution_count": 18,
   "metadata": {
    "collapsed": false
   },
   "outputs": [
    {
     "data": {
      "text/plain": [
       "<matplotlib.axes._subplots.AxesSubplot at 0x10f0c37d0>"
      ]
     },
     "execution_count": 18,
     "metadata": {},
     "output_type": "execute_result"
    },
    {
     "data": {
      "image/png": "[encoded data removed]",
      "text/plain": [
       "<matplotlib.figure.Figure at 0x10f8554d0>"
      ]
     },
     "metadata": {},
     "output_type": "display_data"
    }
   ],
   "source": [
    "byMonth['ARR_DELAY'].plot(kind = 'bar')"
   ]
  },
  {
   "cell_type": "markdown",
   "metadata": {},
   "source": [
    "As we can see Jun, Jul, Aug. This is not surprising since summer is the traveling season. There are also a lot of delays in December since it is the holiday season. The cold winter might also contribute to the delays. Sep, Oct, and Nov are the months with fewest delays(in terms of delay time). "
   ]
  },
  {
   "cell_type": "markdown",
   "metadata": {},
   "source": [
    "We now compare the delay time for different arrival hours. "
   ]
  },
  {
   "cell_type": "code",
   "execution_count": 19,
   "metadata": {
    "collapsed": false
   },
   "outputs": [
    {
     "data": {
      "text/html": [
       "<div>\n",
       "<table border=\"1\" class=\"dataframe\">\n",
       "  <thead>\n",
       "    <tr style=\"text-align: right;\">\n",
       "      <th></th>\n",
       "      <th>DEP_DELAY</th>\n",
       "      <th>ARR_DELAY</th>\n",
       "    </tr>\n",
       "    <tr>\n",
       "      <th>ARR_TIME_BLK</th>\n",
       "      <th></th>\n",
       "      <th></th>\n",
       "    </tr>\n",
       "  </thead>\n",
       "  <tbody>\n",
       "    <tr>\n",
       "      <th>0001-0559</th>\n",
       "      <td>14.122408</td>\n",
       "      <td>6.096906</td>\n",
       "    </tr>\n",
       "    <tr>\n",
       "      <th>0600-0659</th>\n",
       "      <td>4.967505</td>\n",
       "      <td>-1.497441</td>\n",
       "    </tr>\n",
       "    <tr>\n",
       "      <th>0700-0759</th>\n",
       "      <td>2.416934</td>\n",
       "      <td>-3.077590</td>\n",
       "    </tr>\n",
       "    <tr>\n",
       "      <th>0800-0859</th>\n",
       "      <td>2.136567</td>\n",
       "      <td>-2.502031</td>\n",
       "    </tr>\n",
       "    <tr>\n",
       "      <th>0900-0959</th>\n",
       "      <td>2.841372</td>\n",
       "      <td>-1.947445</td>\n",
       "    </tr>\n",
       "    <tr>\n",
       "      <th>1000-1059</th>\n",
       "      <td>3.367235</td>\n",
       "      <td>-1.868353</td>\n",
       "    </tr>\n",
       "    <tr>\n",
       "      <th>1100-1159</th>\n",
       "      <td>4.746269</td>\n",
       "      <td>-0.482163</td>\n",
       "    </tr>\n",
       "    <tr>\n",
       "      <th>1200-1259</th>\n",
       "      <td>5.134797</td>\n",
       "      <td>-0.224390</td>\n",
       "    </tr>\n",
       "    <tr>\n",
       "      <th>1300-1359</th>\n",
       "      <td>6.166574</td>\n",
       "      <td>0.725737</td>\n",
       "    </tr>\n",
       "    <tr>\n",
       "      <th>1400-1459</th>\n",
       "      <td>7.304934</td>\n",
       "      <td>1.602830</td>\n",
       "    </tr>\n",
       "    <tr>\n",
       "      <th>1500-1559</th>\n",
       "      <td>8.586623</td>\n",
       "      <td>3.249055</td>\n",
       "    </tr>\n",
       "    <tr>\n",
       "      <th>1600-1659</th>\n",
       "      <td>9.577591</td>\n",
       "      <td>4.360310</td>\n",
       "    </tr>\n",
       "    <tr>\n",
       "      <th>1700-1759</th>\n",
       "      <td>11.400965</td>\n",
       "      <td>6.597106</td>\n",
       "    </tr>\n",
       "    <tr>\n",
       "      <th>1800-1859</th>\n",
       "      <td>12.496852</td>\n",
       "      <td>7.544444</td>\n",
       "    </tr>\n",
       "    <tr>\n",
       "      <th>1900-1959</th>\n",
       "      <td>13.745868</td>\n",
       "      <td>8.792530</td>\n",
       "    </tr>\n",
       "    <tr>\n",
       "      <th>2000-2059</th>\n",
       "      <td>14.236785</td>\n",
       "      <td>8.727331</td>\n",
       "    </tr>\n",
       "    <tr>\n",
       "      <th>2100-2159</th>\n",
       "      <td>14.810588</td>\n",
       "      <td>9.059990</td>\n",
       "    </tr>\n",
       "    <tr>\n",
       "      <th>2200-2259</th>\n",
       "      <td>15.242665</td>\n",
       "      <td>9.093852</td>\n",
       "    </tr>\n",
       "    <tr>\n",
       "      <th>2300-2359</th>\n",
       "      <td>14.345661</td>\n",
       "      <td>8.020030</td>\n",
       "    </tr>\n",
       "  </tbody>\n",
       "</table>\n",
       "</div>"
      ],
      "text/plain": [
       "              DEP_DELAY  ARR_DELAY\n",
       "ARR_TIME_BLK                      \n",
       "0001-0559     14.122408   6.096906\n",
       "0600-0659      4.967505  -1.497441\n",
       "0700-0759      2.416934  -3.077590\n",
       "0800-0859      2.136567  -2.502031\n",
       "0900-0959      2.841372  -1.947445\n",
       "1000-1059      3.367235  -1.868353\n",
       "1100-1159      4.746269  -0.482163\n",
       "1200-1259      5.134797  -0.224390\n",
       "1300-1359      6.166574   0.725737\n",
       "1400-1459      7.304934   1.602830\n",
       "1500-1559      8.586623   3.249055\n",
       "1600-1659      9.577591   4.360310\n",
       "1700-1759     11.400965   6.597106\n",
       "1800-1859     12.496852   7.544444\n",
       "1900-1959     13.745868   8.792530\n",
       "2000-2059     14.236785   8.727331\n",
       "2100-2159     14.810588   9.059990\n",
       "2200-2259     15.242665   9.093852\n",
       "2300-2359     14.345661   8.020030"
      ]
     },
     "execution_count": 19,
     "metadata": {},
     "output_type": "execute_result"
    }
   ],
   "source": [
    "byHour = df[['ARR_TIME_BLK','DEP_DELAY','ARR_DELAY']].groupby('ARR_TIME_BLK').mean()\n",
    "byHour"
   ]
  },
  {
   "cell_type": "code",
   "execution_count": 20,
   "metadata": {
    "collapsed": false
   },
   "outputs": [
    {
     "data": {
      "text/plain": [
       "<matplotlib.axes._subplots.AxesSubplot at 0x10f888b90>"
      ]
     },
     "execution_count": 20,
     "metadata": {},
     "output_type": "execute_result"
    },
    {
     "data": {
      "image/png": "[encoded data removed]",
      "text/plain": [
       "<matplotlib.figure.Figure at 0x1102d6e90>"
      ]
     },
     "metadata": {},
     "output_type": "display_data"
    }
   ],
   "source": [
    "byHour['ARR_DELAY'].plot(kind = 'bar')"
   ]
  },
  {
   "cell_type": "markdown",
   "metadata": {},
   "source": [
    "This shows that the delays generally get worse towards the end of the day. We think this is partly due to the possiblilties that delays propagate. The peak is around 18:00 - 23:00, the rush hours. "
   ]
  },
  {
   "cell_type": "code",
   "execution_count": 21,
   "metadata": {
    "collapsed": false
   },
   "outputs": [
    {
     "data": {
      "text/html": [
       "<div>\n",
       "<table border=\"1\" class=\"dataframe\">\n",
       "  <thead>\n",
       "    <tr style=\"text-align: right;\">\n",
       "      <th></th>\n",
       "      <th>DEP_DELAY</th>\n",
       "      <th>ARR_DELAY</th>\n",
       "    </tr>\n",
       "    <tr>\n",
       "      <th>DAY_OF_WEEK</th>\n",
       "      <th></th>\n",
       "      <th></th>\n",
       "    </tr>\n",
       "  </thead>\n",
       "  <tbody>\n",
       "    <tr>\n",
       "      <th>1</th>\n",
       "      <td>9.307612</td>\n",
       "      <td>3.816911</td>\n",
       "    </tr>\n",
       "    <tr>\n",
       "      <th>2</th>\n",
       "      <td>7.911146</td>\n",
       "      <td>2.491794</td>\n",
       "    </tr>\n",
       "    <tr>\n",
       "      <th>3</th>\n",
       "      <td>7.542101</td>\n",
       "      <td>2.275777</td>\n",
       "    </tr>\n",
       "    <tr>\n",
       "      <th>4</th>\n",
       "      <td>9.956022</td>\n",
       "      <td>5.317991</td>\n",
       "    </tr>\n",
       "    <tr>\n",
       "      <th>5</th>\n",
       "      <td>10.497897</td>\n",
       "      <td>5.527220</td>\n",
       "    </tr>\n",
       "    <tr>\n",
       "      <th>6</th>\n",
       "      <td>7.981598</td>\n",
       "      <td>1.444029</td>\n",
       "    </tr>\n",
       "    <tr>\n",
       "      <th>7</th>\n",
       "      <td>9.152039</td>\n",
       "      <td>3.313080</td>\n",
       "    </tr>\n",
       "  </tbody>\n",
       "</table>\n",
       "</div>"
      ],
      "text/plain": [
       "             DEP_DELAY  ARR_DELAY\n",
       "DAY_OF_WEEK                      \n",
       "1             9.307612   3.816911\n",
       "2             7.911146   2.491794\n",
       "3             7.542101   2.275777\n",
       "4             9.956022   5.317991\n",
       "5            10.497897   5.527220\n",
       "6             7.981598   1.444029\n",
       "7             9.152039   3.313080"
      ]
     },
     "execution_count": 21,
     "metadata": {},
     "output_type": "execute_result"
    }
   ],
   "source": [
    "byDayOfWeek = df[['DAY_OF_WEEK','DEP_DELAY','ARR_DELAY']].groupby('DAY_OF_WEEK').aggregate(np.mean)\n",
    "byDayOfWeek"
   ]
  },
  {
   "cell_type": "code",
   "execution_count": 22,
   "metadata": {
    "collapsed": false
   },
   "outputs": [
    {
     "data": {
      "text/plain": [
       "<matplotlib.axes._subplots.AxesSubplot at 0x10f9ff510>"
      ]
     },
     "execution_count": 22,
     "metadata": {},
     "output_type": "execute_result"
    },
    {
     "data": {
      "image/png": "[encoded data removed]",
      "text/plain": [
       "<matplotlib.figure.Figure at 0x10f848810>"
      ]
     },
     "metadata": {},
     "output_type": "display_data"
    }
   ],
   "source": [
    "byDayOfWeek['DEP_DELAY'].plot(kind = 'bar')"
   ]
  },
  {
   "cell_type": "code",
   "execution_count": 23,
   "metadata": {
    "collapsed": false
   },
   "outputs": [
    {
     "data": {
      "text/plain": [
       "<matplotlib.axes._subplots.AxesSubplot at 0x10f862f10>"
      ]
     },
     "execution_count": 23,
     "metadata": {},
     "output_type": "execute_result"
    },
    {
     "data": {
      "image/png": "[encoded data removed]",
      "text/plain": [
       "<matplotlib.figure.Figure at 0x110289cd0>"
      ]
     },
     "metadata": {},
     "output_type": "display_data"
    }
   ],
   "source": [
    "byDayOfWeek['ARR_DELAY'].plot(kind = 'bar')"
   ]
  },
  {
   "cell_type": "markdown",
   "metadata": {},
   "source": [
    "Therefore Thursday and Friday have the most delays. Saturday usually has fewer delays. "
   ]
  },
  {
   "cell_type": "code",
   "execution_count": 24,
   "metadata": {
    "collapsed": false
   },
   "outputs": [
    {
     "data": {
      "text/html": [
       "<div>\n",
       "<table border=\"1\" class=\"dataframe\">\n",
       "  <thead>\n",
       "    <tr style=\"text-align: right;\">\n",
       "      <th></th>\n",
       "      <th>DEP_DELAY</th>\n",
       "      <th>ARR_DELAY</th>\n",
       "    </tr>\n",
       "    <tr>\n",
       "      <th>DISTANCE_GROUP</th>\n",
       "      <th></th>\n",
       "      <th></th>\n",
       "    </tr>\n",
       "  </thead>\n",
       "  <tbody>\n",
       "    <tr>\n",
       "      <th>1</th>\n",
       "      <td>6.994096</td>\n",
       "      <td>4.003504</td>\n",
       "    </tr>\n",
       "    <tr>\n",
       "      <th>2</th>\n",
       "      <td>8.177389</td>\n",
       "      <td>4.262310</td>\n",
       "    </tr>\n",
       "    <tr>\n",
       "      <th>3</th>\n",
       "      <td>8.583883</td>\n",
       "      <td>3.275098</td>\n",
       "    </tr>\n",
       "    <tr>\n",
       "      <th>4</th>\n",
       "      <td>9.300376</td>\n",
       "      <td>3.615045</td>\n",
       "    </tr>\n",
       "    <tr>\n",
       "      <th>5</th>\n",
       "      <td>10.720219</td>\n",
       "      <td>4.650178</td>\n",
       "    </tr>\n",
       "  </tbody>\n",
       "</table>\n",
       "</div>"
      ],
      "text/plain": [
       "                DEP_DELAY  ARR_DELAY\n",
       "DISTANCE_GROUP                      \n",
       "1                6.994096   4.003504\n",
       "2                8.177389   4.262310\n",
       "3                8.583883   3.275098\n",
       "4                9.300376   3.615045\n",
       "5               10.720219   4.650178"
      ]
     },
     "execution_count": 24,
     "metadata": {},
     "output_type": "execute_result"
    }
   ],
   "source": [
    "byDistance = df[['DISTANCE_GROUP','DEP_DELAY','ARR_DELAY']].groupby('DISTANCE_GROUP').aggregate(np.mean)\n",
    "byDistance.head()"
   ]
  },
  {
   "cell_type": "code",
   "execution_count": 25,
   "metadata": {
    "collapsed": false
   },
   "outputs": [
    {
     "data": {
      "text/plain": [
       "<matplotlib.axes._subplots.AxesSubplot at 0x11127ec10>"
      ]
     },
     "execution_count": 25,
     "metadata": {},
     "output_type": "execute_result"
    },
    {
     "data": {
      "image/png": "[encoded data removed]",
      "text/plain": [
       "<matplotlib.figure.Figure at 0x11127e290>"
      ]
     },
     "metadata": {},
     "output_type": "display_data"
    }
   ],
   "source": [
    "byDistance['DEP_DELAY'].plot(kind = 'bar')"
   ]
  },
  {
   "cell_type": "code",
   "execution_count": 26,
   "metadata": {
    "collapsed": false
   },
   "outputs": [
    {
     "data": {
      "text/plain": [
       "<matplotlib.axes._subplots.AxesSubplot at 0x110289590>"
      ]
     },
     "execution_count": 26,
     "metadata": {},
     "output_type": "execute_result"
    },
    {
     "data": {
      "image/png": "[encoded data removed]",
      "text/plain": [
       "<matplotlib.figure.Figure at 0x1120a16d0>"
      ]
     },
     "metadata": {},
     "output_type": "display_data"
    }
   ],
   "source": [
    "byDistance['ARR_DELAY'].plot(kind = 'bar')"
   ]
  },
  {
   "cell_type": "markdown",
   "metadata": {},
   "source": [
    "While the distance does not influence the departure delay too much, longer distance leads to less delay. This is probablity due to the practice of buffering the schedules. As there are more flexibility in long distance flights. "
   ]
  },
  {
   "cell_type": "markdown",
   "metadata": {},
   "source": [
    "A very naive idea is the the longer distance can compensate the delay of the departure. So it makes sense to compute 'DEP_DELAY'/'CRS_ELAPSED_TIME'"
   ]
  },
  {
   "cell_type": "code",
   "execution_count": 27,
   "metadata": {
    "collapsed": false
   },
   "outputs": [
    {
     "data": {
      "text/plain": [
       "<matplotlib.figure.Figure at 0x112111550>"
      ]
     },
     "metadata": {},
     "output_type": "display_data"
    },
    {
     "data": {
      "image/png": "[encoded data removed]",
      "text/plain": [
       "<matplotlib.figure.Figure at 0x1120fe650>"
      ]
     },
     "metadata": {},
     "output_type": "display_data"
    }
   ],
   "source": [
    "plt.figure(figsize = (10, 10))\n",
    "g = sns.lmplot(x = 'CRS_ELAPSED_TIME', y = 'DEP_DELAY', hue = 'ARR_DEL15', markers=[\"o\", \"x\"], data = df)\n",
    "plt.show()"
   ]
  },
  {
   "cell_type": "markdown",
   "metadata": {},
   "source": [
    "Compare the delay time for different airlines"
   ]
  },
  {
   "cell_type": "code",
   "execution_count": 28,
   "metadata": {
    "collapsed": false
   },
   "outputs": [
    {
     "data": {
      "text/html": [
       "<div>\n",
       "<table border=\"1\" class=\"dataframe\">\n",
       "  <thead>\n",
       "    <tr style=\"text-align: right;\">\n",
       "      <th></th>\n",
       "      <th>DEP_DELAY</th>\n",
       "      <th>ARR_DELAY</th>\n",
       "    </tr>\n",
       "    <tr>\n",
       "      <th>UNIQUE_CARRIER</th>\n",
       "      <th></th>\n",
       "      <th></th>\n",
       "    </tr>\n",
       "  </thead>\n",
       "  <tbody>\n",
       "    <tr>\n",
       "      <th>AA</th>\n",
       "      <td>8.924917</td>\n",
       "      <td>5.085089</td>\n",
       "    </tr>\n",
       "    <tr>\n",
       "      <th>AS</th>\n",
       "      <td>0.396170</td>\n",
       "      <td>-2.197627</td>\n",
       "    </tr>\n",
       "    <tr>\n",
       "      <th>B6</th>\n",
       "      <td>13.044043</td>\n",
       "      <td>8.052638</td>\n",
       "    </tr>\n",
       "    <tr>\n",
       "      <th>DL</th>\n",
       "      <td>7.938083</td>\n",
       "      <td>-0.556192</td>\n",
       "    </tr>\n",
       "    <tr>\n",
       "      <th>EV</th>\n",
       "      <td>9.605870</td>\n",
       "      <td>5.439869</td>\n",
       "    </tr>\n",
       "    <tr>\n",
       "      <th>F9</th>\n",
       "      <td>13.021153</td>\n",
       "      <td>7.790654</td>\n",
       "    </tr>\n",
       "    <tr>\n",
       "      <th>HA</th>\n",
       "      <td>-0.057246</td>\n",
       "      <td>-0.072610</td>\n",
       "    </tr>\n",
       "    <tr>\n",
       "      <th>NK</th>\n",
       "      <td>12.362833</td>\n",
       "      <td>9.328209</td>\n",
       "    </tr>\n",
       "    <tr>\n",
       "      <th>OO</th>\n",
       "      <td>7.512977</td>\n",
       "      <td>4.256732</td>\n",
       "    </tr>\n",
       "    <tr>\n",
       "      <th>UA</th>\n",
       "      <td>11.380377</td>\n",
       "      <td>1.755616</td>\n",
       "    </tr>\n",
       "    <tr>\n",
       "      <th>VX</th>\n",
       "      <td>11.246827</td>\n",
       "      <td>7.355041</td>\n",
       "    </tr>\n",
       "    <tr>\n",
       "      <th>WN</th>\n",
       "      <td>9.086318</td>\n",
       "      <td>3.902305</td>\n",
       "    </tr>\n",
       "  </tbody>\n",
       "</table>\n",
       "</div>"
      ],
      "text/plain": [
       "                DEP_DELAY  ARR_DELAY\n",
       "UNIQUE_CARRIER                      \n",
       "AA               8.924917   5.085089\n",
       "AS               0.396170  -2.197627\n",
       "B6              13.044043   8.052638\n",
       "DL               7.938083  -0.556192\n",
       "EV               9.605870   5.439869\n",
       "F9              13.021153   7.790654\n",
       "HA              -0.057246  -0.072610\n",
       "NK              12.362833   9.328209\n",
       "OO               7.512977   4.256732\n",
       "UA              11.380377   1.755616\n",
       "VX              11.246827   7.355041\n",
       "WN               9.086318   3.902305"
      ]
     },
     "execution_count": 28,
     "metadata": {},
     "output_type": "execute_result"
    }
   ],
   "source": [
    "byAirLine = df[['UNIQUE_CARRIER','DEP_DELAY','ARR_DELAY']].groupby('UNIQUE_CARRIER').aggregate(np.mean)\n",
    "byAirLine"
   ]
  },
  {
   "cell_type": "code",
   "execution_count": 29,
   "metadata": {
    "collapsed": false
   },
   "outputs": [
    {
     "data": {
      "text/plain": [
       "<matplotlib.axes._subplots.AxesSubplot at 0x112238990>"
      ]
     },
     "execution_count": 29,
     "metadata": {},
     "output_type": "execute_result"
    },
    {
     "data": {
      "image/png": "[encoded data removed]",
      "text/plain": [
       "<matplotlib.figure.Figure at 0x11222e3d0>"
      ]
     },
     "metadata": {},
     "output_type": "display_data"
    }
   ],
   "source": [
    "byAirLine['DEP_DELAY'].plot(kind = 'bar')"
   ]
  },
  {
   "cell_type": "code",
   "execution_count": 30,
   "metadata": {
    "collapsed": false
   },
   "outputs": [
    {
     "data": {
      "text/plain": [
       "<matplotlib.axes._subplots.AxesSubplot at 0x112238350>"
      ]
     },
     "execution_count": 30,
     "metadata": {},
     "output_type": "execute_result"
    },
    {
     "data": {
      "image/png": "[encoded data removed]",
      "text/plain": [
       "<matplotlib.figure.Figure at 0x11222e950>"
      ]
     },
     "metadata": {},
     "output_type": "display_data"
    }
   ],
   "source": [
    "byAirLine['ARR_DELAY'].plot(kind = 'bar')"
   ]
  },
  {
   "cell_type": "code",
   "execution_count": 31,
   "metadata": {
    "collapsed": false
   },
   "outputs": [
    {
     "data": {
      "text/html": [
       "<div>\n",
       "<table border=\"1\" class=\"dataframe\">\n",
       "  <thead>\n",
       "    <tr style=\"text-align: right;\">\n",
       "      <th></th>\n",
       "      <th>ARR_DEL15</th>\n",
       "    </tr>\n",
       "    <tr>\n",
       "      <th>UNIQUE_CARRIER</th>\n",
       "      <th></th>\n",
       "    </tr>\n",
       "  </thead>\n",
       "  <tbody>\n",
       "    <tr>\n",
       "      <th>AA</th>\n",
       "      <td>0.206164</td>\n",
       "    </tr>\n",
       "    <tr>\n",
       "      <th>AS</th>\n",
       "      <td>0.126709</td>\n",
       "    </tr>\n",
       "    <tr>\n",
       "      <th>B6</th>\n",
       "      <td>0.249932</td>\n",
       "    </tr>\n",
       "    <tr>\n",
       "      <th>DL</th>\n",
       "      <td>0.135235</td>\n",
       "    </tr>\n",
       "    <tr>\n",
       "      <th>EV</th>\n",
       "      <td>0.201904</td>\n",
       "    </tr>\n",
       "    <tr>\n",
       "      <th>F9</th>\n",
       "      <td>0.239831</td>\n",
       "    </tr>\n",
       "    <tr>\n",
       "      <th>HA</th>\n",
       "      <td>0.089205</td>\n",
       "    </tr>\n",
       "    <tr>\n",
       "      <th>NK</th>\n",
       "      <td>0.256782</td>\n",
       "    </tr>\n",
       "    <tr>\n",
       "      <th>OO</th>\n",
       "      <td>0.177219</td>\n",
       "    </tr>\n",
       "    <tr>\n",
       "      <th>UA</th>\n",
       "      <td>0.182946</td>\n",
       "    </tr>\n",
       "    <tr>\n",
       "      <th>VX</th>\n",
       "      <td>0.237858</td>\n",
       "    </tr>\n",
       "    <tr>\n",
       "      <th>WN</th>\n",
       "      <td>0.192037</td>\n",
       "    </tr>\n",
       "  </tbody>\n",
       "</table>\n",
       "</div>"
      ],
      "text/plain": [
       "                ARR_DEL15\n",
       "UNIQUE_CARRIER           \n",
       "AA               0.206164\n",
       "AS               0.126709\n",
       "B6               0.249932\n",
       "DL               0.135235\n",
       "EV               0.201904\n",
       "F9               0.239831\n",
       "HA               0.089205\n",
       "NK               0.256782\n",
       "OO               0.177219\n",
       "UA               0.182946\n",
       "VX               0.237858\n",
       "WN               0.192037"
      ]
     },
     "execution_count": 31,
     "metadata": {},
     "output_type": "execute_result"
    }
   ],
   "source": [
    "df[['UNIQUE_CARRIER','ARR_DEL15']].groupby('UNIQUE_CARRIER').mean()"
   ]
  },
  {
   "cell_type": "code",
   "execution_count": 32,
   "metadata": {
    "collapsed": false
   },
   "outputs": [
    {
     "data": {
      "text/plain": [
       "<matplotlib.axes._subplots.AxesSubplot at 0x114211210>"
      ]
     },
     "execution_count": 32,
     "metadata": {},
     "output_type": "execute_result"
    },
    {
     "data": {
      "image/png": "[encoded data removed]",
      "text/plain": [
       "<matplotlib.figure.Figure at 0x114365c10>"
      ]
     },
     "metadata": {},
     "output_type": "display_data"
    }
   ],
   "source": [
    "sns.pointplot(x ='UNIQUE_CARRIER', y = 'DEP_DELAY', hue = 'ARR_DEL15', data = df, palette='deep') "
   ]
  },
  {
   "cell_type": "markdown",
   "metadata": {},
   "source": [
    "AS and HA are smaller airlines that specializes in paticular routes. That is probably why they don't have a lot delays. While other airlines are much bigger and run flights all over the country. We can divide airlines into bands\n",
    "(0.15, ) and (0, 0.15]."
   ]
  },
  {
   "cell_type": "markdown",
   "metadata": {},
   "source": [
    "Compare the delay time for different airports."
   ]
  },
  {
   "cell_type": "code",
   "execution_count": 33,
   "metadata": {
    "collapsed": false
   },
   "outputs": [
    {
     "data": {
      "text/html": [
       "<div>\n",
       "<table border=\"1\" class=\"dataframe\">\n",
       "  <thead>\n",
       "    <tr style=\"text-align: right;\">\n",
       "      <th></th>\n",
       "      <th>DEP_DELAY</th>\n",
       "      <th>ARR_DELAY</th>\n",
       "    </tr>\n",
       "    <tr>\n",
       "      <th>ORIGIN</th>\n",
       "      <th></th>\n",
       "      <th></th>\n",
       "    </tr>\n",
       "  </thead>\n",
       "  <tbody>\n",
       "    <tr>\n",
       "      <th>ABE</th>\n",
       "      <td>10.253431</td>\n",
       "      <td>4.038313</td>\n",
       "    </tr>\n",
       "    <tr>\n",
       "      <th>ABI</th>\n",
       "      <td>9.968354</td>\n",
       "      <td>10.254777</td>\n",
       "    </tr>\n",
       "    <tr>\n",
       "      <th>ABQ</th>\n",
       "      <td>8.062188</td>\n",
       "      <td>3.831237</td>\n",
       "    </tr>\n",
       "    <tr>\n",
       "      <th>ABR</th>\n",
       "      <td>5.908719</td>\n",
       "      <td>3.809004</td>\n",
       "    </tr>\n",
       "    <tr>\n",
       "      <th>ABY</th>\n",
       "      <td>7.714715</td>\n",
       "      <td>3.231231</td>\n",
       "    </tr>\n",
       "    <tr>\n",
       "      <th>ACK</th>\n",
       "      <td>14.898194</td>\n",
       "      <td>9.902961</td>\n",
       "    </tr>\n",
       "    <tr>\n",
       "      <th>ACT</th>\n",
       "      <td>7.242556</td>\n",
       "      <td>5.354651</td>\n",
       "    </tr>\n",
       "    <tr>\n",
       "      <th>ACV</th>\n",
       "      <td>12.919177</td>\n",
       "      <td>8.498898</td>\n",
       "    </tr>\n",
       "    <tr>\n",
       "      <th>ACY</th>\n",
       "      <td>11.717373</td>\n",
       "      <td>8.783611</td>\n",
       "    </tr>\n",
       "    <tr>\n",
       "      <th>ADK</th>\n",
       "      <td>-2.029703</td>\n",
       "      <td>-2.118812</td>\n",
       "    </tr>\n",
       "    <tr>\n",
       "      <th>ADQ</th>\n",
       "      <td>-4.260038</td>\n",
       "      <td>-1.992352</td>\n",
       "    </tr>\n",
       "    <tr>\n",
       "      <th>AEX</th>\n",
       "      <td>7.070288</td>\n",
       "      <td>3.976852</td>\n",
       "    </tr>\n",
       "    <tr>\n",
       "      <th>AGS</th>\n",
       "      <td>10.182165</td>\n",
       "      <td>3.461128</td>\n",
       "    </tr>\n",
       "    <tr>\n",
       "      <th>AKN</th>\n",
       "      <td>-3.015873</td>\n",
       "      <td>-1.444444</td>\n",
       "    </tr>\n",
       "    <tr>\n",
       "      <th>ALB</th>\n",
       "      <td>6.434478</td>\n",
       "      <td>-2.786812</td>\n",
       "    </tr>\n",
       "    <tr>\n",
       "      <th>AMA</th>\n",
       "      <td>2.959921</td>\n",
       "      <td>-0.154278</td>\n",
       "    </tr>\n",
       "    <tr>\n",
       "      <th>ANC</th>\n",
       "      <td>0.196576</td>\n",
       "      <td>-2.439556</td>\n",
       "    </tr>\n",
       "    <tr>\n",
       "      <th>APN</th>\n",
       "      <td>13.361022</td>\n",
       "      <td>7.837359</td>\n",
       "    </tr>\n",
       "    <tr>\n",
       "      <th>ASE</th>\n",
       "      <td>11.818286</td>\n",
       "      <td>8.775707</td>\n",
       "    </tr>\n",
       "    <tr>\n",
       "      <th>ATL</th>\n",
       "      <td>8.667101</td>\n",
       "      <td>1.941427</td>\n",
       "    </tr>\n",
       "    <tr>\n",
       "      <th>ATW</th>\n",
       "      <td>3.839420</td>\n",
       "      <td>0.227094</td>\n",
       "    </tr>\n",
       "    <tr>\n",
       "      <th>AUS</th>\n",
       "      <td>8.350658</td>\n",
       "      <td>3.327281</td>\n",
       "    </tr>\n",
       "    <tr>\n",
       "      <th>AVL</th>\n",
       "      <td>11.920455</td>\n",
       "      <td>5.987387</td>\n",
       "    </tr>\n",
       "    <tr>\n",
       "      <th>AVP</th>\n",
       "      <td>7.043452</td>\n",
       "      <td>3.663184</td>\n",
       "    </tr>\n",
       "    <tr>\n",
       "      <th>AZO</th>\n",
       "      <td>4.912289</td>\n",
       "      <td>2.986097</td>\n",
       "    </tr>\n",
       "    <tr>\n",
       "      <th>BDL</th>\n",
       "      <td>6.361413</td>\n",
       "      <td>-1.379274</td>\n",
       "    </tr>\n",
       "    <tr>\n",
       "      <th>BET</th>\n",
       "      <td>-7.866388</td>\n",
       "      <td>-5.064786</td>\n",
       "    </tr>\n",
       "    <tr>\n",
       "      <th>BFF</th>\n",
       "      <td>40.000000</td>\n",
       "      <td>NaN</td>\n",
       "    </tr>\n",
       "    <tr>\n",
       "      <th>BFL</th>\n",
       "      <td>4.590997</td>\n",
       "      <td>0.920295</td>\n",
       "    </tr>\n",
       "    <tr>\n",
       "      <th>BGM</th>\n",
       "      <td>8.712486</td>\n",
       "      <td>4.989679</td>\n",
       "    </tr>\n",
       "    <tr>\n",
       "      <th>...</th>\n",
       "      <td>...</td>\n",
       "      <td>...</td>\n",
       "    </tr>\n",
       "    <tr>\n",
       "      <th>SNA</th>\n",
       "      <td>6.503353</td>\n",
       "      <td>2.365683</td>\n",
       "    </tr>\n",
       "    <tr>\n",
       "      <th>SPI</th>\n",
       "      <td>8.809580</td>\n",
       "      <td>4.984588</td>\n",
       "    </tr>\n",
       "    <tr>\n",
       "      <th>SPN</th>\n",
       "      <td>24.000000</td>\n",
       "      <td>15.000000</td>\n",
       "    </tr>\n",
       "    <tr>\n",
       "      <th>SPS</th>\n",
       "      <td>8.592411</td>\n",
       "      <td>3.463892</td>\n",
       "    </tr>\n",
       "    <tr>\n",
       "      <th>SRQ</th>\n",
       "      <td>12.078600</td>\n",
       "      <td>5.609982</td>\n",
       "    </tr>\n",
       "    <tr>\n",
       "      <th>STL</th>\n",
       "      <td>8.863399</td>\n",
       "      <td>3.859941</td>\n",
       "    </tr>\n",
       "    <tr>\n",
       "      <th>STT</th>\n",
       "      <td>6.431992</td>\n",
       "      <td>1.061648</td>\n",
       "    </tr>\n",
       "    <tr>\n",
       "      <th>STX</th>\n",
       "      <td>4.141049</td>\n",
       "      <td>1.964610</td>\n",
       "    </tr>\n",
       "    <tr>\n",
       "      <th>SUN</th>\n",
       "      <td>7.408163</td>\n",
       "      <td>4.695382</td>\n",
       "    </tr>\n",
       "    <tr>\n",
       "      <th>SWF</th>\n",
       "      <td>10.149792</td>\n",
       "      <td>4.111732</td>\n",
       "    </tr>\n",
       "    <tr>\n",
       "      <th>SYR</th>\n",
       "      <td>8.376107</td>\n",
       "      <td>2.999652</td>\n",
       "    </tr>\n",
       "    <tr>\n",
       "      <th>TLH</th>\n",
       "      <td>7.361209</td>\n",
       "      <td>1.270079</td>\n",
       "    </tr>\n",
       "    <tr>\n",
       "      <th>TPA</th>\n",
       "      <td>8.516963</td>\n",
       "      <td>2.939688</td>\n",
       "    </tr>\n",
       "    <tr>\n",
       "      <th>TRI</th>\n",
       "      <td>8.863531</td>\n",
       "      <td>2.462652</td>\n",
       "    </tr>\n",
       "    <tr>\n",
       "      <th>TTN</th>\n",
       "      <td>9.612206</td>\n",
       "      <td>1.964802</td>\n",
       "    </tr>\n",
       "    <tr>\n",
       "      <th>TUL</th>\n",
       "      <td>4.629769</td>\n",
       "      <td>0.195299</td>\n",
       "    </tr>\n",
       "    <tr>\n",
       "      <th>TUS</th>\n",
       "      <td>7.077155</td>\n",
       "      <td>3.167369</td>\n",
       "    </tr>\n",
       "    <tr>\n",
       "      <th>TVC</th>\n",
       "      <td>9.205423</td>\n",
       "      <td>4.047509</td>\n",
       "    </tr>\n",
       "    <tr>\n",
       "      <th>TWF</th>\n",
       "      <td>2.455046</td>\n",
       "      <td>-0.778802</td>\n",
       "    </tr>\n",
       "    <tr>\n",
       "      <th>TXK</th>\n",
       "      <td>10.852518</td>\n",
       "      <td>12.135654</td>\n",
       "    </tr>\n",
       "    <tr>\n",
       "      <th>TYR</th>\n",
       "      <td>-3.463592</td>\n",
       "      <td>-7.213592</td>\n",
       "    </tr>\n",
       "    <tr>\n",
       "      <th>TYS</th>\n",
       "      <td>8.009702</td>\n",
       "      <td>3.524908</td>\n",
       "    </tr>\n",
       "    <tr>\n",
       "      <th>UST</th>\n",
       "      <td>13.005236</td>\n",
       "      <td>10.570681</td>\n",
       "    </tr>\n",
       "    <tr>\n",
       "      <th>VLD</th>\n",
       "      <td>8.602740</td>\n",
       "      <td>6.985323</td>\n",
       "    </tr>\n",
       "    <tr>\n",
       "      <th>VPS</th>\n",
       "      <td>7.064539</td>\n",
       "      <td>0.853800</td>\n",
       "    </tr>\n",
       "    <tr>\n",
       "      <th>WRG</th>\n",
       "      <td>-1.392211</td>\n",
       "      <td>-1.516129</td>\n",
       "    </tr>\n",
       "    <tr>\n",
       "      <th>WYS</th>\n",
       "      <td>5.352679</td>\n",
       "      <td>2.834821</td>\n",
       "    </tr>\n",
       "    <tr>\n",
       "      <th>XNA</th>\n",
       "      <td>9.725439</td>\n",
       "      <td>4.945599</td>\n",
       "    </tr>\n",
       "    <tr>\n",
       "      <th>YAK</th>\n",
       "      <td>-13.168555</td>\n",
       "      <td>-12.672365</td>\n",
       "    </tr>\n",
       "    <tr>\n",
       "      <th>YUM</th>\n",
       "      <td>0.562755</td>\n",
       "      <td>-1.982644</td>\n",
       "    </tr>\n",
       "  </tbody>\n",
       "</table>\n",
       "<p>313 rows × 2 columns</p>\n",
       "</div>"
      ],
      "text/plain": [
       "        DEP_DELAY  ARR_DELAY\n",
       "ORIGIN                      \n",
       "ABE     10.253431   4.038313\n",
       "ABI      9.968354  10.254777\n",
       "ABQ      8.062188   3.831237\n",
       "ABR      5.908719   3.809004\n",
       "ABY      7.714715   3.231231\n",
       "ACK     14.898194   9.902961\n",
       "ACT      7.242556   5.354651\n",
       "ACV     12.919177   8.498898\n",
       "ACY     11.717373   8.783611\n",
       "ADK     -2.029703  -2.118812\n",
       "ADQ     -4.260038  -1.992352\n",
       "AEX      7.070288   3.976852\n",
       "AGS     10.182165   3.461128\n",
       "AKN     -3.015873  -1.444444\n",
       "ALB      6.434478  -2.786812\n",
       "AMA      2.959921  -0.154278\n",
       "ANC      0.196576  -2.439556\n",
       "APN     13.361022   7.837359\n",
       "ASE     11.818286   8.775707\n",
       "ATL      8.667101   1.941427\n",
       "ATW      3.839420   0.227094\n",
       "AUS      8.350658   3.327281\n",
       "AVL     11.920455   5.987387\n",
       "AVP      7.043452   3.663184\n",
       "AZO      4.912289   2.986097\n",
       "BDL      6.361413  -1.379274\n",
       "BET     -7.866388  -5.064786\n",
       "BFF     40.000000        NaN\n",
       "BFL      4.590997   0.920295\n",
       "BGM      8.712486   4.989679\n",
       "...           ...        ...\n",
       "SNA      6.503353   2.365683\n",
       "SPI      8.809580   4.984588\n",
       "SPN     24.000000  15.000000\n",
       "SPS      8.592411   3.463892\n",
       "SRQ     12.078600   5.609982\n",
       "STL      8.863399   3.859941\n",
       "STT      6.431992   1.061648\n",
       "STX      4.141049   1.964610\n",
       "SUN      7.408163   4.695382\n",
       "SWF     10.149792   4.111732\n",
       "SYR      8.376107   2.999652\n",
       "TLH      7.361209   1.270079\n",
       "TPA      8.516963   2.939688\n",
       "TRI      8.863531   2.462652\n",
       "TTN      9.612206   1.964802\n",
       "TUL      4.629769   0.195299\n",
       "TUS      7.077155   3.167369\n",
       "TVC      9.205423   4.047509\n",
       "TWF      2.455046  -0.778802\n",
       "TXK     10.852518  12.135654\n",
       "TYR     -3.463592  -7.213592\n",
       "TYS      8.009702   3.524908\n",
       "UST     13.005236  10.570681\n",
       "VLD      8.602740   6.985323\n",
       "VPS      7.064539   0.853800\n",
       "WRG     -1.392211  -1.516129\n",
       "WYS      5.352679   2.834821\n",
       "XNA      9.725439   4.945599\n",
       "YAK    -13.168555 -12.672365\n",
       "YUM      0.562755  -1.982644\n",
       "\n",
       "[313 rows x 2 columns]"
      ]
     },
     "execution_count": 33,
     "metadata": {},
     "output_type": "execute_result"
    }
   ],
   "source": [
    "byORIGIN = df[['ORIGIN','DEP_DELAY','ARR_DELAY']].groupby('ORIGIN').aggregate(np.mean)\n",
    "byORIGIN"
   ]
  },
  {
   "cell_type": "markdown",
   "metadata": {},
   "source": [
    "We choose DFW(South), JFK(East), LAX(West) and ORD(Middle) to represent different geographic areas. Try to see if they perform differently for different seasons. "
   ]
  },
  {
   "cell_type": "code",
   "execution_count": 34,
   "metadata": {
    "collapsed": false
   },
   "outputs": [
    {
     "data": {
      "text/html": [
       "<div>\n",
       "<table border=\"1\" class=\"dataframe\">\n",
       "  <thead>\n",
       "    <tr style=\"text-align: right;\">\n",
       "      <th></th>\n",
       "      <th>YEAR</th>\n",
       "      <th>QUARTER</th>\n",
       "      <th>DAY_OF_MONTH</th>\n",
       "      <th>DAY_OF_WEEK</th>\n",
       "      <th>DEP_DELAY</th>\n",
       "      <th>DEP_DEL15</th>\n",
       "      <th>ARR_DELAY</th>\n",
       "      <th>ARR_DEL15</th>\n",
       "      <th>CRS_ELAPSED_TIME</th>\n",
       "      <th>DISTANCE_GROUP</th>\n",
       "    </tr>\n",
       "    <tr>\n",
       "      <th>MONTH</th>\n",
       "      <th></th>\n",
       "      <th></th>\n",
       "      <th></th>\n",
       "      <th></th>\n",
       "      <th></th>\n",
       "      <th></th>\n",
       "      <th></th>\n",
       "      <th></th>\n",
       "      <th></th>\n",
       "      <th></th>\n",
       "    </tr>\n",
       "  </thead>\n",
       "  <tbody>\n",
       "    <tr>\n",
       "      <th>1</th>\n",
       "      <td>2016.0</td>\n",
       "      <td>1.0</td>\n",
       "      <td>15.929369</td>\n",
       "      <td>4.136372</td>\n",
       "      <td>5.992168</td>\n",
       "      <td>0.161425</td>\n",
       "      <td>0.903433</td>\n",
       "      <td>0.163719</td>\n",
       "      <td>143.759070</td>\n",
       "      <td>3.837308</td>\n",
       "    </tr>\n",
       "    <tr>\n",
       "      <th>2</th>\n",
       "      <td>2016.0</td>\n",
       "      <td>1.0</td>\n",
       "      <td>14.936811</td>\n",
       "      <td>3.825729</td>\n",
       "      <td>5.241838</td>\n",
       "      <td>0.142579</td>\n",
       "      <td>0.843254</td>\n",
       "      <td>0.151782</td>\n",
       "      <td>144.044135</td>\n",
       "      <td>3.843227</td>\n",
       "    </tr>\n",
       "    <tr>\n",
       "      <th>3</th>\n",
       "      <td>2016.0</td>\n",
       "      <td>1.0</td>\n",
       "      <td>16.013612</td>\n",
       "      <td>3.881014</td>\n",
       "      <td>12.482714</td>\n",
       "      <td>0.233161</td>\n",
       "      <td>10.186241</td>\n",
       "      <td>0.254694</td>\n",
       "      <td>144.404424</td>\n",
       "      <td>3.854729</td>\n",
       "    </tr>\n",
       "    <tr>\n",
       "      <th>4</th>\n",
       "      <td>2016.0</td>\n",
       "      <td>2.0</td>\n",
       "      <td>15.484300</td>\n",
       "      <td>4.047625</td>\n",
       "      <td>8.512166</td>\n",
       "      <td>0.179166</td>\n",
       "      <td>4.730903</td>\n",
       "      <td>0.190995</td>\n",
       "      <td>146.081563</td>\n",
       "      <td>3.868892</td>\n",
       "    </tr>\n",
       "    <tr>\n",
       "      <th>5</th>\n",
       "      <td>2016.0</td>\n",
       "      <td>2.0</td>\n",
       "      <td>15.920213</td>\n",
       "      <td>3.865087</td>\n",
       "      <td>11.054221</td>\n",
       "      <td>0.204364</td>\n",
       "      <td>7.177612</td>\n",
       "      <td>0.218810</td>\n",
       "      <td>148.399662</td>\n",
       "      <td>3.902563</td>\n",
       "    </tr>\n",
       "  </tbody>\n",
       "</table>\n",
       "</div>"
      ],
      "text/plain": [
       "         YEAR  QUARTER  DAY_OF_MONTH  DAY_OF_WEEK  DEP_DELAY  DEP_DEL15  \\\n",
       "MONTH                                                                     \n",
       "1      2016.0      1.0     15.929369     4.136372   5.992168   0.161425   \n",
       "2      2016.0      1.0     14.936811     3.825729   5.241838   0.142579   \n",
       "3      2016.0      1.0     16.013612     3.881014  12.482714   0.233161   \n",
       "4      2016.0      2.0     15.484300     4.047625   8.512166   0.179166   \n",
       "5      2016.0      2.0     15.920213     3.865087  11.054221   0.204364   \n",
       "\n",
       "       ARR_DELAY  ARR_DEL15  CRS_ELAPSED_TIME  DISTANCE_GROUP  \n",
       "MONTH                                                          \n",
       "1       0.903433   0.163719        143.759070        3.837308  \n",
       "2       0.843254   0.151782        144.044135        3.843227  \n",
       "3      10.186241   0.254694        144.404424        3.854729  \n",
       "4       4.730903   0.190995        146.081563        3.868892  \n",
       "5       7.177612   0.218810        148.399662        3.902563  "
      ]
     },
     "execution_count": 34,
     "metadata": {},
     "output_type": "execute_result"
    }
   ],
   "source": [
    "DFWorigin_df = df[df['ORIGIN'] == 'DFW'].groupby('MONTH').aggregate(np.mean)\n",
    "DFWorigin_df.head()"
   ]
  },
  {
   "cell_type": "code",
   "execution_count": 35,
   "metadata": {
    "collapsed": false
   },
   "outputs": [],
   "source": [
    "JFKorigin_df = df[df['ORIGIN'] == 'JFK'].groupby('MONTH').aggregate(np.mean)\n",
    "ORDorigin_df = df[df['ORIGIN'] == 'ORD'].groupby('MONTH').aggregate(np.mean)\n",
    "LAXorigin_df = df[df['ORIGIN'] == 'LAX'].groupby('MONTH').aggregate(np.mean)\n",
    "DFWdest_df = df[df['DEST'] == 'DFW'].groupby('MONTH').aggregate(np.mean)\n",
    "JFKdest_df = df[df['DEST'] == 'JFK'].groupby('MONTH').aggregate(np.mean)\n",
    "ORDdest_df = df[df['DEST'] == 'ORD'].groupby('MONTH').aggregate(np.mean)\n",
    "LAXdest_df = df[df['DEST'] == 'LAX'].groupby('MONTH').aggregate(np.mean)\n"
   ]
  },
  {
   "cell_type": "markdown",
   "metadata": {},
   "source": [
    "We compare the delays for different cities."
   ]
  },
  {
   "cell_type": "code",
   "execution_count": 36,
   "metadata": {
    "collapsed": false
   },
   "outputs": [
    {
     "data": {
      "text/plain": [
       "<matplotlib.axes._subplots.AxesSubplot at 0x114304bd0>"
      ]
     },
     "execution_count": 36,
     "metadata": {},
     "output_type": "execute_result"
    },
    {
     "data": {
      "image/png": "[encoded data removed]",
      "text/plain": [
       "<matplotlib.figure.Figure at 0x1143c8790>"
      ]
     },
     "metadata": {},
     "output_type": "display_data"
    }
   ],
   "source": [
    "DFWdest_df['ARR_DEL15'].plot(kind = 'bar')"
   ]
  },
  {
   "cell_type": "code",
   "execution_count": 37,
   "metadata": {
    "collapsed": false
   },
   "outputs": [
    {
     "data": {
      "text/plain": [
       "<matplotlib.axes._subplots.AxesSubplot at 0x114226610>"
      ]
     },
     "execution_count": 37,
     "metadata": {},
     "output_type": "execute_result"
    },
    {
     "data": {
      "image/png": "[encoded data removed]",
      "text/plain": [
       "<matplotlib.figure.Figure at 0x1141fc890>"
      ]
     },
     "metadata": {},
     "output_type": "display_data"
    }
   ],
   "source": [
    "JFKdest_df['ARR_DEL15'].plot(kind = 'bar')"
   ]
  },
  {
   "cell_type": "code",
   "execution_count": 38,
   "metadata": {
    "collapsed": false
   },
   "outputs": [
    {
     "data": {
      "text/plain": [
       "<matplotlib.axes._subplots.AxesSubplot at 0x1122783d0>"
      ]
     },
     "execution_count": 38,
     "metadata": {},
     "output_type": "execute_result"
    },
    {
     "data": {
      "image/png": "[encoded data removed]",
      "text/plain": [
       "<matplotlib.figure.Figure at 0x111a5d810>"
      ]
     },
     "metadata": {},
     "output_type": "display_data"
    }
   ],
   "source": [
    "ORDdest_df['ARR_DEL15'].plot(kind = 'bar')"
   ]
  },
  {
   "cell_type": "code",
   "execution_count": 39,
   "metadata": {
    "collapsed": false
   },
   "outputs": [
    {
     "data": {
      "text/plain": [
       "<matplotlib.axes._subplots.AxesSubplot at 0x1141df890>"
      ]
     },
     "execution_count": 39,
     "metadata": {},
     "output_type": "execute_result"
    },
    {
     "data": {
      "image/png": "[encoded data removed]",
      "text/plain": [
       "<matplotlib.figure.Figure at 0x114350790>"
      ]
     },
     "metadata": {},
     "output_type": "display_data"
    }
   ],
   "source": [
    "LAXdest_df['ARR_DEL15'].plot(kind = 'bar')"
   ]
  },
  {
   "cell_type": "code",
   "execution_count": 40,
   "metadata": {
    "collapsed": false
   },
   "outputs": [
    {
     "data": {
      "text/plain": [
       "<matplotlib.axes._subplots.AxesSubplot at 0x10fc6e810>"
      ]
     },
     "execution_count": 40,
     "metadata": {},
     "output_type": "execute_result"
    },
    {
     "data": {
      "image/png": "[encoded data removed]",
      "text/plain": [
       "<matplotlib.figure.Figure at 0x114487d10>"
      ]
     },
     "metadata": {},
     "output_type": "display_data"
    }
   ],
   "source": [
    "DFWorigin_df['DEP_DEL15'].plot(kind = 'bar')"
   ]
  },
  {
   "cell_type": "code",
   "execution_count": 41,
   "metadata": {
    "collapsed": false
   },
   "outputs": [
    {
     "data": {
      "text/plain": [
       "<matplotlib.axes._subplots.AxesSubplot at 0x111eaae10>"
      ]
     },
     "execution_count": 41,
     "metadata": {},
     "output_type": "execute_result"
    },
    {
     "data": {
      "image/png": "[encoded data removed]",
      "text/plain": [
       "<matplotlib.figure.Figure at 0x114487d50>"
      ]
     },
     "metadata": {},
     "output_type": "display_data"
    }
   ],
   "source": [
    "JFKorigin_df['DEP_DEL15'].plot(kind = 'bar')"
   ]
  },
  {
   "cell_type": "code",
   "execution_count": 42,
   "metadata": {
    "collapsed": false
   },
   "outputs": [
    {
     "data": {
      "text/plain": [
       "<matplotlib.axes._subplots.AxesSubplot at 0x11446f850>"
      ]
     },
     "execution_count": 42,
     "metadata": {},
     "output_type": "execute_result"
    },
    {
     "data": {
      "image/png": "[encoded data removed]",
      "text/plain": [
       "<matplotlib.figure.Figure at 0x11b0d2f10>"
      ]
     },
     "metadata": {},
     "output_type": "display_data"
    }
   ],
   "source": [
    "ORDorigin_df['DEP_DEL15'].plot(kind = 'bar')"
   ]
  },
  {
   "cell_type": "code",
   "execution_count": 43,
   "metadata": {
    "collapsed": false
   },
   "outputs": [
    {
     "data": {
      "text/plain": [
       "<matplotlib.axes._subplots.AxesSubplot at 0x114c8c190>"
      ]
     },
     "execution_count": 43,
     "metadata": {},
     "output_type": "execute_result"
    },
    {
     "data": {
      "image/png": "[encoded data removed]",
      "text/plain": [
       "<matplotlib.figure.Figure at 0x111a5d5d0>"
      ]
     },
     "metadata": {},
     "output_type": "display_data"
    }
   ],
   "source": [
    "LAXorigin_df['DEP_DEL15'].plot(kind = 'bar')"
   ]
  },
  {
   "cell_type": "markdown",
   "metadata": {},
   "source": [
    "We don't see much differences across different airports as both origin and destination. Except LA has more delays in December. Maybe in December more people are traveling to California. \n",
    "\n",
    "Ideally we should group ORIGIN and DEST into different categories by its geographic locations. The information geographic location combined with seasons may give some information. But let's assume that there is no correlation. At least not obvious from the above graphes. \n",
    "\n",
    "Due to the limit of time and resource, we will simply classify airports according to their arrival delay. "
   ]
  },
  {
   "cell_type": "markdown",
   "metadata": {},
   "source": [
    "## Feature Engineering\n",
    "\n",
    "1) Construct a new feature 'DEP_DELAY/CRS_ELAPSED_TIME'\n",
    "<br>\n",
    "2) Drop 'YEAR', 'QUATER', 'DAY_OF_MONTH', 'ORIGIN', 'DISTANCE_GROUP', 'DEP_TIME_BLK'\n",
    "<br>\n",
    "3) BAND 'UNIQUE_CARRIER', 'DEST' into groups\n",
    "<br>\n",
    "4) BAND 'ARR_TIME_BAND' further."
   ]
  },
  {
   "cell_type": "code",
   "execution_count": 44,
   "metadata": {
    "collapsed": true
   },
   "outputs": [],
   "source": [
    "df['DEP_DELAY/CRS_ELAPSED_TIME'] = df['DEP_DELAY']/(df['CRS_ELAPSED_TIME'])"
   ]
  },
  {
   "cell_type": "code",
   "execution_count": 45,
   "metadata": {
    "collapsed": false
   },
   "outputs": [
    {
     "name": "stderr",
     "output_type": "stream",
     "text": [
      "/Users/zhuyuecheng/anaconda/lib/python2.7/site-packages/pandas/core/indexing.py:477: SettingWithCopyWarning: \n",
      "A value is trying to be set on a copy of a slice from a DataFrame.\n",
      "Try using .loc[row_indexer,col_indexer] = value instead\n",
      "\n",
      "See the caveats in the documentation: http://pandas.pydata.org/pandas-docs/stable/indexing.html#indexing-view-versus-copy\n",
      "  self.obj[item] = s\n"
     ]
    }
   ],
   "source": [
    "df = df[df['DEP_DELAY/CRS_ELAPSED_TIME'].notnull()]\n",
    "llimit = np.percentile(df['DEP_DELAY/CRS_ELAPSED_TIME'].values, 1)\n",
    "ulimit = np.percentile(df['DEP_DELAY/CRS_ELAPSED_TIME'].values, 99) \n",
    "df.replace(np.inf, ulimit)\n",
    "df.replace(np.inf, llimit)\n",
    "df.loc[df['DEP_DELAY/CRS_ELAPSED_TIME'] < llimit, 'DEP_DELAY/CRS_ELAPSED_TIME'] = llimit\n",
    "df.loc[df['DEP_DELAY/CRS_ELAPSED_TIME'] > ulimit, 'DEP_DELAY/CRS_ELAPSED_TIME'] = ulimit"
   ]
  },
  {
   "cell_type": "code",
   "execution_count": 46,
   "metadata": {
    "collapsed": false
   },
   "outputs": [
    {
     "data": {
      "text/html": [
       "<div>\n",
       "<table border=\"1\" class=\"dataframe\">\n",
       "  <thead>\n",
       "    <tr style=\"text-align: right;\">\n",
       "      <th></th>\n",
       "      <th>YEAR</th>\n",
       "      <th>QUARTER</th>\n",
       "      <th>MONTH</th>\n",
       "      <th>DAY_OF_MONTH</th>\n",
       "      <th>DAY_OF_WEEK</th>\n",
       "      <th>FL_DATE</th>\n",
       "      <th>UNIQUE_CARRIER</th>\n",
       "      <th>ORIGIN</th>\n",
       "      <th>DEST</th>\n",
       "      <th>DEP_DELAY</th>\n",
       "      <th>DEP_DEL15</th>\n",
       "      <th>DEP_TIME_BLK</th>\n",
       "      <th>ARR_DELAY</th>\n",
       "      <th>ARR_DEL15</th>\n",
       "      <th>ARR_TIME_BLK</th>\n",
       "      <th>CRS_ELAPSED_TIME</th>\n",
       "      <th>DISTANCE_GROUP</th>\n",
       "      <th>DEP_DELAY/CRS_ELAPSED_TIME</th>\n",
       "    </tr>\n",
       "  </thead>\n",
       "  <tbody>\n",
       "    <tr>\n",
       "      <th>0</th>\n",
       "      <td>2016</td>\n",
       "      <td>1</td>\n",
       "      <td>1</td>\n",
       "      <td>6</td>\n",
       "      <td>3</td>\n",
       "      <td>2016-01-06</td>\n",
       "      <td>AA</td>\n",
       "      <td>DFW</td>\n",
       "      <td>DTW</td>\n",
       "      <td>-3.0</td>\n",
       "      <td>0</td>\n",
       "      <td>1100-1159</td>\n",
       "      <td>-6.0</td>\n",
       "      <td>0</td>\n",
       "      <td>1400-1459</td>\n",
       "      <td>158.0</td>\n",
       "      <td>4</td>\n",
       "      <td>-0.018987</td>\n",
       "    </tr>\n",
       "    <tr>\n",
       "      <th>1</th>\n",
       "      <td>2016</td>\n",
       "      <td>1</td>\n",
       "      <td>1</td>\n",
       "      <td>7</td>\n",
       "      <td>4</td>\n",
       "      <td>2016-01-07</td>\n",
       "      <td>AA</td>\n",
       "      <td>DFW</td>\n",
       "      <td>DTW</td>\n",
       "      <td>-4.0</td>\n",
       "      <td>0</td>\n",
       "      <td>1100-1159</td>\n",
       "      <td>-12.0</td>\n",
       "      <td>0</td>\n",
       "      <td>1400-1459</td>\n",
       "      <td>158.0</td>\n",
       "      <td>4</td>\n",
       "      <td>-0.025316</td>\n",
       "    </tr>\n",
       "    <tr>\n",
       "      <th>2</th>\n",
       "      <td>2016</td>\n",
       "      <td>1</td>\n",
       "      <td>1</td>\n",
       "      <td>8</td>\n",
       "      <td>5</td>\n",
       "      <td>2016-01-08</td>\n",
       "      <td>AA</td>\n",
       "      <td>DFW</td>\n",
       "      <td>DTW</td>\n",
       "      <td>-5.0</td>\n",
       "      <td>0</td>\n",
       "      <td>1100-1159</td>\n",
       "      <td>7.0</td>\n",
       "      <td>0</td>\n",
       "      <td>1400-1459</td>\n",
       "      <td>158.0</td>\n",
       "      <td>4</td>\n",
       "      <td>-0.031646</td>\n",
       "    </tr>\n",
       "    <tr>\n",
       "      <th>3</th>\n",
       "      <td>2016</td>\n",
       "      <td>1</td>\n",
       "      <td>1</td>\n",
       "      <td>9</td>\n",
       "      <td>6</td>\n",
       "      <td>2016-01-09</td>\n",
       "      <td>AA</td>\n",
       "      <td>DFW</td>\n",
       "      <td>DTW</td>\n",
       "      <td>2.0</td>\n",
       "      <td>0</td>\n",
       "      <td>1100-1159</td>\n",
       "      <td>-5.0</td>\n",
       "      <td>0</td>\n",
       "      <td>1400-1459</td>\n",
       "      <td>158.0</td>\n",
       "      <td>4</td>\n",
       "      <td>0.012658</td>\n",
       "    </tr>\n",
       "    <tr>\n",
       "      <th>4</th>\n",
       "      <td>2016</td>\n",
       "      <td>1</td>\n",
       "      <td>1</td>\n",
       "      <td>10</td>\n",
       "      <td>7</td>\n",
       "      <td>2016-01-10</td>\n",
       "      <td>AA</td>\n",
       "      <td>DFW</td>\n",
       "      <td>DTW</td>\n",
       "      <td>100.0</td>\n",
       "      <td>1</td>\n",
       "      <td>1100-1159</td>\n",
       "      <td>113.0</td>\n",
       "      <td>1</td>\n",
       "      <td>1400-1459</td>\n",
       "      <td>158.0</td>\n",
       "      <td>4</td>\n",
       "      <td>0.632911</td>\n",
       "    </tr>\n",
       "  </tbody>\n",
       "</table>\n",
       "</div>"
      ],
      "text/plain": [
       "   YEAR  QUARTER  MONTH  DAY_OF_MONTH  DAY_OF_WEEK    FL_DATE UNIQUE_CARRIER  \\\n",
       "0  2016        1      1             6            3 2016-01-06             AA   \n",
       "1  2016        1      1             7            4 2016-01-07             AA   \n",
       "2  2016        1      1             8            5 2016-01-08             AA   \n",
       "3  2016        1      1             9            6 2016-01-09             AA   \n",
       "4  2016        1      1            10            7 2016-01-10             AA   \n",
       "\n",
       "  ORIGIN DEST  DEP_DELAY  DEP_DEL15 DEP_TIME_BLK  ARR_DELAY  ARR_DEL15  \\\n",
       "0    DFW  DTW       -3.0          0    1100-1159       -6.0          0   \n",
       "1    DFW  DTW       -4.0          0    1100-1159      -12.0          0   \n",
       "2    DFW  DTW       -5.0          0    1100-1159        7.0          0   \n",
       "3    DFW  DTW        2.0          0    1100-1159       -5.0          0   \n",
       "4    DFW  DTW      100.0          1    1100-1159      113.0          1   \n",
       "\n",
       "  ARR_TIME_BLK  CRS_ELAPSED_TIME  DISTANCE_GROUP  DEP_DELAY/CRS_ELAPSED_TIME  \n",
       "0    1400-1459             158.0               4                   -0.018987  \n",
       "1    1400-1459             158.0               4                   -0.025316  \n",
       "2    1400-1459             158.0               4                   -0.031646  \n",
       "3    1400-1459             158.0               4                    0.012658  \n",
       "4    1400-1459             158.0               4                    0.632911  "
      ]
     },
     "execution_count": 46,
     "metadata": {},
     "output_type": "execute_result"
    }
   ],
   "source": [
    "df.head()"
   ]
  },
  {
   "cell_type": "code",
   "execution_count": 47,
   "metadata": {
    "collapsed": false
   },
   "outputs": [
    {
     "data": {
      "text/html": [
       "<div>\n",
       "<table border=\"1\" class=\"dataframe\">\n",
       "  <thead>\n",
       "    <tr style=\"text-align: right;\">\n",
       "      <th></th>\n",
       "      <th>DEST</th>\n",
       "      <th>ARR_DEL15</th>\n",
       "    </tr>\n",
       "  </thead>\n",
       "  <tbody>\n",
       "    <tr>\n",
       "      <th>0</th>\n",
       "      <td>ABE</td>\n",
       "      <td>0.182209</td>\n",
       "    </tr>\n",
       "    <tr>\n",
       "      <th>1</th>\n",
       "      <td>ABI</td>\n",
       "      <td>0.208861</td>\n",
       "    </tr>\n",
       "    <tr>\n",
       "      <th>2</th>\n",
       "      <td>ABQ</td>\n",
       "      <td>0.181123</td>\n",
       "    </tr>\n",
       "    <tr>\n",
       "      <th>3</th>\n",
       "      <td>ABR</td>\n",
       "      <td>0.095109</td>\n",
       "    </tr>\n",
       "    <tr>\n",
       "      <th>4</th>\n",
       "      <td>ABY</td>\n",
       "      <td>0.181363</td>\n",
       "    </tr>\n",
       "  </tbody>\n",
       "</table>\n",
       "</div>"
      ],
      "text/plain": [
       "  DEST  ARR_DEL15\n",
       "0  ABE   0.182209\n",
       "1  ABI   0.208861\n",
       "2  ABQ   0.181123\n",
       "3  ABR   0.095109\n",
       "4  ABY   0.181363"
      ]
     },
     "execution_count": 47,
     "metadata": {},
     "output_type": "execute_result"
    }
   ],
   "source": [
    "byDEST = df[['DEST', 'ARR_DEL15']].groupby('DEST', as_index = False).mean()\n",
    "byDEST.head()\n"
   ]
  },
  {
   "cell_type": "code",
   "execution_count": 48,
   "metadata": {
    "collapsed": false
   },
   "outputs": [
    {
     "data": {
      "text/html": [
       "<div>\n",
       "<table border=\"1\" class=\"dataframe\">\n",
       "  <thead>\n",
       "    <tr style=\"text-align: right;\">\n",
       "      <th></th>\n",
       "      <th>DEST_BAND</th>\n",
       "      <th>ARR_DEL15</th>\n",
       "    </tr>\n",
       "  </thead>\n",
       "  <tbody>\n",
       "    <tr>\n",
       "      <th>0</th>\n",
       "      <td>(-0.000349, 0.0699]</td>\n",
       "      <td>0.036804</td>\n",
       "    </tr>\n",
       "    <tr>\n",
       "      <th>1</th>\n",
       "      <td>(0.0699, 0.14]</td>\n",
       "      <td>0.113825</td>\n",
       "    </tr>\n",
       "    <tr>\n",
       "      <th>2</th>\n",
       "      <td>(0.14, 0.21]</td>\n",
       "      <td>0.172557</td>\n",
       "    </tr>\n",
       "    <tr>\n",
       "      <th>3</th>\n",
       "      <td>(0.21, 0.28]</td>\n",
       "      <td>0.235300</td>\n",
       "    </tr>\n",
       "    <tr>\n",
       "      <th>4</th>\n",
       "      <td>(0.28, 0.349]</td>\n",
       "      <td>0.318777</td>\n",
       "    </tr>\n",
       "  </tbody>\n",
       "</table>\n",
       "</div>"
      ],
      "text/plain": [
       "             DEST_BAND  ARR_DEL15\n",
       "0  (-0.000349, 0.0699]   0.036804\n",
       "1       (0.0699, 0.14]   0.113825\n",
       "2         (0.14, 0.21]   0.172557\n",
       "3         (0.21, 0.28]   0.235300\n",
       "4        (0.28, 0.349]   0.318777"
      ]
     },
     "execution_count": 48,
     "metadata": {},
     "output_type": "execute_result"
    }
   ],
   "source": [
    "byDEST['DEST_BAND'] = pd.cut(byDEST['ARR_DEL15'], 5)\n",
    "byDEST[['DEST_BAND', 'ARR_DEL15']].groupby(['DEST_BAND'],\\\n",
    "                                          as_index=False).mean().sort_values(by='DEST_BAND', ascending=True)"
   ]
  },
  {
   "cell_type": "code",
   "execution_count": 49,
   "metadata": {
    "collapsed": false
   },
   "outputs": [
    {
     "data": {
      "text/html": [
       "<div>\n",
       "<table border=\"1\" class=\"dataframe\">\n",
       "  <thead>\n",
       "    <tr style=\"text-align: right;\">\n",
       "      <th></th>\n",
       "      <th>DEST</th>\n",
       "      <th>ARR_DEL15</th>\n",
       "      <th>DEST_BAND</th>\n",
       "    </tr>\n",
       "  </thead>\n",
       "  <tbody>\n",
       "    <tr>\n",
       "      <th>0</th>\n",
       "      <td>ABE</td>\n",
       "      <td>0.182209</td>\n",
       "      <td>(0.14, 0.21]</td>\n",
       "    </tr>\n",
       "    <tr>\n",
       "      <th>1</th>\n",
       "      <td>ABI</td>\n",
       "      <td>0.208861</td>\n",
       "      <td>(0.14, 0.21]</td>\n",
       "    </tr>\n",
       "    <tr>\n",
       "      <th>2</th>\n",
       "      <td>ABQ</td>\n",
       "      <td>0.181123</td>\n",
       "      <td>(0.14, 0.21]</td>\n",
       "    </tr>\n",
       "    <tr>\n",
       "      <th>3</th>\n",
       "      <td>ABR</td>\n",
       "      <td>0.095109</td>\n",
       "      <td>(0.0699, 0.14]</td>\n",
       "    </tr>\n",
       "    <tr>\n",
       "      <th>4</th>\n",
       "      <td>ABY</td>\n",
       "      <td>0.181363</td>\n",
       "      <td>(0.14, 0.21]</td>\n",
       "    </tr>\n",
       "  </tbody>\n",
       "</table>\n",
       "</div>"
      ],
      "text/plain": [
       "  DEST  ARR_DEL15       DEST_BAND\n",
       "0  ABE   0.182209    (0.14, 0.21]\n",
       "1  ABI   0.208861    (0.14, 0.21]\n",
       "2  ABQ   0.181123    (0.14, 0.21]\n",
       "3  ABR   0.095109  (0.0699, 0.14]\n",
       "4  ABY   0.181363    (0.14, 0.21]"
      ]
     },
     "execution_count": 49,
     "metadata": {},
     "output_type": "execute_result"
    }
   ],
   "source": [
    "byDEST.head()"
   ]
  },
  {
   "cell_type": "code",
   "execution_count": 50,
   "metadata": {
    "collapsed": false
   },
   "outputs": [
    {
     "data": {
      "text/html": [
       "<div>\n",
       "<table border=\"1\" class=\"dataframe\">\n",
       "  <thead>\n",
       "    <tr style=\"text-align: right;\">\n",
       "      <th></th>\n",
       "      <th>DEST</th>\n",
       "      <th>ARR_DEL15</th>\n",
       "      <th>DEST_BAND</th>\n",
       "      <th>BAND</th>\n",
       "    </tr>\n",
       "  </thead>\n",
       "  <tbody>\n",
       "    <tr>\n",
       "      <th>0</th>\n",
       "      <td>ABE</td>\n",
       "      <td>0.182209</td>\n",
       "      <td>(0.14, 0.21]</td>\n",
       "      <td>2</td>\n",
       "    </tr>\n",
       "    <tr>\n",
       "      <th>1</th>\n",
       "      <td>ABI</td>\n",
       "      <td>0.208861</td>\n",
       "      <td>(0.14, 0.21]</td>\n",
       "      <td>2</td>\n",
       "    </tr>\n",
       "    <tr>\n",
       "      <th>2</th>\n",
       "      <td>ABQ</td>\n",
       "      <td>0.181123</td>\n",
       "      <td>(0.14, 0.21]</td>\n",
       "      <td>2</td>\n",
       "    </tr>\n",
       "    <tr>\n",
       "      <th>3</th>\n",
       "      <td>ABR</td>\n",
       "      <td>0.095109</td>\n",
       "      <td>(0.0699, 0.14]</td>\n",
       "      <td>1</td>\n",
       "    </tr>\n",
       "    <tr>\n",
       "      <th>4</th>\n",
       "      <td>ABY</td>\n",
       "      <td>0.181363</td>\n",
       "      <td>(0.14, 0.21]</td>\n",
       "      <td>2</td>\n",
       "    </tr>\n",
       "  </tbody>\n",
       "</table>\n",
       "</div>"
      ],
      "text/plain": [
       "  DEST  ARR_DEL15       DEST_BAND  BAND\n",
       "0  ABE   0.182209    (0.14, 0.21]     2\n",
       "1  ABI   0.208861    (0.14, 0.21]     2\n",
       "2  ABQ   0.181123    (0.14, 0.21]     2\n",
       "3  ABR   0.095109  (0.0699, 0.14]     1\n",
       "4  ABY   0.181363    (0.14, 0.21]     2"
      ]
     },
     "execution_count": 50,
     "metadata": {},
     "output_type": "execute_result"
    }
   ],
   "source": [
    "byDEST['BAND'] = 0\n",
    "byDEST.loc[ byDEST['ARR_DEL15'] <= 0.0747, 'BAND'] = 0\n",
    "byDEST.loc[(byDEST['ARR_DEL15'] > 0.0747) & (byDEST['ARR_DEL15'] <= 0.149), 'BAND'] = 1\n",
    "byDEST.loc[(byDEST['ARR_DEL15'] > 0.149) & (byDEST['ARR_DEL15'] <= 0.224), 'BAND'] = 2\n",
    "byDEST.loc[(byDEST['ARR_DEL15'] > 0.224) & (byDEST['ARR_DEL15'] <= 0.299), 'BAND'] = 3\n",
    "byDEST.loc[ byDEST['ARR_DEL15'] > 0.299, 'BAND'] = 4\n",
    "byDEST.head()"
   ]
  },
  {
   "cell_type": "code",
   "execution_count": 51,
   "metadata": {
    "collapsed": false
   },
   "outputs": [
    {
     "name": "stderr",
     "output_type": "stream",
     "text": [
      "/Users/zhuyuecheng/anaconda/lib/python2.7/site-packages/ipykernel/__main__.py:2: SettingWithCopyWarning: \n",
      "A value is trying to be set on a copy of a slice from a DataFrame.\n",
      "Try using .loc[row_indexer,col_indexer] = value instead\n",
      "\n",
      "See the caveats in the documentation: http://pandas.pydata.org/pandas-docs/stable/indexing.html#indexing-view-versus-copy\n",
      "  from ipykernel import kernelapp as app\n"
     ]
    },
    {
     "data": {
      "text/html": [
       "<div>\n",
       "<table border=\"1\" class=\"dataframe\">\n",
       "  <thead>\n",
       "    <tr style=\"text-align: right;\">\n",
       "      <th></th>\n",
       "      <th>YEAR</th>\n",
       "      <th>QUARTER</th>\n",
       "      <th>MONTH</th>\n",
       "      <th>DAY_OF_MONTH</th>\n",
       "      <th>DAY_OF_WEEK</th>\n",
       "      <th>FL_DATE</th>\n",
       "      <th>UNIQUE_CARRIER</th>\n",
       "      <th>ORIGIN</th>\n",
       "      <th>DEST</th>\n",
       "      <th>DEP_DELAY</th>\n",
       "      <th>DEP_DEL15</th>\n",
       "      <th>DEP_TIME_BLK</th>\n",
       "      <th>ARR_DELAY</th>\n",
       "      <th>ARR_DEL15</th>\n",
       "      <th>ARR_TIME_BLK</th>\n",
       "      <th>CRS_ELAPSED_TIME</th>\n",
       "      <th>DISTANCE_GROUP</th>\n",
       "      <th>DEP_DELAY/CRS_ELAPSED_TIME</th>\n",
       "      <th>DEST_AIRPORT</th>\n",
       "    </tr>\n",
       "  </thead>\n",
       "  <tbody>\n",
       "    <tr>\n",
       "      <th>0</th>\n",
       "      <td>2016</td>\n",
       "      <td>1</td>\n",
       "      <td>1</td>\n",
       "      <td>6</td>\n",
       "      <td>3</td>\n",
       "      <td>2016-01-06</td>\n",
       "      <td>AA</td>\n",
       "      <td>DFW</td>\n",
       "      <td>DTW</td>\n",
       "      <td>-3.0</td>\n",
       "      <td>0</td>\n",
       "      <td>1100-1159</td>\n",
       "      <td>-6.0</td>\n",
       "      <td>0</td>\n",
       "      <td>1400-1459</td>\n",
       "      <td>158.0</td>\n",
       "      <td>4</td>\n",
       "      <td>-0.018987</td>\n",
       "      <td>1</td>\n",
       "    </tr>\n",
       "    <tr>\n",
       "      <th>1</th>\n",
       "      <td>2016</td>\n",
       "      <td>1</td>\n",
       "      <td>1</td>\n",
       "      <td>7</td>\n",
       "      <td>4</td>\n",
       "      <td>2016-01-07</td>\n",
       "      <td>AA</td>\n",
       "      <td>DFW</td>\n",
       "      <td>DTW</td>\n",
       "      <td>-4.0</td>\n",
       "      <td>0</td>\n",
       "      <td>1100-1159</td>\n",
       "      <td>-12.0</td>\n",
       "      <td>0</td>\n",
       "      <td>1400-1459</td>\n",
       "      <td>158.0</td>\n",
       "      <td>4</td>\n",
       "      <td>-0.025316</td>\n",
       "      <td>1</td>\n",
       "    </tr>\n",
       "    <tr>\n",
       "      <th>2</th>\n",
       "      <td>2016</td>\n",
       "      <td>1</td>\n",
       "      <td>1</td>\n",
       "      <td>8</td>\n",
       "      <td>5</td>\n",
       "      <td>2016-01-08</td>\n",
       "      <td>AA</td>\n",
       "      <td>DFW</td>\n",
       "      <td>DTW</td>\n",
       "      <td>-5.0</td>\n",
       "      <td>0</td>\n",
       "      <td>1100-1159</td>\n",
       "      <td>7.0</td>\n",
       "      <td>0</td>\n",
       "      <td>1400-1459</td>\n",
       "      <td>158.0</td>\n",
       "      <td>4</td>\n",
       "      <td>-0.031646</td>\n",
       "      <td>1</td>\n",
       "    </tr>\n",
       "    <tr>\n",
       "      <th>3</th>\n",
       "      <td>2016</td>\n",
       "      <td>1</td>\n",
       "      <td>1</td>\n",
       "      <td>9</td>\n",
       "      <td>6</td>\n",
       "      <td>2016-01-09</td>\n",
       "      <td>AA</td>\n",
       "      <td>DFW</td>\n",
       "      <td>DTW</td>\n",
       "      <td>2.0</td>\n",
       "      <td>0</td>\n",
       "      <td>1100-1159</td>\n",
       "      <td>-5.0</td>\n",
       "      <td>0</td>\n",
       "      <td>1400-1459</td>\n",
       "      <td>158.0</td>\n",
       "      <td>4</td>\n",
       "      <td>0.012658</td>\n",
       "      <td>1</td>\n",
       "    </tr>\n",
       "    <tr>\n",
       "      <th>4</th>\n",
       "      <td>2016</td>\n",
       "      <td>1</td>\n",
       "      <td>1</td>\n",
       "      <td>10</td>\n",
       "      <td>7</td>\n",
       "      <td>2016-01-10</td>\n",
       "      <td>AA</td>\n",
       "      <td>DFW</td>\n",
       "      <td>DTW</td>\n",
       "      <td>100.0</td>\n",
       "      <td>1</td>\n",
       "      <td>1100-1159</td>\n",
       "      <td>113.0</td>\n",
       "      <td>1</td>\n",
       "      <td>1400-1459</td>\n",
       "      <td>158.0</td>\n",
       "      <td>4</td>\n",
       "      <td>0.632911</td>\n",
       "      <td>1</td>\n",
       "    </tr>\n",
       "  </tbody>\n",
       "</table>\n",
       "</div>"
      ],
      "text/plain": [
       "   YEAR  QUARTER  MONTH  DAY_OF_MONTH  DAY_OF_WEEK    FL_DATE UNIQUE_CARRIER  \\\n",
       "0  2016        1      1             6            3 2016-01-06             AA   \n",
       "1  2016        1      1             7            4 2016-01-07             AA   \n",
       "2  2016        1      1             8            5 2016-01-08             AA   \n",
       "3  2016        1      1             9            6 2016-01-09             AA   \n",
       "4  2016        1      1            10            7 2016-01-10             AA   \n",
       "\n",
       "  ORIGIN DEST  DEP_DELAY  DEP_DEL15 DEP_TIME_BLK  ARR_DELAY  ARR_DEL15  \\\n",
       "0    DFW  DTW       -3.0          0    1100-1159       -6.0          0   \n",
       "1    DFW  DTW       -4.0          0    1100-1159      -12.0          0   \n",
       "2    DFW  DTW       -5.0          0    1100-1159        7.0          0   \n",
       "3    DFW  DTW        2.0          0    1100-1159       -5.0          0   \n",
       "4    DFW  DTW      100.0          1    1100-1159      113.0          1   \n",
       "\n",
       "  ARR_TIME_BLK  CRS_ELAPSED_TIME  DISTANCE_GROUP  DEP_DELAY/CRS_ELAPSED_TIME  \\\n",
       "0    1400-1459             158.0               4                   -0.018987   \n",
       "1    1400-1459             158.0               4                   -0.025316   \n",
       "2    1400-1459             158.0               4                   -0.031646   \n",
       "3    1400-1459             158.0               4                    0.012658   \n",
       "4    1400-1459             158.0               4                    0.632911   \n",
       "\n",
       "   DEST_AIRPORT  \n",
       "0             1  \n",
       "1             1  \n",
       "2             1  \n",
       "3             1  \n",
       "4             1  "
      ]
     },
     "execution_count": 51,
     "metadata": {},
     "output_type": "execute_result"
    }
   ],
   "source": [
    "dest_map = pd.Series(byDEST.BAND.values,index=byDEST.DEST).to_dict()\n",
    "df['DEST_AIRPORT'] = df['DEST'].map(dest_map)\n",
    "df.head()"
   ]
  },
  {
   "cell_type": "code",
   "execution_count": 52,
   "metadata": {
    "collapsed": false
   },
   "outputs": [
    {
     "name": "stderr",
     "output_type": "stream",
     "text": [
      "/Users/zhuyuecheng/anaconda/lib/python2.7/site-packages/ipykernel/__main__.py:1: SettingWithCopyWarning: \n",
      "A value is trying to be set on a copy of a slice from a DataFrame.\n",
      "Try using .loc[row_indexer,col_indexer] = value instead\n",
      "\n",
      "See the caveats in the documentation: http://pandas.pydata.org/pandas-docs/stable/indexing.html#indexing-view-versus-copy\n",
      "  if __name__ == '__main__':\n"
     ]
    },
    {
     "data": {
      "text/html": [
       "<div>\n",
       "<table border=\"1\" class=\"dataframe\">\n",
       "  <thead>\n",
       "    <tr style=\"text-align: right;\">\n",
       "      <th></th>\n",
       "      <th>YEAR</th>\n",
       "      <th>QUARTER</th>\n",
       "      <th>MONTH</th>\n",
       "      <th>DAY_OF_MONTH</th>\n",
       "      <th>DAY_OF_WEEK</th>\n",
       "      <th>FL_DATE</th>\n",
       "      <th>UNIQUE_CARRIER</th>\n",
       "      <th>ORIGIN</th>\n",
       "      <th>DEST</th>\n",
       "      <th>DEP_DELAY</th>\n",
       "      <th>DEP_DEL15</th>\n",
       "      <th>DEP_TIME_BLK</th>\n",
       "      <th>ARR_DELAY</th>\n",
       "      <th>ARR_DEL15</th>\n",
       "      <th>ARR_TIME_BLK</th>\n",
       "      <th>CRS_ELAPSED_TIME</th>\n",
       "      <th>DISTANCE_GROUP</th>\n",
       "      <th>DEP_DELAY/CRS_ELAPSED_TIME</th>\n",
       "      <th>DEST_AIRPORT</th>\n",
       "      <th>AIRLINE</th>\n",
       "    </tr>\n",
       "  </thead>\n",
       "  <tbody>\n",
       "    <tr>\n",
       "      <th>0</th>\n",
       "      <td>2016</td>\n",
       "      <td>1</td>\n",
       "      <td>1</td>\n",
       "      <td>6</td>\n",
       "      <td>3</td>\n",
       "      <td>2016-01-06</td>\n",
       "      <td>AA</td>\n",
       "      <td>DFW</td>\n",
       "      <td>DTW</td>\n",
       "      <td>-3.0</td>\n",
       "      <td>0</td>\n",
       "      <td>1100-1159</td>\n",
       "      <td>-6.0</td>\n",
       "      <td>0</td>\n",
       "      <td>1400-1459</td>\n",
       "      <td>158.0</td>\n",
       "      <td>4</td>\n",
       "      <td>-0.018987</td>\n",
       "      <td>1</td>\n",
       "      <td>1</td>\n",
       "    </tr>\n",
       "    <tr>\n",
       "      <th>1</th>\n",
       "      <td>2016</td>\n",
       "      <td>1</td>\n",
       "      <td>1</td>\n",
       "      <td>7</td>\n",
       "      <td>4</td>\n",
       "      <td>2016-01-07</td>\n",
       "      <td>AA</td>\n",
       "      <td>DFW</td>\n",
       "      <td>DTW</td>\n",
       "      <td>-4.0</td>\n",
       "      <td>0</td>\n",
       "      <td>1100-1159</td>\n",
       "      <td>-12.0</td>\n",
       "      <td>0</td>\n",
       "      <td>1400-1459</td>\n",
       "      <td>158.0</td>\n",
       "      <td>4</td>\n",
       "      <td>-0.025316</td>\n",
       "      <td>1</td>\n",
       "      <td>1</td>\n",
       "    </tr>\n",
       "    <tr>\n",
       "      <th>2</th>\n",
       "      <td>2016</td>\n",
       "      <td>1</td>\n",
       "      <td>1</td>\n",
       "      <td>8</td>\n",
       "      <td>5</td>\n",
       "      <td>2016-01-08</td>\n",
       "      <td>AA</td>\n",
       "      <td>DFW</td>\n",
       "      <td>DTW</td>\n",
       "      <td>-5.0</td>\n",
       "      <td>0</td>\n",
       "      <td>1100-1159</td>\n",
       "      <td>7.0</td>\n",
       "      <td>0</td>\n",
       "      <td>1400-1459</td>\n",
       "      <td>158.0</td>\n",
       "      <td>4</td>\n",
       "      <td>-0.031646</td>\n",
       "      <td>1</td>\n",
       "      <td>1</td>\n",
       "    </tr>\n",
       "    <tr>\n",
       "      <th>3</th>\n",
       "      <td>2016</td>\n",
       "      <td>1</td>\n",
       "      <td>1</td>\n",
       "      <td>9</td>\n",
       "      <td>6</td>\n",
       "      <td>2016-01-09</td>\n",
       "      <td>AA</td>\n",
       "      <td>DFW</td>\n",
       "      <td>DTW</td>\n",
       "      <td>2.0</td>\n",
       "      <td>0</td>\n",
       "      <td>1100-1159</td>\n",
       "      <td>-5.0</td>\n",
       "      <td>0</td>\n",
       "      <td>1400-1459</td>\n",
       "      <td>158.0</td>\n",
       "      <td>4</td>\n",
       "      <td>0.012658</td>\n",
       "      <td>1</td>\n",
       "      <td>1</td>\n",
       "    </tr>\n",
       "    <tr>\n",
       "      <th>4</th>\n",
       "      <td>2016</td>\n",
       "      <td>1</td>\n",
       "      <td>1</td>\n",
       "      <td>10</td>\n",
       "      <td>7</td>\n",
       "      <td>2016-01-10</td>\n",
       "      <td>AA</td>\n",
       "      <td>DFW</td>\n",
       "      <td>DTW</td>\n",
       "      <td>100.0</td>\n",
       "      <td>1</td>\n",
       "      <td>1100-1159</td>\n",
       "      <td>113.0</td>\n",
       "      <td>1</td>\n",
       "      <td>1400-1459</td>\n",
       "      <td>158.0</td>\n",
       "      <td>4</td>\n",
       "      <td>0.632911</td>\n",
       "      <td>1</td>\n",
       "      <td>1</td>\n",
       "    </tr>\n",
       "  </tbody>\n",
       "</table>\n",
       "</div>"
      ],
      "text/plain": [
       "   YEAR  QUARTER  MONTH  DAY_OF_MONTH  DAY_OF_WEEK    FL_DATE UNIQUE_CARRIER  \\\n",
       "0  2016        1      1             6            3 2016-01-06             AA   \n",
       "1  2016        1      1             7            4 2016-01-07             AA   \n",
       "2  2016        1      1             8            5 2016-01-08             AA   \n",
       "3  2016        1      1             9            6 2016-01-09             AA   \n",
       "4  2016        1      1            10            7 2016-01-10             AA   \n",
       "\n",
       "  ORIGIN DEST  DEP_DELAY  DEP_DEL15 DEP_TIME_BLK  ARR_DELAY  ARR_DEL15  \\\n",
       "0    DFW  DTW       -3.0          0    1100-1159       -6.0          0   \n",
       "1    DFW  DTW       -4.0          0    1100-1159      -12.0          0   \n",
       "2    DFW  DTW       -5.0          0    1100-1159        7.0          0   \n",
       "3    DFW  DTW        2.0          0    1100-1159       -5.0          0   \n",
       "4    DFW  DTW      100.0          1    1100-1159      113.0          1   \n",
       "\n",
       "  ARR_TIME_BLK  CRS_ELAPSED_TIME  DISTANCE_GROUP  DEP_DELAY/CRS_ELAPSED_TIME  \\\n",
       "0    1400-1459             158.0               4                   -0.018987   \n",
       "1    1400-1459             158.0               4                   -0.025316   \n",
       "2    1400-1459             158.0               4                   -0.031646   \n",
       "3    1400-1459             158.0               4                    0.012658   \n",
       "4    1400-1459             158.0               4                    0.632911   \n",
       "\n",
       "   DEST_AIRPORT  AIRLINE  \n",
       "0             1        1  \n",
       "1             1        1  \n",
       "2             1        1  \n",
       "3             1        1  \n",
       "4             1        1  "
      ]
     },
     "execution_count": 52,
     "metadata": {},
     "output_type": "execute_result"
    }
   ],
   "source": [
    "df['AIRLINE'] = 1\n",
    "df.loc[(df['UNIQUE_CARRIER'] == 'AS') | (df['UNIQUE_CARRIER'] == 'DL') | (df['UNIQUE_CARRIER'] == 'HA'), 'AIRLINE'] = 0\n",
    "df.head()"
   ]
  },
  {
   "cell_type": "code",
   "execution_count": 53,
   "metadata": {
    "collapsed": false
   },
   "outputs": [],
   "source": [
    "#As a very simple model, use 'MONTH', 'DAY_OF_WEEK', 'DEP_DELAY', 'DISTANCE_GROUP', 'DEST', 'ARR_TIME_BLK','UNIQUE_CARRIER' should already gives a simple model. \n",
    "\n",
    "sample_df = df[['ARR_DEL15','DEP_DELAY/CRS_ELAPSED_TIME']]"
   ]
  },
  {
   "cell_type": "code",
   "execution_count": 54,
   "metadata": {
    "collapsed": false
   },
   "outputs": [
    {
     "data": {
      "text/plain": [
       "False"
      ]
     },
     "execution_count": 54,
     "metadata": {},
     "output_type": "execute_result"
    }
   ],
   "source": [
    "sample_df['DEP_DELAY/CRS_ELAPSED_TIME'].isnull().values.any()"
   ]
  },
  {
   "cell_type": "code",
   "execution_count": 55,
   "metadata": {
    "collapsed": true
   },
   "outputs": [],
   "source": [
    "train_df, test_df = train_test_split(sample_df, test_size = 0.2)"
   ]
  },
  {
   "cell_type": "code",
   "execution_count": 56,
   "metadata": {
    "collapsed": true
   },
   "outputs": [],
   "source": [
    "X_train = train_df.drop(['ARR_DEL15'], axis=1)\n",
    "X_test = test_df.drop(['ARR_DEL15'], axis = 1)\n",
    "Y_train = train_df['ARR_DEL15']\n",
    "Y_test = test_df['ARR_DEL15']"
   ]
  },
  {
   "cell_type": "code",
   "execution_count": 57,
   "metadata": {
    "collapsed": false
   },
   "outputs": [
    {
     "data": {
      "text/plain": [
       "92.54"
      ]
     },
     "execution_count": 57,
     "metadata": {},
     "output_type": "execute_result"
    }
   ],
   "source": [
    "# Logistic Regression\n",
    "\n",
    "logreg = LogisticRegression()\n",
    "logreg.fit(X_train, Y_train)\n",
    "Y_pred = logreg.predict(X_test)\n",
    "acc_log = round(logreg.score(X_train, Y_train) * 100, 2)\n",
    "acc_log"
   ]
  },
  {
   "cell_type": "code",
   "execution_count": 58,
   "metadata": {
    "collapsed": false
   },
   "outputs": [
    {
     "name": "stdout",
     "output_type": "stream",
     "text": [
      "             precision    recall  f1-score   support\n",
      "\n",
      "     ONTIME       0.93      0.98      0.96    914945\n",
      "    DELAYED       0.88      0.67      0.76    195895\n",
      "\n",
      "avg / total       0.92      0.93      0.92   1110840\n",
      "\n"
     ]
    }
   ],
   "source": [
    "target_names = ['ONTIME', 'DELAYED']\n",
    "print(classification_report(Y_test, Y_pred, target_names=target_names))"
   ]
  },
  {
   "cell_type": "markdown",
   "metadata": {},
   "source": [
    "What we find is we can predict the delay well from just one feature 'DEP_DELAY/CRS_ELAPSED_TIME'\n",
    "So we can drop most of the features from now on. "
   ]
  },
  {
   "cell_type": "code",
   "execution_count": 59,
   "metadata": {
    "collapsed": false,
    "scrolled": true
   },
   "outputs": [
    {
     "name": "stderr",
     "output_type": "stream",
     "text": [
      "/Users/zhuyuecheng/anaconda/lib/python2.7/site-packages/ipykernel/__main__.py:7: SettingWithCopyWarning: \n",
      "A value is trying to be set on a copy of a slice from a DataFrame.\n",
      "Try using .loc[row_indexer,col_indexer] = value instead\n",
      "\n",
      "See the caveats in the documentation: http://pandas.pydata.org/pandas-docs/stable/indexing.html#indexing-view-versus-copy\n"
     ]
    },
    {
     "data": {
      "text/html": [
       "<div>\n",
       "<table border=\"1\" class=\"dataframe\">\n",
       "  <thead>\n",
       "    <tr style=\"text-align: right;\">\n",
       "      <th></th>\n",
       "      <th>YEAR</th>\n",
       "      <th>QUARTER</th>\n",
       "      <th>MONTH</th>\n",
       "      <th>DAY_OF_MONTH</th>\n",
       "      <th>DAY_OF_WEEK</th>\n",
       "      <th>FL_DATE</th>\n",
       "      <th>UNIQUE_CARRIER</th>\n",
       "      <th>ORIGIN</th>\n",
       "      <th>DEST</th>\n",
       "      <th>DEP_DELAY</th>\n",
       "      <th>DEP_DEL15</th>\n",
       "      <th>DEP_TIME_BLK</th>\n",
       "      <th>ARR_DELAY</th>\n",
       "      <th>ARR_DEL15</th>\n",
       "      <th>ARR_TIME_BLK</th>\n",
       "      <th>CRS_ELAPSED_TIME</th>\n",
       "      <th>DISTANCE_GROUP</th>\n",
       "      <th>DEP_DELAY/CRS_ELAPSED_TIME</th>\n",
       "      <th>DEST_AIRPORT</th>\n",
       "      <th>AIRLINE</th>\n",
       "    </tr>\n",
       "  </thead>\n",
       "  <tbody>\n",
       "    <tr>\n",
       "      <th>0</th>\n",
       "      <td>2016</td>\n",
       "      <td>1</td>\n",
       "      <td>1</td>\n",
       "      <td>6</td>\n",
       "      <td>3</td>\n",
       "      <td>2016-01-06</td>\n",
       "      <td>AA</td>\n",
       "      <td>DFW</td>\n",
       "      <td>DTW</td>\n",
       "      <td>-3.0</td>\n",
       "      <td>0</td>\n",
       "      <td>1100-1159</td>\n",
       "      <td>-6.0</td>\n",
       "      <td>0</td>\n",
       "      <td>3</td>\n",
       "      <td>158.0</td>\n",
       "      <td>4</td>\n",
       "      <td>-0.018987</td>\n",
       "      <td>1</td>\n",
       "      <td>1</td>\n",
       "    </tr>\n",
       "    <tr>\n",
       "      <th>1</th>\n",
       "      <td>2016</td>\n",
       "      <td>1</td>\n",
       "      <td>1</td>\n",
       "      <td>7</td>\n",
       "      <td>4</td>\n",
       "      <td>2016-01-07</td>\n",
       "      <td>AA</td>\n",
       "      <td>DFW</td>\n",
       "      <td>DTW</td>\n",
       "      <td>-4.0</td>\n",
       "      <td>0</td>\n",
       "      <td>1100-1159</td>\n",
       "      <td>-12.0</td>\n",
       "      <td>0</td>\n",
       "      <td>3</td>\n",
       "      <td>158.0</td>\n",
       "      <td>4</td>\n",
       "      <td>-0.025316</td>\n",
       "      <td>1</td>\n",
       "      <td>1</td>\n",
       "    </tr>\n",
       "    <tr>\n",
       "      <th>2</th>\n",
       "      <td>2016</td>\n",
       "      <td>1</td>\n",
       "      <td>1</td>\n",
       "      <td>8</td>\n",
       "      <td>5</td>\n",
       "      <td>2016-01-08</td>\n",
       "      <td>AA</td>\n",
       "      <td>DFW</td>\n",
       "      <td>DTW</td>\n",
       "      <td>-5.0</td>\n",
       "      <td>0</td>\n",
       "      <td>1100-1159</td>\n",
       "      <td>7.0</td>\n",
       "      <td>0</td>\n",
       "      <td>3</td>\n",
       "      <td>158.0</td>\n",
       "      <td>4</td>\n",
       "      <td>-0.031646</td>\n",
       "      <td>1</td>\n",
       "      <td>1</td>\n",
       "    </tr>\n",
       "    <tr>\n",
       "      <th>3</th>\n",
       "      <td>2016</td>\n",
       "      <td>1</td>\n",
       "      <td>1</td>\n",
       "      <td>9</td>\n",
       "      <td>6</td>\n",
       "      <td>2016-01-09</td>\n",
       "      <td>AA</td>\n",
       "      <td>DFW</td>\n",
       "      <td>DTW</td>\n",
       "      <td>2.0</td>\n",
       "      <td>0</td>\n",
       "      <td>1100-1159</td>\n",
       "      <td>-5.0</td>\n",
       "      <td>0</td>\n",
       "      <td>3</td>\n",
       "      <td>158.0</td>\n",
       "      <td>4</td>\n",
       "      <td>0.012658</td>\n",
       "      <td>1</td>\n",
       "      <td>1</td>\n",
       "    </tr>\n",
       "    <tr>\n",
       "      <th>4</th>\n",
       "      <td>2016</td>\n",
       "      <td>1</td>\n",
       "      <td>1</td>\n",
       "      <td>10</td>\n",
       "      <td>7</td>\n",
       "      <td>2016-01-10</td>\n",
       "      <td>AA</td>\n",
       "      <td>DFW</td>\n",
       "      <td>DTW</td>\n",
       "      <td>100.0</td>\n",
       "      <td>1</td>\n",
       "      <td>1100-1159</td>\n",
       "      <td>113.0</td>\n",
       "      <td>1</td>\n",
       "      <td>3</td>\n",
       "      <td>158.0</td>\n",
       "      <td>4</td>\n",
       "      <td>0.632911</td>\n",
       "      <td>1</td>\n",
       "      <td>1</td>\n",
       "    </tr>\n",
       "  </tbody>\n",
       "</table>\n",
       "</div>"
      ],
      "text/plain": [
       "   YEAR  QUARTER  MONTH  DAY_OF_MONTH  DAY_OF_WEEK    FL_DATE UNIQUE_CARRIER  \\\n",
       "0  2016        1      1             6            3 2016-01-06             AA   \n",
       "1  2016        1      1             7            4 2016-01-07             AA   \n",
       "2  2016        1      1             8            5 2016-01-08             AA   \n",
       "3  2016        1      1             9            6 2016-01-09             AA   \n",
       "4  2016        1      1            10            7 2016-01-10             AA   \n",
       "\n",
       "  ORIGIN DEST  DEP_DELAY  DEP_DEL15 DEP_TIME_BLK  ARR_DELAY  ARR_DEL15  \\\n",
       "0    DFW  DTW       -3.0          0    1100-1159       -6.0          0   \n",
       "1    DFW  DTW       -4.0          0    1100-1159      -12.0          0   \n",
       "2    DFW  DTW       -5.0          0    1100-1159        7.0          0   \n",
       "3    DFW  DTW        2.0          0    1100-1159       -5.0          0   \n",
       "4    DFW  DTW      100.0          1    1100-1159      113.0          1   \n",
       "\n",
       "   ARR_TIME_BLK  CRS_ELAPSED_TIME  DISTANCE_GROUP  DEP_DELAY/CRS_ELAPSED_TIME  \\\n",
       "0             3             158.0               4                   -0.018987   \n",
       "1             3             158.0               4                   -0.025316   \n",
       "2             3             158.0               4                   -0.031646   \n",
       "3             3             158.0               4                    0.012658   \n",
       "4             3             158.0               4                    0.632911   \n",
       "\n",
       "   DEST_AIRPORT  AIRLINE  \n",
       "0             1        1  \n",
       "1             1        1  \n",
       "2             1        1  \n",
       "3             1        1  \n",
       "4             1        1  "
      ]
     },
     "execution_count": 59,
     "metadata": {},
     "output_type": "execute_result"
    }
   ],
   "source": [
    "df.loc[(df['ARR_TIME_BLK'] == '0001-0559') |(df['ARR_TIME_BLK'] == '0600-0659')|(df['ARR_TIME_BLK'] == '0700-0759')|(df['ARR_TIME_BLK'] == '0800-0859') , 'ARR_TIME_BLK'] = 1\n",
    "df.loc[(df['ARR_TIME_BLK'] == '0900-0959') |(df['ARR_TIME_BLK'] == '1000-1059')|(df['ARR_TIME_BLK'] == '1100-1159') , 'ARR_TIME_BLK'] = 2\n",
    "df.loc[(df['ARR_TIME_BLK'] == '1200-1259') |(df['ARR_TIME_BLK'] == '1300-1359')|(df['ARR_TIME_BLK'] == '1400-1459') , 'ARR_TIME_BLK'] = 3\n",
    "df.loc[(df['ARR_TIME_BLK'] == '1500-1559') |(df['ARR_TIME_BLK'] == '1600-1659')|(df['ARR_TIME_BLK'] == '1700-1759') , 'ARR_TIME_BLK'] = 4\n",
    "df.loc[(df['ARR_TIME_BLK'] == '1800-1859') |(df['ARR_TIME_BLK'] == '1900-1959')|(df['ARR_TIME_BLK'] == '2000-2059') , 'ARR_TIME_BLK'] = 5\n",
    "df.loc[(df['ARR_TIME_BLK'] == '2100-2159') |(df['ARR_TIME_BLK'] == '2200-2259')|(df['ARR_TIME_BLK'] == '2300-2359') , 'ARR_TIME_BLK'] = 6\n",
    "df['ARR_TIME_BLK'] = df['ARR_TIME_BLK'].astype(int)\n",
    "df.head()"
   ]
  },
  {
   "cell_type": "code",
   "execution_count": 60,
   "metadata": {
    "collapsed": false
   },
   "outputs": [
    {
     "data": {
      "text/plain": [
       "array(['MONTH', 'DAY_OF_WEEK', 'ARR_DEL15', 'ARR_TIME_BLK',\n",
       "       'DEP_DELAY/CRS_ELAPSED_TIME', 'DEST_AIRPORT', 'AIRLINE'], dtype=object)"
      ]
     },
     "execution_count": 60,
     "metadata": {},
     "output_type": "execute_result"
    }
   ],
   "source": [
    "df = df.drop(['YEAR','QUARTER','DAY_OF_MONTH', 'FL_DATE', 'UNIQUE_CARRIER', 'ORIGIN', 'DEST', 'DEP_DELAY','DEP_DEL15', 'DEP_TIME_BLK', 'ARR_DELAY','CRS_ELAPSED_TIME', 'DISTANCE_GROUP'], axis = 1)\n",
    "df.columns.values"
   ]
  },
  {
   "cell_type": "markdown",
   "metadata": {},
   "source": [
    "## Train Models"
   ]
  },
  {
   "cell_type": "code",
   "execution_count": 61,
   "metadata": {
    "collapsed": false
   },
   "outputs": [
    {
     "data": {
      "text/html": [
       "<div>\n",
       "<table border=\"1\" class=\"dataframe\">\n",
       "  <thead>\n",
       "    <tr style=\"text-align: right;\">\n",
       "      <th></th>\n",
       "      <th>MONTH</th>\n",
       "      <th>DAY_OF_WEEK</th>\n",
       "      <th>ARR_DEL15</th>\n",
       "      <th>ARR_TIME_BLK</th>\n",
       "      <th>DEP_DELAY/CRS_ELAPSED_TIME</th>\n",
       "      <th>DEST_AIRPORT</th>\n",
       "      <th>AIRLINE</th>\n",
       "    </tr>\n",
       "  </thead>\n",
       "  <tbody>\n",
       "    <tr>\n",
       "      <th>4113890</th>\n",
       "      <td>6</td>\n",
       "      <td>1</td>\n",
       "      <td>1</td>\n",
       "      <td>6</td>\n",
       "      <td>1.556391</td>\n",
       "      <td>2</td>\n",
       "      <td>1</td>\n",
       "    </tr>\n",
       "    <tr>\n",
       "      <th>1730290</th>\n",
       "      <td>12</td>\n",
       "      <td>6</td>\n",
       "      <td>0</td>\n",
       "      <td>5</td>\n",
       "      <td>0.006309</td>\n",
       "      <td>2</td>\n",
       "      <td>1</td>\n",
       "    </tr>\n",
       "    <tr>\n",
       "      <th>973787</th>\n",
       "      <td>11</td>\n",
       "      <td>7</td>\n",
       "      <td>0</td>\n",
       "      <td>3</td>\n",
       "      <td>-0.054054</td>\n",
       "      <td>2</td>\n",
       "      <td>1</td>\n",
       "    </tr>\n",
       "    <tr>\n",
       "      <th>3228407</th>\n",
       "      <td>5</td>\n",
       "      <td>7</td>\n",
       "      <td>0</td>\n",
       "      <td>5</td>\n",
       "      <td>0.042254</td>\n",
       "      <td>2</td>\n",
       "      <td>0</td>\n",
       "    </tr>\n",
       "    <tr>\n",
       "      <th>4152772</th>\n",
       "      <td>6</td>\n",
       "      <td>1</td>\n",
       "      <td>0</td>\n",
       "      <td>5</td>\n",
       "      <td>-0.025641</td>\n",
       "      <td>2</td>\n",
       "      <td>1</td>\n",
       "    </tr>\n",
       "  </tbody>\n",
       "</table>\n",
       "</div>"
      ],
      "text/plain": [
       "         MONTH  DAY_OF_WEEK  ARR_DEL15  ARR_TIME_BLK  \\\n",
       "4113890      6            1          1             6   \n",
       "1730290     12            6          0             5   \n",
       "973787      11            7          0             3   \n",
       "3228407      5            7          0             5   \n",
       "4152772      6            1          0             5   \n",
       "\n",
       "         DEP_DELAY/CRS_ELAPSED_TIME  DEST_AIRPORT  AIRLINE  \n",
       "4113890                    1.556391             2        1  \n",
       "1730290                    0.006309             2        1  \n",
       "973787                    -0.054054             2        1  \n",
       "3228407                    0.042254             2        0  \n",
       "4152772                   -0.025641             2        1  "
      ]
     },
     "execution_count": 61,
     "metadata": {},
     "output_type": "execute_result"
    }
   ],
   "source": [
    "train_df, test_df = train_test_split(df, test_size = 0.1)\n",
    "train_df.head()"
   ]
  },
  {
   "cell_type": "code",
   "execution_count": 62,
   "metadata": {
    "collapsed": false
   },
   "outputs": [
    {
     "data": {
      "text/plain": [
       "1941436    0\n",
       "343931     0\n",
       "4521593    0\n",
       "1684131    0\n",
       "5616862    1\n",
       "Name: ARR_DEL15, dtype: int64"
      ]
     },
     "execution_count": 62,
     "metadata": {},
     "output_type": "execute_result"
    }
   ],
   "source": [
    "X_train = train_df.drop(['ARR_DEL15'], axis = 1)\n",
    "X_test  = test_df.drop(['ARR_DEL15'], axis = 1)\n",
    "Y_train = train_df['ARR_DEL15']\n",
    "Y_test = test_df['ARR_DEL15']\n",
    "Y_test.head()"
   ]
  },
  {
   "cell_type": "markdown",
   "metadata": {},
   "source": [
    "First, we use a single model. Pick models from Linear Regression, Linear SVC, Gaussian Naive Bayes, Perceptron, Decision Tree and Random Forest."
   ]
  },
  {
   "cell_type": "code",
   "execution_count": 81,
   "metadata": {
    "collapsed": false
   },
   "outputs": [
    {
     "data": {
      "text/plain": [
       "92.61"
      ]
     },
     "execution_count": 81,
     "metadata": {},
     "output_type": "execute_result"
    }
   ],
   "source": [
    "# Logistic Regression\n",
    "\n",
    "logreg = LogisticRegression()\n",
    "logreg.fit(X_train, Y_train)\n",
    "Y_pred = logreg.predict(X_test)\n",
    "acc_log = round(logreg.score(X_train, Y_train) * 100, 2)\n",
    "acc_log"
   ]
  },
  {
   "cell_type": "code",
   "execution_count": 82,
   "metadata": {
    "collapsed": false
   },
   "outputs": [
    {
     "data": {
      "text/html": [
       "<div>\n",
       "<table border=\"1\" class=\"dataframe\">\n",
       "  <thead>\n",
       "    <tr style=\"text-align: right;\">\n",
       "      <th></th>\n",
       "      <th>Feature</th>\n",
       "      <th>Correlation</th>\n",
       "    </tr>\n",
       "  </thead>\n",
       "  <tbody>\n",
       "    <tr>\n",
       "      <th>3</th>\n",
       "      <td>DEP_DELAY/CRS_ELAPSED_TIME</td>\n",
       "      <td>16.203473</td>\n",
       "    </tr>\n",
       "    <tr>\n",
       "      <th>4</th>\n",
       "      <td>DEST_AIRPORT</td>\n",
       "      <td>0.413280</td>\n",
       "    </tr>\n",
       "    <tr>\n",
       "      <th>5</th>\n",
       "      <td>AIRLINE</td>\n",
       "      <td>0.214282</td>\n",
       "    </tr>\n",
       "    <tr>\n",
       "      <th>2</th>\n",
       "      <td>ARR_TIME_BLK</td>\n",
       "      <td>0.048959</td>\n",
       "    </tr>\n",
       "    <tr>\n",
       "      <th>0</th>\n",
       "      <td>MONTH</td>\n",
       "      <td>0.007552</td>\n",
       "    </tr>\n",
       "    <tr>\n",
       "      <th>1</th>\n",
       "      <td>DAY_OF_WEEK</td>\n",
       "      <td>-0.006738</td>\n",
       "    </tr>\n",
       "  </tbody>\n",
       "</table>\n",
       "</div>"
      ],
      "text/plain": [
       "                      Feature  Correlation\n",
       "3  DEP_DELAY/CRS_ELAPSED_TIME    16.203473\n",
       "4                DEST_AIRPORT     0.413280\n",
       "5                     AIRLINE     0.214282\n",
       "2                ARR_TIME_BLK     0.048959\n",
       "0                       MONTH     0.007552\n",
       "1                 DAY_OF_WEEK    -0.006738"
      ]
     },
     "execution_count": 82,
     "metadata": {},
     "output_type": "execute_result"
    }
   ],
   "source": [
    "coeff_df = pd.DataFrame(X_train.columns)\n",
    "coeff_df.columns = ['Feature']\n",
    "coeff_df[\"Correlation\"] = pd.Series(logreg.coef_[0])\n",
    "\n",
    "coeff_df.sort_values(by='Correlation', ascending=False)"
   ]
  },
  {
   "cell_type": "code",
   "execution_count": 83,
   "metadata": {
    "collapsed": false
   },
   "outputs": [
    {
     "name": "stdout",
     "output_type": "stream",
     "text": [
      "             precision    recall  f1-score   support\n",
      "\n",
      "     ONTIME       0.93      0.98      0.96    457776\n",
      "    DELAYED       0.88      0.67      0.76     97644\n",
      "\n",
      "avg / total       0.92      0.93      0.92    555420\n",
      "\n"
     ]
    }
   ],
   "source": [
    "target_names = ['ONTIME', 'DELAYED']\n",
    "print(classification_report(Y_test, Y_pred, target_names=target_names))"
   ]
  },
  {
   "cell_type": "code",
   "execution_count": 84,
   "metadata": {
    "collapsed": false
   },
   "outputs": [
    {
     "name": "stdout",
     "output_type": "stream",
     "text": [
      "0.926732922833\n"
     ]
    }
   ],
   "source": [
    "print(accuracy_score(Y_test, Y_pred))"
   ]
  },
  {
   "cell_type": "code",
   "execution_count": 64,
   "metadata": {
    "collapsed": false
   },
   "outputs": [
    {
     "data": {
      "text/plain": [
       "92.56"
      ]
     },
     "execution_count": 64,
     "metadata": {},
     "output_type": "execute_result"
    }
   ],
   "source": [
    "# Linear SVC\n",
    "\n",
    "linear_svc = LinearSVC()\n",
    "linear_svc.fit(X_train, Y_train)\n",
    "Y_pred = linear_svc.predict(X_test)\n",
    "acc_linear_svc = round(linear_svc.score(X_train, Y_train) * 100, 2)\n",
    "acc_linear_svc"
   ]
  },
  {
   "cell_type": "code",
   "execution_count": 65,
   "metadata": {
    "collapsed": false
   },
   "outputs": [
    {
     "name": "stdout",
     "output_type": "stream",
     "text": [
      "             precision    recall  f1-score   support\n",
      "\n",
      "     ONTIME       0.93      0.98      0.96    457776\n",
      "    DELAYED       0.89      0.66      0.76     97644\n",
      "\n",
      "avg / total       0.92      0.93      0.92    555420\n",
      "\n"
     ]
    }
   ],
   "source": [
    "print(classification_report(Y_test, Y_pred, target_names=target_names))"
   ]
  },
  {
   "cell_type": "code",
   "execution_count": 66,
   "metadata": {
    "collapsed": false
   },
   "outputs": [
    {
     "name": "stdout",
     "output_type": "stream",
     "text": [
      "0.926245003781\n"
     ]
    }
   ],
   "source": [
    "print(accuracy_score(Y_test, Y_pred))"
   ]
  },
  {
   "cell_type": "code",
   "execution_count": 67,
   "metadata": {
    "collapsed": false
   },
   "outputs": [
    {
     "data": {
      "text/plain": [
       "92.57"
      ]
     },
     "execution_count": 67,
     "metadata": {},
     "output_type": "execute_result"
    }
   ],
   "source": [
    "# Gaussian Naive Bayes\n",
    "\n",
    "gaussian = GaussianNB()\n",
    "gaussian.fit(X_train, Y_train)\n",
    "Y_pred = gaussian.predict(X_test)\n",
    "acc_gaussian = round(gaussian.score(X_train, Y_train) * 100, 2)\n",
    "acc_gaussian"
   ]
  },
  {
   "cell_type": "code",
   "execution_count": 68,
   "metadata": {
    "collapsed": false
   },
   "outputs": [
    {
     "name": "stdout",
     "output_type": "stream",
     "text": [
      "             precision    recall  f1-score   support\n",
      "\n",
      "     ONTIME       0.94      0.98      0.96    457776\n",
      "    DELAYED       0.86      0.69      0.77     97644\n",
      "\n",
      "avg / total       0.92      0.93      0.92    555420\n",
      "\n"
     ]
    }
   ],
   "source": [
    "print(classification_report(Y_test, Y_pred, target_names=target_names))"
   ]
  },
  {
   "cell_type": "code",
   "execution_count": 69,
   "metadata": {
    "collapsed": false
   },
   "outputs": [
    {
     "name": "stdout",
     "output_type": "stream",
     "text": [
      "0.926153181376\n"
     ]
    }
   ],
   "source": [
    "print(accuracy_score(Y_test, Y_pred))"
   ]
  },
  {
   "cell_type": "code",
   "execution_count": 70,
   "metadata": {
    "collapsed": false
   },
   "outputs": [
    {
     "data": {
      "text/plain": [
       "91.46"
      ]
     },
     "execution_count": 70,
     "metadata": {},
     "output_type": "execute_result"
    }
   ],
   "source": [
    "# Perceptron\n",
    "\n",
    "perceptron = Perceptron()\n",
    "perceptron.fit(X_train, Y_train)\n",
    "Y_pred = perceptron.predict(X_test)\n",
    "acc_perceptron = round(perceptron.score(X_train, Y_train) * 100, 2)\n",
    "acc_perceptron"
   ]
  },
  {
   "cell_type": "code",
   "execution_count": 71,
   "metadata": {
    "collapsed": false
   },
   "outputs": [
    {
     "name": "stdout",
     "output_type": "stream",
     "text": [
      "             precision    recall  f1-score   support\n",
      "\n",
      "     ONTIME       0.94      0.95      0.95    457776\n",
      "    DELAYED       0.77      0.74      0.75     97644\n",
      "\n",
      "avg / total       0.91      0.92      0.91    555420\n",
      "\n"
     ]
    }
   ],
   "source": [
    "print(classification_report(Y_test, Y_pred, target_names=target_names))"
   ]
  },
  {
   "cell_type": "code",
   "execution_count": 72,
   "metadata": {
    "collapsed": false
   },
   "outputs": [
    {
     "name": "stdout",
     "output_type": "stream",
     "text": [
      "0.915269525764\n"
     ]
    }
   ],
   "source": [
    "print(accuracy_score(Y_test, Y_pred))"
   ]
  },
  {
   "cell_type": "code",
   "execution_count": 73,
   "metadata": {
    "collapsed": false
   },
   "outputs": [
    {
     "data": {
      "text/plain": [
       "97.06"
      ]
     },
     "execution_count": 73,
     "metadata": {},
     "output_type": "execute_result"
    }
   ],
   "source": [
    "# Decision Tree\n",
    "\n",
    "decision_tree = DecisionTreeClassifier()\n",
    "decision_tree.fit(X_train, Y_train)\n",
    "Y_pred = decision_tree.predict(X_test)\n",
    "acc_decision_tree = round(decision_tree.score(X_train, Y_train) * 100, 2)\n",
    "acc_decision_tree"
   ]
  },
  {
   "cell_type": "code",
   "execution_count": 74,
   "metadata": {
    "collapsed": false
   },
   "outputs": [
    {
     "name": "stdout",
     "output_type": "stream",
     "text": [
      "             precision    recall  f1-score   support\n",
      "\n",
      "     ONTIME       0.93      0.95      0.94    457776\n",
      "    DELAYED       0.75      0.67      0.71     97644\n",
      "\n",
      "avg / total       0.90      0.90      0.90    555420\n",
      "\n"
     ]
    }
   ],
   "source": [
    "print(classification_report(Y_test, Y_pred, target_names=target_names))"
   ]
  },
  {
   "cell_type": "code",
   "execution_count": 75,
   "metadata": {
    "collapsed": false
   },
   "outputs": [
    {
     "name": "stdout",
     "output_type": "stream",
     "text": [
      "0.903078751215\n"
     ]
    }
   ],
   "source": [
    "print(accuracy_score(Y_test, Y_pred))"
   ]
  },
  {
   "cell_type": "code",
   "execution_count": 76,
   "metadata": {
    "collapsed": false
   },
   "outputs": [
    {
     "data": {
      "text/plain": [
       "97.06"
      ]
     },
     "execution_count": 76,
     "metadata": {},
     "output_type": "execute_result"
    }
   ],
   "source": [
    "# Random Forest\n",
    "\n",
    "random_forest = RandomForestClassifier(n_estimators=100)\n",
    "random_forest.fit(X_train, Y_train)\n",
    "Y_pred = random_forest.predict(X_test)\n",
    "random_forest.score(X_train, Y_train)\n",
    "acc_random_forest = round(random_forest.score(X_train, Y_train) * 100, 2)\n",
    "acc_random_forest"
   ]
  },
  {
   "cell_type": "code",
   "execution_count": 77,
   "metadata": {
    "collapsed": false
   },
   "outputs": [
    {
     "name": "stdout",
     "output_type": "stream",
     "text": [
      "             precision    recall  f1-score   support\n",
      "\n",
      "     ONTIME       0.93      0.96      0.94    457776\n",
      "    DELAYED       0.76      0.68      0.72     97644\n",
      "\n",
      "avg / total       0.90      0.91      0.91    555420\n",
      "\n"
     ]
    }
   ],
   "source": [
    "print(classification_report(Y_test, Y_pred, target_names=target_names))"
   ]
  },
  {
   "cell_type": "code",
   "execution_count": 78,
   "metadata": {
    "collapsed": false
   },
   "outputs": [
    {
     "name": "stdout",
     "output_type": "stream",
     "text": [
      "0.907136941414\n"
     ]
    }
   ],
   "source": [
    "print(accuracy_score(Y_test, Y_pred))"
   ]
  },
  {
   "cell_type": "markdown",
   "metadata": {},
   "source": [
    "## Evaluation\n",
    "Evaluation of the models: Logistic regression, Linear SVC and Gaussian Naive Bayes are the best. The results are also close to the simple model using only one feature 'DEP_DELAY/CRS_ELAPSED_TIME'. Therefore there is no essential improvement from including other features. The f1 score is 0.92, which is quite good. \n",
    "<br>\n",
    "The Perceptron, Decision Tree and Random Forest behave worse. The f1 scores are all around 0.91. In particular, Decesion Tree and Random Forest overfits the training data. "
   ]
  },
  {
   "cell_type": "markdown",
   "metadata": {},
   "source": [
    "## Conclusion\n",
    "The conclusion is the engineered feature 'DEP_DELAY/CRS_ELAPSED_TIME' alone can predict the arrival delay very well. The explaination is that the makeup minutes / flight minute is almost fixed. The longer the flight is, the more delayed time can be saved. It basically determines whether a flight will arrive at the destination on time. All other features may be used to make further corrections if we use boosting methods.\n",
    "<br>\n",
    "This prediction is based on the condition that we have the information about the departure. That is the prediction can only be made after the flight takes off. However, if we want to predict delays before the departure, we need to predict the departure delays as well. For that case, it is better to include weather data. Moreover, if the target flight is scheduled late in the day, we can also include data about the early delays of filghts. "
   ]
  },
  {
   "cell_type": "code",
   "execution_count": null,
   "metadata": {
    "collapsed": true
   },
   "outputs": [],
   "source": []
  }
 ],
 "metadata": {
  "kernelspec": {
   "display_name": "Python 2",
   "language": "python",
   "name": "python2"
  },
  "language_info": {
   "codemirror_mode": {
    "name": "ipython",
    "version": 2
   },
   "file_extension": ".py",
   "mimetype": "text/x-python",
   "name": "python",
   "nbconvert_exporter": "python",
   "pygments_lexer": "ipython2",
   "version": "2.7.13"
  }
 },
 "nbformat": 4,
 "nbformat_minor": 2
}
